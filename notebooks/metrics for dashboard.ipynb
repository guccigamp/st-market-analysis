{
 "cells": [
  {
   "cell_type": "code",
   "execution_count": 7,
   "id": "initial_id",
   "metadata": {
    "ExecuteTime": {
     "end_time": "2024-10-15T03:47:36.368233Z",
     "start_time": "2024-10-15T03:47:36.364853Z"
    },
    "collapsed": true
   },
   "outputs": [],
   "source": [
    "import pandas as pd"
   ]
  },
  {
   "cell_type": "code",
   "execution_count": 8,
   "id": "78177eb47be3467f",
   "metadata": {
    "ExecuteTime": {
     "end_time": "2024-10-15T03:47:36.389469Z",
     "start_time": "2024-10-15T03:47:36.369460Z"
    }
   },
   "outputs": [
    {
     "data": {
      "text/html": [
       "<div>\n",
       "<style scoped>\n",
       "    .dataframe tbody tr th:only-of-type {\n",
       "        vertical-align: middle;\n",
       "    }\n",
       "\n",
       "    .dataframe tbody tr th {\n",
       "        vertical-align: top;\n",
       "    }\n",
       "\n",
       "    .dataframe thead th {\n",
       "        text-align: right;\n",
       "    }\n",
       "</style>\n",
       "<table border=\"1\" class=\"dataframe\">\n",
       "  <thead>\n",
       "    <tr style=\"text-align: right;\">\n",
       "      <th></th>\n",
       "      <th>company</th>\n",
       "      <th>city</th>\n",
       "      <th>state</th>\n",
       "      <th>latitude</th>\n",
       "      <th>longitude</th>\n",
       "      <th>text</th>\n",
       "      <th>color</th>\n",
       "    </tr>\n",
       "  </thead>\n",
       "  <tbody>\n",
       "    <tr>\n",
       "      <th>0</th>\n",
       "      <td>Alleguard - Huntington</td>\n",
       "      <td>Grove City</td>\n",
       "      <td>OH</td>\n",
       "      <td>39.882193</td>\n",
       "      <td>-83.093538</td>\n",
       "      <td>Alleguard - Huntington&lt;br&gt;Grove City, OH</td>\n",
       "      <td>#60D13B</td>\n",
       "    </tr>\n",
       "    <tr>\n",
       "      <th>1</th>\n",
       "      <td>Alleguard - Huntington</td>\n",
       "      <td>Bastrop</td>\n",
       "      <td>TX</td>\n",
       "      <td>30.110495</td>\n",
       "      <td>-97.315270</td>\n",
       "      <td>Alleguard - Huntington&lt;br&gt;Bastrop, TX</td>\n",
       "      <td>#60D13B</td>\n",
       "    </tr>\n",
       "    <tr>\n",
       "      <th>2</th>\n",
       "      <td>Alleguard - Huntington</td>\n",
       "      <td>Cave Spring</td>\n",
       "      <td>GA</td>\n",
       "      <td>34.107597</td>\n",
       "      <td>-85.336343</td>\n",
       "      <td>Alleguard - Huntington&lt;br&gt;Cave Spring, GA</td>\n",
       "      <td>#60D13B</td>\n",
       "    </tr>\n",
       "    <tr>\n",
       "      <th>3</th>\n",
       "      <td>Cellofoam</td>\n",
       "      <td>Whiteland</td>\n",
       "      <td>IN</td>\n",
       "      <td>39.550049</td>\n",
       "      <td>-86.079708</td>\n",
       "      <td>Cellofoam&lt;br&gt;Whiteland, IN</td>\n",
       "      <td>#EEC07E</td>\n",
       "    </tr>\n",
       "    <tr>\n",
       "      <th>4</th>\n",
       "      <td>Cellofoam</td>\n",
       "      <td>Sallisaw</td>\n",
       "      <td>OK</td>\n",
       "      <td>35.460371</td>\n",
       "      <td>-94.787446</td>\n",
       "      <td>Cellofoam&lt;br&gt;Sallisaw, OK</td>\n",
       "      <td>#EEC07E</td>\n",
       "    </tr>\n",
       "    <tr>\n",
       "      <th>...</th>\n",
       "      <td>...</td>\n",
       "      <td>...</td>\n",
       "      <td>...</td>\n",
       "      <td>...</td>\n",
       "      <td>...</td>\n",
       "      <td>...</td>\n",
       "      <td>...</td>\n",
       "    </tr>\n",
       "    <tr>\n",
       "      <th>108</th>\n",
       "      <td>Altor Solutions</td>\n",
       "      <td>North Andover</td>\n",
       "      <td>MA</td>\n",
       "      <td>42.698700</td>\n",
       "      <td>-71.135100</td>\n",
       "      <td>Altor Solutions&lt;br&gt;North Andover, MA</td>\n",
       "      <td>#942AAE</td>\n",
       "    </tr>\n",
       "    <tr>\n",
       "      <th>109</th>\n",
       "      <td>Altor Solutions</td>\n",
       "      <td>St. Petersburg</td>\n",
       "      <td>FL</td>\n",
       "      <td>27.770400</td>\n",
       "      <td>-82.679300</td>\n",
       "      <td>Altor Solutions&lt;br&gt;St. Petersburg, FL</td>\n",
       "      <td>#942AAE</td>\n",
       "    </tr>\n",
       "    <tr>\n",
       "      <th>110</th>\n",
       "      <td>Altor Solutions</td>\n",
       "      <td>Waxahachie</td>\n",
       "      <td>TX</td>\n",
       "      <td>32.386500</td>\n",
       "      <td>-96.848300</td>\n",
       "      <td>Altor Solutions&lt;br&gt;Waxahachie, TX</td>\n",
       "      <td>#942AAE</td>\n",
       "    </tr>\n",
       "    <tr>\n",
       "      <th>111</th>\n",
       "      <td>Altor Solutions</td>\n",
       "      <td>Vernon</td>\n",
       "      <td>CA</td>\n",
       "      <td>34.003900</td>\n",
       "      <td>-118.230200</td>\n",
       "      <td>Altor Solutions&lt;br&gt;Vernon, CA</td>\n",
       "      <td>#942AAE</td>\n",
       "    </tr>\n",
       "    <tr>\n",
       "      <th>112</th>\n",
       "      <td>Altor Solutions</td>\n",
       "      <td>Huntington Beach</td>\n",
       "      <td>CA</td>\n",
       "      <td>33.659500</td>\n",
       "      <td>-117.998800</td>\n",
       "      <td>Altor Solutions&lt;br&gt;Huntington Beach, CA</td>\n",
       "      <td>#942AAE</td>\n",
       "    </tr>\n",
       "  </tbody>\n",
       "</table>\n",
       "<p>113 rows × 7 columns</p>\n",
       "</div>"
      ],
      "text/plain": [
       "                    company              city state   latitude   longitude  \\\n",
       "0    Alleguard - Huntington        Grove City    OH  39.882193  -83.093538   \n",
       "1    Alleguard - Huntington           Bastrop    TX  30.110495  -97.315270   \n",
       "2    Alleguard - Huntington       Cave Spring    GA  34.107597  -85.336343   \n",
       "3                 Cellofoam         Whiteland    IN  39.550049  -86.079708   \n",
       "4                 Cellofoam          Sallisaw    OK  35.460371  -94.787446   \n",
       "..                      ...               ...   ...        ...         ...   \n",
       "108         Altor Solutions     North Andover    MA  42.698700  -71.135100   \n",
       "109         Altor Solutions    St. Petersburg    FL  27.770400  -82.679300   \n",
       "110         Altor Solutions        Waxahachie    TX  32.386500  -96.848300   \n",
       "111         Altor Solutions            Vernon    CA  34.003900 -118.230200   \n",
       "112         Altor Solutions  Huntington Beach    CA  33.659500 -117.998800   \n",
       "\n",
       "                                          text    color  \n",
       "0     Alleguard - Huntington<br>Grove City, OH  #60D13B  \n",
       "1        Alleguard - Huntington<br>Bastrop, TX  #60D13B  \n",
       "2    Alleguard - Huntington<br>Cave Spring, GA  #60D13B  \n",
       "3                   Cellofoam<br>Whiteland, IN  #EEC07E  \n",
       "4                    Cellofoam<br>Sallisaw, OK  #EEC07E  \n",
       "..                                         ...      ...  \n",
       "108       Altor Solutions<br>North Andover, MA  #942AAE  \n",
       "109      Altor Solutions<br>St. Petersburg, FL  #942AAE  \n",
       "110          Altor Solutions<br>Waxahachie, TX  #942AAE  \n",
       "111              Altor Solutions<br>Vernon, CA  #942AAE  \n",
       "112    Altor Solutions<br>Huntington Beach, CA  #942AAE  \n",
       "\n",
       "[113 rows x 7 columns]"
      ]
     },
     "execution_count": 8,
     "metadata": {},
     "output_type": "execute_result"
    }
   ],
   "source": [
    "df = pd.read_csv(\"../datasets/companies_locations.csv\")\n",
    "df"
   ]
  },
  {
   "cell_type": "code",
   "execution_count": 9,
   "id": "40af7027dbd07066",
   "metadata": {
    "ExecuteTime": {
     "end_time": "2024-10-15T03:47:36.395589Z",
     "start_time": "2024-10-15T03:47:36.390503Z"
    }
   },
   "outputs": [
    {
     "data": {
      "text/plain": [
       "37"
      ]
     },
     "execution_count": 9,
     "metadata": {},
     "output_type": "execute_result"
    }
   ],
   "source": [
    "# Number of Companies\n",
    "len(df.company.unique())"
   ]
  },
  {
   "cell_type": "code",
   "execution_count": 10,
   "id": "17ba58049c8e4d33",
   "metadata": {
    "ExecuteTime": {
     "end_time": "2024-10-15T03:47:36.402422Z",
     "start_time": "2024-10-15T03:47:36.396619Z"
    }
   },
   "outputs": [
    {
     "data": {
      "text/plain": [
       "'Altor Solutions'"
      ]
     },
     "execution_count": 10,
     "metadata": {},
     "output_type": "execute_result"
    }
   ],
   "source": [
    "# Company with most warehouses\n",
    "df.company.value_counts().index[0]"
   ]
  },
  {
   "cell_type": "code",
   "execution_count": 11,
   "id": "a9627ae16a166f04",
   "metadata": {
    "ExecuteTime": {
     "end_time": "2024-10-15T03:51:51.215667Z",
     "start_time": "2024-10-15T03:51:51.208225Z"
    }
   },
   "outputs": [
    {
     "data": {
      "text/plain": [
       "state\n",
       "CA           13\n",
       "TX            9\n",
       "GA            8\n",
       "FL            6\n",
       "OH            5\n",
       "MI            4\n",
       "IN            4\n",
       "VA            4\n",
       "AZ            4\n",
       "TN            4\n",
       "MO            4\n",
       "CO            4\n",
       "MA            3\n",
       "PA            3\n",
       "WI            3\n",
       "UT            3\n",
       "SC            3\n",
       "NV            2\n",
       "IA            2\n",
       "KY            2\n",
       "MN            2\n",
       "NE            2\n",
       "NJ            2\n",
       "WA            2\n",
       "IL            1\n",
       "NY            1\n",
       "Queretaro     1\n",
       "AR            1\n",
       "BC            1\n",
       "AK            1\n",
       "KS            1\n",
       "SD            1\n",
       "CT            1\n",
       "ID            1\n",
       "RI            1\n",
       "AL            1\n",
       "NC            1\n",
       "OK            1\n",
       "MD            1\n",
       "Name: count, dtype: int64"
      ]
     },
     "execution_count": 11,
     "metadata": {},
     "output_type": "execute_result"
    }
   ],
   "source": [
    "df[\"state\"].value_counts()"
   ]
  },
  {
   "cell_type": "code",
   "execution_count": 12,
   "id": "698fa64d835c4150",
   "metadata": {
    "ExecuteTime": {
     "end_time": "2024-10-15T04:25:05.706166Z",
     "start_time": "2024-10-15T04:25:05.699872Z"
    }
   },
   "outputs": [
    {
     "data": {
      "text/plain": [
       "Index(['company', 'city', 'state', 'latitude', 'longitude', 'text', 'color'], dtype='object')"
      ]
     },
     "execution_count": 12,
     "metadata": {},
     "output_type": "execute_result"
    }
   ],
   "source": [
    "df.columns"
   ]
  },
  {
   "cell_type": "code",
   "execution_count": 13,
   "id": "13da9a53513bcd17",
   "metadata": {},
   "outputs": [
    {
     "data": {
      "text/plain": [
       "90                    Altor Solutions<br>Northbridge, MA\n",
       "91                     Altor Solutions<br>Bloomsburg, PA\n",
       "92                       Altor Solutions<br>Anderson, SC\n",
       "93                      Altor Solutions<br>Jefferson, GA\n",
       "94                   Altor Solutions<br>Gnadenhutten, OH\n",
       "95                     Altor Solutions<br>New Albany, IN\n",
       "96                        Altor Solutions<br>Jackson, TN\n",
       "97                       Altor Solutions<br>Plymouth, WI\n",
       "98                   Altor Solutions<br>Fort Madison, IA\n",
       "99              Altor Solutions<br>El Dorado Springs, MO\n",
       "100                        Altor Solutions<br>Keller, TX\n",
       "101                       Altor Solutions<br>Modesto, CA\n",
       "102                       Altor Solutions<br>Compton, CA\n",
       "103                     Altor Solutions<br>St. Louis, MO\n",
       "104    Altor Solutions<br>St. Rosa Jaurequi (Queretar...\n",
       "105    Altor Solutions<br>St. Rosa Jaurequi (Baja Cal...\n",
       "106                       Altor Solutions<br>Belcamp, MD\n",
       "107                          Altor Solutions<br>Rome, GA\n",
       "108                 Altor Solutions<br>North Andover, MA\n",
       "109                Altor Solutions<br>St. Petersburg, FL\n",
       "110                    Altor Solutions<br>Waxahachie, TX\n",
       "111                        Altor Solutions<br>Vernon, CA\n",
       "112              Altor Solutions<br>Huntington Beach, CA\n",
       "Name: text, dtype: object"
      ]
     },
     "execution_count": 13,
     "metadata": {},
     "output_type": "execute_result"
    }
   ],
   "source": [
    "df.query(f\"company == 'Altor Solutions'\")[\"text\"]"
   ]
  }
 ],
 "metadata": {
  "kernelspec": {
   "display_name": "base",
   "language": "python",
   "name": "python3"
  },
  "language_info": {
   "codemirror_mode": {
    "name": "ipython",
    "version": 3
   },
   "file_extension": ".py",
   "mimetype": "text/x-python",
   "name": "python",
   "nbconvert_exporter": "python",
   "pygments_lexer": "ipython3",
   "version": "3.12.7"
  }
 },
 "nbformat": 4,
 "nbformat_minor": 5
}
