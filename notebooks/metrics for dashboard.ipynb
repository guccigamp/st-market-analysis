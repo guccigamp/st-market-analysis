{
 "cells": [
  {
   "cell_type": "code",
   "id": "initial_id",
   "metadata": {
    "collapsed": true,
    "ExecuteTime": {
     "end_time": "2024-10-15T03:47:36.368233Z",
     "start_time": "2024-10-15T03:47:36.364853Z"
    }
   },
   "source": "import pandas as pd",
   "outputs": [],
   "execution_count": 14
  },
  {
   "metadata": {
    "ExecuteTime": {
     "end_time": "2024-10-15T03:47:36.389469Z",
     "start_time": "2024-10-15T03:47:36.369460Z"
    }
   },
   "cell_type": "code",
   "source": [
    "df = pd.read_csv(\"../datasets/companies_locations.csv\")\n",
    "df"
   ],
   "id": "78177eb47be3467f",
   "outputs": [
    {
     "data": {
      "text/plain": [
       "                    company             location   latitude  longitude  \\\n",
       "0           Altor Solutions      Northbridge, MA  42.151400 -71.650000   \n",
       "1           Altor Solutions       Bloomsburg, PA  41.002500 -76.458100   \n",
       "2           Altor Solutions         Anderson, SC  34.504900 -82.652400   \n",
       "3           Altor Solutions        Jefferson, GA  34.126700 -83.590300   \n",
       "4           Altor Solutions     Gnadenhutten, OH  40.360800 -81.431700   \n",
       "..                      ...                  ...        ...        ...   \n",
       "98   Alleguard - Huntington          Radford, VA  37.131792 -80.576448   \n",
       "99   Alleguard - Huntington  West Brookfield, MA  42.235346 -72.141164   \n",
       "100  Alleguard - Huntington       Monticello, AR  33.629670 -91.802186   \n",
       "101        Armstrong Brands          Buffalo, NY  42.886447 -78.878369   \n",
       "102                     EFP          Elkhart, IN  41.687383 -85.973517   \n",
       "\n",
       "                                                  text    color  \n",
       "0    Altor Solutions<br>Warehouse Location: Northbr...  #f67088  \n",
       "1    Altor Solutions<br>Warehouse Location: Bloomsb...  #f67088  \n",
       "2    Altor Solutions<br>Warehouse Location: Anderso...  #f67088  \n",
       "3    Altor Solutions<br>Warehouse Location: Jeffers...  #f67088  \n",
       "4    Altor Solutions<br>Warehouse Location: Gnadenh...  #f67088  \n",
       "..                                                 ...      ...  \n",
       "98   Alleguard - Huntington<br>Warehouse Location: ...  #f7736f  \n",
       "99   Alleguard - Huntington<br>Warehouse Location: ...  #f7736f  \n",
       "100  Alleguard - Huntington<br>Warehouse Location: ...  #f7736f  \n",
       "101  Armstrong Brands<br>Warehouse Location: Buffal...  #f66d9e  \n",
       "102             EFP<br>Warehouse Location: Elkhart, IN  #d78b31  \n",
       "\n",
       "[103 rows x 6 columns]"
      ],
      "text/html": [
       "<div>\n",
       "<style scoped>\n",
       "    .dataframe tbody tr th:only-of-type {\n",
       "        vertical-align: middle;\n",
       "    }\n",
       "\n",
       "    .dataframe tbody tr th {\n",
       "        vertical-align: top;\n",
       "    }\n",
       "\n",
       "    .dataframe thead th {\n",
       "        text-align: right;\n",
       "    }\n",
       "</style>\n",
       "<table border=\"1\" class=\"dataframe\">\n",
       "  <thead>\n",
       "    <tr style=\"text-align: right;\">\n",
       "      <th></th>\n",
       "      <th>company</th>\n",
       "      <th>location</th>\n",
       "      <th>latitude</th>\n",
       "      <th>longitude</th>\n",
       "      <th>text</th>\n",
       "      <th>color</th>\n",
       "    </tr>\n",
       "  </thead>\n",
       "  <tbody>\n",
       "    <tr>\n",
       "      <th>0</th>\n",
       "      <td>Altor Solutions</td>\n",
       "      <td>Northbridge, MA</td>\n",
       "      <td>42.151400</td>\n",
       "      <td>-71.650000</td>\n",
       "      <td>Altor Solutions&lt;br&gt;Warehouse Location: Northbr...</td>\n",
       "      <td>#f67088</td>\n",
       "    </tr>\n",
       "    <tr>\n",
       "      <th>1</th>\n",
       "      <td>Altor Solutions</td>\n",
       "      <td>Bloomsburg, PA</td>\n",
       "      <td>41.002500</td>\n",
       "      <td>-76.458100</td>\n",
       "      <td>Altor Solutions&lt;br&gt;Warehouse Location: Bloomsb...</td>\n",
       "      <td>#f67088</td>\n",
       "    </tr>\n",
       "    <tr>\n",
       "      <th>2</th>\n",
       "      <td>Altor Solutions</td>\n",
       "      <td>Anderson, SC</td>\n",
       "      <td>34.504900</td>\n",
       "      <td>-82.652400</td>\n",
       "      <td>Altor Solutions&lt;br&gt;Warehouse Location: Anderso...</td>\n",
       "      <td>#f67088</td>\n",
       "    </tr>\n",
       "    <tr>\n",
       "      <th>3</th>\n",
       "      <td>Altor Solutions</td>\n",
       "      <td>Jefferson, GA</td>\n",
       "      <td>34.126700</td>\n",
       "      <td>-83.590300</td>\n",
       "      <td>Altor Solutions&lt;br&gt;Warehouse Location: Jeffers...</td>\n",
       "      <td>#f67088</td>\n",
       "    </tr>\n",
       "    <tr>\n",
       "      <th>4</th>\n",
       "      <td>Altor Solutions</td>\n",
       "      <td>Gnadenhutten, OH</td>\n",
       "      <td>40.360800</td>\n",
       "      <td>-81.431700</td>\n",
       "      <td>Altor Solutions&lt;br&gt;Warehouse Location: Gnadenh...</td>\n",
       "      <td>#f67088</td>\n",
       "    </tr>\n",
       "    <tr>\n",
       "      <th>...</th>\n",
       "      <td>...</td>\n",
       "      <td>...</td>\n",
       "      <td>...</td>\n",
       "      <td>...</td>\n",
       "      <td>...</td>\n",
       "      <td>...</td>\n",
       "    </tr>\n",
       "    <tr>\n",
       "      <th>98</th>\n",
       "      <td>Alleguard - Huntington</td>\n",
       "      <td>Radford, VA</td>\n",
       "      <td>37.131792</td>\n",
       "      <td>-80.576448</td>\n",
       "      <td>Alleguard - Huntington&lt;br&gt;Warehouse Location: ...</td>\n",
       "      <td>#f7736f</td>\n",
       "    </tr>\n",
       "    <tr>\n",
       "      <th>99</th>\n",
       "      <td>Alleguard - Huntington</td>\n",
       "      <td>West Brookfield, MA</td>\n",
       "      <td>42.235346</td>\n",
       "      <td>-72.141164</td>\n",
       "      <td>Alleguard - Huntington&lt;br&gt;Warehouse Location: ...</td>\n",
       "      <td>#f7736f</td>\n",
       "    </tr>\n",
       "    <tr>\n",
       "      <th>100</th>\n",
       "      <td>Alleguard - Huntington</td>\n",
       "      <td>Monticello, AR</td>\n",
       "      <td>33.629670</td>\n",
       "      <td>-91.802186</td>\n",
       "      <td>Alleguard - Huntington&lt;br&gt;Warehouse Location: ...</td>\n",
       "      <td>#f7736f</td>\n",
       "    </tr>\n",
       "    <tr>\n",
       "      <th>101</th>\n",
       "      <td>Armstrong Brands</td>\n",
       "      <td>Buffalo, NY</td>\n",
       "      <td>42.886447</td>\n",
       "      <td>-78.878369</td>\n",
       "      <td>Armstrong Brands&lt;br&gt;Warehouse Location: Buffal...</td>\n",
       "      <td>#f66d9e</td>\n",
       "    </tr>\n",
       "    <tr>\n",
       "      <th>102</th>\n",
       "      <td>EFP</td>\n",
       "      <td>Elkhart, IN</td>\n",
       "      <td>41.687383</td>\n",
       "      <td>-85.973517</td>\n",
       "      <td>EFP&lt;br&gt;Warehouse Location: Elkhart, IN</td>\n",
       "      <td>#d78b31</td>\n",
       "    </tr>\n",
       "  </tbody>\n",
       "</table>\n",
       "<p>103 rows × 6 columns</p>\n",
       "</div>"
      ]
     },
     "execution_count": 15,
     "metadata": {},
     "output_type": "execute_result"
    }
   ],
   "execution_count": 15
  },
  {
   "metadata": {
    "ExecuteTime": {
     "end_time": "2024-10-15T03:47:36.395589Z",
     "start_time": "2024-10-15T03:47:36.390503Z"
    }
   },
   "cell_type": "code",
   "source": [
    "# Number of Companies\n",
    "len(df.company.unique())"
   ],
   "id": "40af7027dbd07066",
   "outputs": [
    {
     "data": {
      "text/plain": [
       "37"
      ]
     },
     "execution_count": 16,
     "metadata": {},
     "output_type": "execute_result"
    }
   ],
   "execution_count": 16
  },
  {
   "metadata": {
    "ExecuteTime": {
     "end_time": "2024-10-15T03:47:36.402422Z",
     "start_time": "2024-10-15T03:47:36.396619Z"
    }
   },
   "cell_type": "code",
   "source": [
    "# Company with most warehouses\n",
    "df.company.value_counts().index[0]"
   ],
   "id": "17ba58049c8e4d33",
   "outputs": [
    {
     "data": {
      "text/plain": [
       "'Altor Solutions'"
      ]
     },
     "execution_count": 17,
     "metadata": {},
     "output_type": "execute_result"
    }
   ],
   "execution_count": 17
  },
  {
   "metadata": {
    "ExecuteTime": {
     "end_time": "2024-10-15T03:52:14.892256Z",
     "start_time": "2024-10-15T03:52:14.883924Z"
    }
   },
   "cell_type": "code",
   "source": [
    "# State with most warehouses\n",
    "# TODO: Strip the state name from 'location' field\n",
    "# TODO: Create a new field called 'state'\n",
    "df[\"state\"] = df.location.str[-2:]\n",
    "df.to_csv(\"../datasets/companies_locations.csv\", index=False)"
   ],
   "id": "7c3c1c4a05f38d64",
   "outputs": [],
   "execution_count": 29
  },
  {
   "metadata": {
    "ExecuteTime": {
     "end_time": "2024-10-15T03:51:51.215667Z",
     "start_time": "2024-10-15T03:51:51.208225Z"
    }
   },
   "cell_type": "code",
   "source": "df[\"state\"].value_counts()",
   "id": "a9627ae16a166f04",
   "outputs": [
    {
     "data": {
      "text/plain": [
       "state\n",
       "CA    11\n",
       "TX     8\n",
       "GA     7\n",
       "OH     5\n",
       "FL     5\n",
       "AZ     4\n",
       "MI     4\n",
       "VA     4\n",
       "TN     4\n",
       "IN     4\n",
       "CO     4\n",
       "MO     3\n",
       "UT     3\n",
       "WI     3\n",
       "SC     3\n",
       "PA     3\n",
       "NE     2\n",
       "MN     2\n",
       "KY     2\n",
       "WA     2\n",
       "MA     2\n",
       "NV     2\n",
       "NJ     2\n",
       "IA     2\n",
       "AK     1\n",
       "AR     1\n",
       "IL     1\n",
       "SD     1\n",
       "AL     1\n",
       "CT     1\n",
       "ID     1\n",
       "RI     1\n",
       "KS     1\n",
       "NC     1\n",
       "OK     1\n",
       "NY     1\n",
       "Name: count, dtype: int64"
      ]
     },
     "execution_count": 27,
     "metadata": {},
     "output_type": "execute_result"
    }
   ],
   "execution_count": 27
  },
  {
   "metadata": {
    "ExecuteTime": {
     "end_time": "2024-10-15T04:25:05.706166Z",
     "start_time": "2024-10-15T04:25:05.699872Z"
    }
   },
   "cell_type": "code",
   "source": "df.columns",
   "id": "698fa64d835c4150",
   "outputs": [
    {
     "data": {
      "text/plain": [
       "Index(['company', 'location', 'latitude', 'longitude', 'text', 'color',\n",
       "       'state'],\n",
       "      dtype='object')"
      ]
     },
     "execution_count": 30,
     "metadata": {},
     "output_type": "execute_result"
    }
   ],
   "execution_count": 30
  },
  {
   "metadata": {},
   "cell_type": "code",
   "outputs": [],
   "execution_count": null,
   "source": "",
   "id": "13da9a53513bcd17"
  }
 ],
 "metadata": {
  "kernelspec": {
   "display_name": "Python 3",
   "language": "python",
   "name": "python3"
  },
  "language_info": {
   "codemirror_mode": {
    "name": "ipython",
    "version": 2
   },
   "file_extension": ".py",
   "mimetype": "text/x-python",
   "name": "python",
   "nbconvert_exporter": "python",
   "pygments_lexer": "ipython2",
   "version": "2.7.6"
  }
 },
 "nbformat": 4,
 "nbformat_minor": 5
}
