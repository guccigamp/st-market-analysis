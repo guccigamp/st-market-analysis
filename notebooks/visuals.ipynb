{
 "cells": [
  {
   "cell_type": "markdown",
   "metadata": {},
   "source": [
    "# Visuals for the Dash App"
   ]
  },
  {
   "cell_type": "code",
   "execution_count": 1,
   "metadata": {
    "ExecuteTime": {
     "end_time": "2024-10-20T00:27:35.917781Z",
     "start_time": "2024-10-20T00:27:35.912928Z"
    }
   },
   "outputs": [],
   "source": [
    "import plotly.express as px\n",
    "import pandas as pd\n",
    "\n",
    "companies_df = pd.read_csv(\"../datasets/Comp Analysis- BI Report.csv\")"
   ]
  },
  {
   "cell_type": "markdown",
   "metadata": {},
   "source": [
    "#### List of Companies"
   ]
  },
  {
   "cell_type": "code",
   "execution_count": 2,
   "metadata": {
    "ExecuteTime": {
     "end_time": "2024-10-20T00:27:36.047602Z",
     "start_time": "2024-10-20T00:27:36.042296Z"
    }
   },
   "outputs": [
    {
     "data": {
      "text/plain": [
       "array(['Alleguard - Huntington', 'Cellofoam', 'Modern Polymers', 'EFP',\n",
       "       'Aptco', 'Tempo Precision Molded Foam', 'ACH Foam Technologies',\n",
       "       'Atlas Molded Products', 'Sonoco', 'Cold Keepers', 'Styrotech',\n",
       "       'OpCO', 'Plastillite', 'Houston Foam Plastics',\n",
       "       'Imperial Foam & Insulation', 'Marko Foam', 'Michigan Foam',\n",
       "       'Pal Pac', 'Branch River Plastics', 'FMI-EPS', 'Polar Central',\n",
       "       'Mister Packaging', 'ThermaFoam', 'Robin II',\n",
       "       'Foam Pack Industries', 'Clyde Tool & Die', 'DiversiFoam Products',\n",
       "       'Beaver Plastics', 'Aqua-Pak Industries Ltd', 'Creative Packaging',\n",
       "       'Custom Pack', 'Insulated Products Corp (IPC)', 'Magna LoBoy',\n",
       "       'Speedling', 'Insulfoam LLC', 'Armstrong Brands'], dtype=object)"
      ]
     },
     "execution_count": 2,
     "metadata": {},
     "output_type": "execute_result"
    }
   ],
   "source": [
    "companies_df.top_competitors.unique()"
   ]
  },
  {
   "cell_type": "markdown",
   "metadata": {},
   "source": [
    "### View All Scatter Plot"
   ]
  },
  {
   "cell_type": "code",
   "execution_count": 3,
   "metadata": {
    "ExecuteTime": {
     "end_time": "2024-10-20T00:27:36.158815Z",
     "start_time": "2024-10-20T00:27:36.063609Z"
    }
   },
   "outputs": [
    {
     "data": {
      "application/vnd.plotly.v1+json": {
       "config": {
        "plotlyServerURL": "https://plot.ly"
       },
       "data": [
        {
         "cluster": {
          "enabled": true
         },
         "customdata": [
          [
           "Grove City",
           "OH",
           "Alleguard - Huntington",
           39.8821935,
           -83.0935377
          ],
          [
           "Bastrop",
           "TX",
           "Alleguard - Huntington",
           30.1104947,
           -97.3152701
          ],
          [
           "Cave Spring ",
           "GA",
           "Alleguard - Huntington",
           34.1075975,
           -85.33634339999999
          ],
          [
           "Greer",
           "SC",
           "Alleguard - Huntington",
           34.9387279,
           -82.2270568
          ],
          [
           "Greenville",
           "MI",
           "Alleguard - Huntington",
           43.1775314,
           -85.2527987
          ],
          [
           "Radford",
           "VA",
           "Alleguard - Huntington",
           37.13179239999999,
           -80.5764477
          ],
          [
           "West Brookfield",
           "MA",
           "Alleguard - Huntington",
           42.2353463,
           -72.14116419999999
          ],
          [
           "Monticello",
           "AR",
           "Alleguard - Huntington",
           33.6296702,
           -91.8021856
          ]
         ],
         "hovertemplate": "<b>%{hovertext}</b><br><br>city=%{customdata[0]}<br>state=%{customdata[1]}<extra></extra>",
         "hovertext": [
          "Alleguard - Huntington",
          "Alleguard - Huntington",
          "Alleguard - Huntington",
          "Alleguard - Huntington",
          "Alleguard - Huntington",
          "Alleguard - Huntington",
          "Alleguard - Huntington",
          "Alleguard - Huntington"
         ],
         "lat": [
          39.8821935,
          30.1104947,
          34.1075975,
          34.9387279,
          43.1775314,
          37.13179239999999,
          42.2353463,
          33.6296702
         ],
         "legendgroup": "Alleguard - Huntington",
         "lon": [
          -83.0935377,
          -97.3152701,
          -85.33634339999999,
          -82.2270568,
          -85.2527987,
          -80.5764477,
          -72.14116419999999,
          -91.8021856
         ],
         "marker": {
          "color": "#636efa"
         },
         "mode": "markers",
         "name": "Alleguard - Huntington",
         "showlegend": true,
         "subplot": "mapbox",
         "type": "scattermapbox"
        },
        {
         "cluster": {
          "enabled": true
         },
         "customdata": [
          [
           "Whiteland",
           "IN",
           "Cellofoam",
           39.5500485,
           -86.0797079
          ],
          [
           "Sallisaw",
           "OK",
           "Cellofoam",
           35.4603711,
           -94.7874463
          ],
          [
           "Conyers",
           "GA",
           "Cellofoam",
           33.6676103,
           -84.01769039999999
          ],
          [
           "Gainesville",
           "GA",
           "Cellofoam",
           34.2978794,
           -83.8240663
          ],
          [
           "Orlando",
           "FL",
           "Cellofoam",
           28.5383832,
           -81.3789269
          ],
          [
           "Fredericksburg",
           "VA",
           "Cellofoam",
           38.3031837,
           -77.4605399
          ],
          [
           "Winchester",
           "VA",
           "Cellofoam",
           39.1856597,
           -78.1633341
          ]
         ],
         "hovertemplate": "<b>%{hovertext}</b><br><br>city=%{customdata[0]}<br>state=%{customdata[1]}<extra></extra>",
         "hovertext": [
          "Cellofoam",
          "Cellofoam",
          "Cellofoam",
          "Cellofoam",
          "Cellofoam",
          "Cellofoam",
          "Cellofoam"
         ],
         "lat": [
          39.5500485,
          35.4603711,
          33.6676103,
          34.2978794,
          28.5383832,
          38.3031837,
          39.1856597
         ],
         "legendgroup": "Cellofoam",
         "lon": [
          -86.0797079,
          -94.7874463,
          -84.01769039999999,
          -83.8240663,
          -81.3789269,
          -77.4605399,
          -78.1633341
         ],
         "marker": {
          "color": "#EF553B"
         },
         "mode": "markers",
         "name": "Cellofoam",
         "showlegend": true,
         "subplot": "mapbox",
         "type": "scattermapbox"
        },
        {
         "cluster": {
          "enabled": true
         },
         "customdata": [
          [
           "Cherryville",
           "NC",
           "Modern Polymers",
           35.3789361,
           -81.3795737
          ]
         ],
         "hovertemplate": "<b>%{hovertext}</b><br><br>city=%{customdata[0]}<br>state=%{customdata[1]}<extra></extra>",
         "hovertext": [
          "Modern Polymers"
         ],
         "lat": [
          35.3789361
         ],
         "legendgroup": "Modern Polymers",
         "lon": [
          -81.3795737
         ],
         "marker": {
          "color": "#00cc96"
         },
         "mode": "markers",
         "name": "Modern Polymers",
         "showlegend": true,
         "subplot": "mapbox",
         "type": "scattermapbox"
        },
        {
         "cluster": {
          "enabled": true
         },
         "customdata": [
          [
           "Reno",
           "NV",
           "EFP",
           39.529919,
           -119.8142691
          ],
          [
           "Casa Granda",
           "AZ",
           "EFP",
           32.9110027,
           -111.7733902
          ],
          [
           "Evansville",
           "IN",
           "EFP",
           37.9715592,
           -87.5710898
          ],
          [
           "La vergne",
           "TN",
           "EFP",
           36.0156178,
           -86.5819394
          ],
          [
           "Decatur",
           "AL",
           "EFP",
           34.6059253,
           -86.9833417
          ],
          [
           "Bishopville",
           "SC",
           "EFP",
           34.2182107,
           -80.2484056
          ],
          [
           "Elkhart",
           "IN",
           "EFP",
           41.6873832,
           -85.973517
          ]
         ],
         "hovertemplate": "<b>%{hovertext}</b><br><br>city=%{customdata[0]}<br>state=%{customdata[1]}<extra></extra>",
         "hovertext": [
          "EFP",
          "EFP",
          "EFP",
          "EFP",
          "EFP",
          "EFP",
          "EFP"
         ],
         "lat": [
          39.529919,
          32.9110027,
          37.9715592,
          36.0156178,
          34.6059253,
          34.2182107,
          41.6873832
         ],
         "legendgroup": "EFP",
         "lon": [
          -119.8142691,
          -111.7733902,
          -87.5710898,
          -86.5819394,
          -86.9833417,
          -80.2484056,
          -85.973517
         ],
         "marker": {
          "color": "#ab63fa"
         },
         "mode": "markers",
         "name": "EFP",
         "showlegend": true,
         "subplot": "mapbox",
         "type": "scattermapbox"
        },
        {
         "cluster": {
          "enabled": true
         },
         "customdata": [
          [
           "McFarland",
           "CA",
           "Aptco",
           35.6780104,
           -119.2292748
          ]
         ],
         "hovertemplate": "<b>%{hovertext}</b><br><br>city=%{customdata[0]}<br>state=%{customdata[1]}<extra></extra>",
         "hovertext": [
          "Aptco"
         ],
         "lat": [
          35.6780104
         ],
         "legendgroup": "Aptco",
         "lon": [
          -119.2292748
         ],
         "marker": {
          "color": "#FFA15A"
         },
         "mode": "markers",
         "name": "Aptco",
         "showlegend": true,
         "subplot": "mapbox",
         "type": "scattermapbox"
        },
        {
         "cluster": {
          "enabled": true
         },
         "customdata": [
          [
           "Visalia",
           "CA",
           "Tempo Precision Molded Foam",
           36.3301329,
           -119.2966367
          ]
         ],
         "hovertemplate": "<b>%{hovertext}</b><br><br>city=%{customdata[0]}<br>state=%{customdata[1]}<extra></extra>",
         "hovertext": [
          "Tempo Precision Molded Foam"
         ],
         "lat": [
          36.3301329
         ],
         "legendgroup": "Tempo Precision Molded Foam",
         "lon": [
          -119.2966367
         ],
         "marker": {
          "color": "#19d3f3"
         },
         "mode": "markers",
         "name": "Tempo Precision Molded Foam",
         "showlegend": true,
         "subplot": "mapbox",
         "type": "scattermapbox"
        },
        {
         "cluster": {
          "enabled": true
         },
         "customdata": [
          [
           "McKinney",
           "TX",
           "ACH Foam Technologies",
           33.1983388,
           -96.6389342
          ],
          [
           "Westminster",
           "CO",
           "ACH Foam Technologies",
           39.8366528,
           -105.0372046
          ]
         ],
         "hovertemplate": "<b>%{hovertext}</b><br><br>city=%{customdata[0]}<br>state=%{customdata[1]}<extra></extra>",
         "hovertext": [
          "ACH Foam Technologies",
          "ACH Foam Technologies"
         ],
         "lat": [
          33.1983388,
          39.8366528
         ],
         "legendgroup": "ACH Foam Technologies",
         "lon": [
          -96.6389342,
          -105.0372046
         ],
         "marker": {
          "color": "#FF6692"
         },
         "mode": "markers",
         "name": "ACH Foam Technologies",
         "showlegend": true,
         "subplot": "mapbox",
         "type": "scattermapbox"
        },
        {
         "cluster": {
          "enabled": true
         },
         "customdata": [
          [
           "Sylmar",
           "CA",
           "Atlas Molded Products",
           34.2994874,
           -118.4588292
          ],
          [
           "Denver",
           "CO",
           "Atlas Molded Products",
           39.7392358,
           -104.990251
          ],
          [
           "Murray",
           "UT",
           "Atlas Molded Products",
           40.6668916,
           -111.8879909
          ],
          [
           "Reno",
           "NV",
           "Atlas Molded Products",
           39.529919,
           -119.8142691
          ],
          [
           "Kingman",
           "AZ",
           "Atlas Molded Products",
           35.189443,
           -114.0530065
          ],
          [
           "E Arlington",
           "TX",
           "Atlas Molded Products",
           32.735687,
           -97.1080656
          ],
          [
           "Byron Center",
           "MI",
           "Atlas Molded Products",
           42.8122508,
           -85.7228061
          ],
          [
           "Fond du Lac",
           "WI",
           "Atlas Molded Products",
           43.7730448,
           -88.4470508
          ],
          [
           "Fredericktown",
           "MO",
           "Atlas Molded Products",
           37.55977540000001,
           -90.2940069
          ],
          [
           "Kansas City",
           "KS",
           "Atlas Molded Products",
           39.11553139999999,
           -94.6267873
          ],
          [
           "Perryville",
           "MO",
           "Atlas Molded Products",
           37.7242202,
           -89.8612196
          ],
          [
           "Washington",
           "IA",
           "Atlas Molded Products",
           41.30140770000001,
           -91.6916417
          ],
          [
           "Gainesville",
           "GA",
           "Atlas Molded Products",
           34.2978794,
           -83.8240663
          ]
         ],
         "hovertemplate": "<b>%{hovertext}</b><br><br>city=%{customdata[0]}<br>state=%{customdata[1]}<extra></extra>",
         "hovertext": [
          "Atlas Molded Products",
          "Atlas Molded Products",
          "Atlas Molded Products",
          "Atlas Molded Products",
          "Atlas Molded Products",
          "Atlas Molded Products",
          "Atlas Molded Products",
          "Atlas Molded Products",
          "Atlas Molded Products",
          "Atlas Molded Products",
          "Atlas Molded Products",
          "Atlas Molded Products",
          "Atlas Molded Products"
         ],
         "lat": [
          34.2994874,
          39.7392358,
          40.6668916,
          39.529919,
          35.189443,
          32.735687,
          42.8122508,
          43.7730448,
          37.55977540000001,
          39.11553139999999,
          37.7242202,
          41.30140770000001,
          34.2978794
         ],
         "legendgroup": "Atlas Molded Products",
         "lon": [
          -118.4588292,
          -104.990251,
          -111.8879909,
          -119.8142691,
          -114.0530065,
          -97.1080656,
          -85.7228061,
          -88.4470508,
          -90.2940069,
          -94.6267873,
          -89.8612196,
          -91.6916417,
          -83.8240663
         ],
         "marker": {
          "color": "#B6E880"
         },
         "mode": "markers",
         "name": "Atlas Molded Products",
         "showlegend": true,
         "subplot": "mapbox",
         "type": "scattermapbox"
        },
        {
         "cluster": {
          "enabled": true
         },
         "customdata": [
          [
           "Ridgeway",
           "VA",
           "Sonoco",
           36.5768046,
           -79.8583721
          ],
          [
           "Findlay",
           "OH",
           "Sonoco",
           41.0391283,
           -83.6502309
          ],
          [
           "Owosso",
           "MI",
           "Sonoco",
           42.9978049,
           -84.1766358
          ],
          [
           "Tullahoma",
           "TN",
           "Sonoco",
           35.3620235,
           -86.20943419999999
          ],
          [
           "Mt. Pleasant",
           "TN",
           "Sonoco",
           35.5342414,
           -87.20695409999999
          ],
          [
           "Shelbyville",
           "KY",
           "Sonoco",
           38.2120144,
           -85.2235666
          ],
          [
           "Colorado Springs",
           "CO",
           "Sonoco",
           38.8338816,
           -104.8213634
          ]
         ],
         "hovertemplate": "<b>%{hovertext}</b><br><br>city=%{customdata[0]}<br>state=%{customdata[1]}<extra></extra>",
         "hovertext": [
          "Sonoco",
          "Sonoco",
          "Sonoco",
          "Sonoco",
          "Sonoco",
          "Sonoco",
          "Sonoco"
         ],
         "lat": [
          36.5768046,
          41.0391283,
          42.9978049,
          35.3620235,
          35.5342414,
          38.2120144,
          38.8338816
         ],
         "legendgroup": "Sonoco",
         "lon": [
          -79.8583721,
          -83.6502309,
          -84.1766358,
          -86.20943419999999,
          -87.20695409999999,
          -85.2235666,
          -104.8213634
         ],
         "marker": {
          "color": "#FF97FF"
         },
         "mode": "markers",
         "name": "Sonoco",
         "showlegend": true,
         "subplot": "mapbox",
         "type": "scattermapbox"
        },
        {
         "cluster": {
          "enabled": true
         },
         "customdata": [
          [
           "Mcfarland",
           "CA",
           "Cold Keepers",
           35.6780104,
           -119.2292748
          ]
         ],
         "hovertemplate": "<b>%{hovertext}</b><br><br>city=%{customdata[0]}<br>state=%{customdata[1]}<extra></extra>",
         "hovertext": [
          "Cold Keepers"
         ],
         "lat": [
          35.6780104
         ],
         "legendgroup": "Cold Keepers",
         "lon": [
          -119.2292748
         ],
         "marker": {
          "color": "#FECB52"
         },
         "mode": "markers",
         "name": "Cold Keepers",
         "showlegend": true,
         "subplot": "mapbox",
         "type": "scattermapbox"
        },
        {
         "cluster": {
          "enabled": true
         },
         "customdata": [
          [
           "Thomasville",
           "GA",
           "Styrotech",
           30.8365815,
           -83.9787808
          ]
         ],
         "hovertemplate": "<b>%{hovertext}</b><br><br>city=%{customdata[0]}<br>state=%{customdata[1]}<extra></extra>",
         "hovertext": [
          "Styrotech"
         ],
         "lat": [
          30.8365815
         ],
         "legendgroup": "Styrotech",
         "lon": [
          -83.9787808
         ],
         "marker": {
          "color": "#636efa"
         },
         "mode": "markers",
         "name": "Styrotech",
         "showlegend": true,
         "subplot": "mapbox",
         "type": "scattermapbox"
        },
        {
         "cluster": {
          "enabled": true
         },
         "customdata": [
          [
           "Brooklyn Park",
           "MN",
           "OpCO",
           45.0941315,
           -93.3563405
          ]
         ],
         "hovertemplate": "<b>%{hovertext}</b><br><br>city=%{customdata[0]}<br>state=%{customdata[1]}<extra></extra>",
         "hovertext": [
          "OpCO"
         ],
         "lat": [
          45.0941315
         ],
         "legendgroup": "OpCO",
         "lon": [
          -93.3563405
         ],
         "marker": {
          "color": "#EF553B"
         },
         "mode": "markers",
         "name": "OpCO",
         "showlegend": true,
         "subplot": "mapbox",
         "type": "scattermapbox"
        },
        {
         "cluster": {
          "enabled": true
         },
         "customdata": [
          [
           "Latrobe",
           "PA",
           "Plastillite",
           40.3211808,
           -79.37948109999999
          ]
         ],
         "hovertemplate": "<b>%{hovertext}</b><br><br>city=%{customdata[0]}<br>state=%{customdata[1]}<extra></extra>",
         "hovertext": [
          "Plastillite"
         ],
         "lat": [
          40.3211808
         ],
         "legendgroup": "Plastillite",
         "lon": [
          -79.37948109999999
         ],
         "marker": {
          "color": "#00cc96"
         },
         "mode": "markers",
         "name": "Plastillite",
         "showlegend": true,
         "subplot": "mapbox",
         "type": "scattermapbox"
        },
        {
         "cluster": {
          "enabled": true
         },
         "customdata": [
          [
           "Omaha",
           "NE",
           "Houston Foam Plastics",
           41.2565369,
           -95.9345034
          ],
          [
           "Houston",
           "TX",
           "Houston Foam Plastics",
           29.7600771,
           -95.3701108
          ]
         ],
         "hovertemplate": "<b>%{hovertext}</b><br><br>city=%{customdata[0]}<br>state=%{customdata[1]}<extra></extra>",
         "hovertext": [
          "Houston Foam Plastics",
          "Houston Foam Plastics"
         ],
         "lat": [
          41.2565369,
          29.7600771
         ],
         "legendgroup": "Houston Foam Plastics",
         "lon": [
          -95.9345034,
          -95.3701108
         ],
         "marker": {
          "color": "#ab63fa"
         },
         "mode": "markers",
         "name": "Houston Foam Plastics",
         "showlegend": true,
         "subplot": "mapbox",
         "type": "scattermapbox"
        },
        {
         "cluster": {
          "enabled": true
         },
         "customdata": [
          [
           "San Antonio",
           "TX",
           "Imperial Foam & Insulation",
           29.4251905,
           -98.4945922
          ]
         ],
         "hovertemplate": "<b>%{hovertext}</b><br><br>city=%{customdata[0]}<br>state=%{customdata[1]}<extra></extra>",
         "hovertext": [
          "Imperial Foam & Insulation"
         ],
         "lat": [
          29.4251905
         ],
         "legendgroup": "Imperial Foam & Insulation",
         "lon": [
          -98.4945922
         ],
         "marker": {
          "color": "#FFA15A"
         },
         "mode": "markers",
         "name": "Imperial Foam & Insulation",
         "showlegend": true,
         "subplot": "mapbox",
         "type": "scattermapbox"
        },
        {
         "cluster": {
          "enabled": true
         },
         "customdata": [
          [
           "Ormond Beach",
           "FL",
           "Marko Foam",
           29.2858129,
           -81.0558894
          ],
          [
           "Huntington Beach",
           "CA",
           "Marko Foam",
           33.6594835,
           -117.9988026
          ]
         ],
         "hovertemplate": "<b>%{hovertext}</b><br><br>city=%{customdata[0]}<br>state=%{customdata[1]}<extra></extra>",
         "hovertext": [
          "Marko Foam",
          "Marko Foam"
         ],
         "lat": [
          29.2858129,
          33.6594835
         ],
         "legendgroup": "Marko Foam",
         "lon": [
          -81.0558894,
          -117.9988026
         ],
         "marker": {
          "color": "#19d3f3"
         },
         "mode": "markers",
         "name": "Marko Foam",
         "showlegend": true,
         "subplot": "mapbox",
         "type": "scattermapbox"
        },
        {
         "cluster": {
          "enabled": true
         },
         "customdata": [
          [
           "Salt Lake City ",
           "UT",
           "Michigan Foam",
           40.7607793,
           -111.8910474
          ]
         ],
         "hovertemplate": "<b>%{hovertext}</b><br><br>city=%{customdata[0]}<br>state=%{customdata[1]}<extra></extra>",
         "hovertext": [
          "Michigan Foam"
         ],
         "lat": [
          40.7607793
         ],
         "legendgroup": "Michigan Foam",
         "lon": [
          -111.8910474
         ],
         "marker": {
          "color": "#FF6692"
         },
         "mode": "markers",
         "name": "Michigan Foam",
         "showlegend": true,
         "subplot": "mapbox",
         "type": "scattermapbox"
        },
        {
         "cluster": {
          "enabled": true
         },
         "customdata": [
          [
           "Wyoming",
           "MI",
           "Pal Pac",
           42.9133602,
           -85.7053085
          ]
         ],
         "hovertemplate": "<b>%{hovertext}</b><br><br>city=%{customdata[0]}<br>state=%{customdata[1]}<extra></extra>",
         "hovertext": [
          "Pal Pac"
         ],
         "lat": [
          42.9133602
         ],
         "legendgroup": "Pal Pac",
         "lon": [
          -85.7053085
         ],
         "marker": {
          "color": "#B6E880"
         },
         "mode": "markers",
         "name": "Pal Pac",
         "showlegend": true,
         "subplot": "mapbox",
         "type": "scattermapbox"
        },
        {
         "cluster": {
          "enabled": true
         },
         "customdata": [
          [
           "Ottawa",
           "OH",
           "Branch River Plastics",
           41.0192185,
           -84.0471666
          ]
         ],
         "hovertemplate": "<b>%{hovertext}</b><br><br>city=%{customdata[0]}<br>state=%{customdata[1]}<extra></extra>",
         "hovertext": [
          "Branch River Plastics"
         ],
         "lat": [
          41.0192185
         ],
         "legendgroup": "Branch River Plastics",
         "lon": [
          -84.0471666
         ],
         "marker": {
          "color": "#FF97FF"
         },
         "mode": "markers",
         "name": "Branch River Plastics",
         "showlegend": true,
         "subplot": "mapbox",
         "type": "scattermapbox"
        },
        {
         "cluster": {
          "enabled": true
         },
         "customdata": [
          [
           "Smithfield",
           "RI",
           "FMI-EPS",
           41.9220496,
           -71.54951009999999
          ]
         ],
         "hovertemplate": "<b>%{hovertext}</b><br><br>city=%{customdata[0]}<br>state=%{customdata[1]}<extra></extra>",
         "hovertext": [
          "FMI-EPS"
         ],
         "lat": [
          41.9220496
         ],
         "legendgroup": "FMI-EPS",
         "lon": [
          -71.54951009999999
         ],
         "marker": {
          "color": "#FECB52"
         },
         "mode": "markers",
         "name": "FMI-EPS",
         "showlegend": true,
         "subplot": "mapbox",
         "type": "scattermapbox"
        },
        {
         "cluster": {
          "enabled": true
         },
         "customdata": [
          [
           "Post Falls",
           "ID",
           "Polar Central",
           47.7179578,
           -116.9515856
          ]
         ],
         "hovertemplate": "<b>%{hovertext}</b><br><br>city=%{customdata[0]}<br>state=%{customdata[1]}<extra></extra>",
         "hovertext": [
          "Polar Central"
         ],
         "lat": [
          47.7179578
         ],
         "legendgroup": "Polar Central",
         "lon": [
          -116.9515856
         ],
         "marker": {
          "color": "#636efa"
         },
         "mode": "markers",
         "name": "Polar Central",
         "showlegend": true,
         "subplot": "mapbox",
         "type": "scattermapbox"
        },
        {
         "cluster": {
          "enabled": true
         },
         "customdata": [
          [
           "Prospect",
           "CT",
           "Mister Packaging",
           41.5023192,
           -72.9787163
          ]
         ],
         "hovertemplate": "<b>%{hovertext}</b><br><br>city=%{customdata[0]}<br>state=%{customdata[1]}<extra></extra>",
         "hovertext": [
          "Mister Packaging"
         ],
         "lat": [
          41.5023192
         ],
         "legendgroup": "Mister Packaging",
         "lon": [
          -72.9787163
         ],
         "marker": {
          "color": "#EF553B"
         },
         "mode": "markers",
         "name": "Mister Packaging",
         "showlegend": true,
         "subplot": "mapbox",
         "type": "scattermapbox"
        },
        {
         "cluster": {
          "enabled": true
         },
         "customdata": [
          [
           "Anaheim",
           "CA",
           "ThermaFoam",
           33.8365932,
           -117.9143012
          ]
         ],
         "hovertemplate": "<b>%{hovertext}</b><br><br>city=%{customdata[0]}<br>state=%{customdata[1]}<extra></extra>",
         "hovertext": [
          "ThermaFoam"
         ],
         "lat": [
          33.8365932
         ],
         "legendgroup": "ThermaFoam",
         "lon": [
          -117.9143012
         ],
         "marker": {
          "color": "#00cc96"
         },
         "mode": "markers",
         "name": "ThermaFoam",
         "showlegend": true,
         "subplot": "mapbox",
         "type": "scattermapbox"
        },
        {
         "cluster": {
          "enabled": true
         },
         "customdata": [
          [
           "Hillsboro",
           "TX",
           "Robin II",
           32.0109886,
           -97.1300061
          ]
         ],
         "hovertemplate": "<b>%{hovertext}</b><br><br>city=%{customdata[0]}<br>state=%{customdata[1]}<extra></extra>",
         "hovertext": [
          "Robin II"
         ],
         "lat": [
          32.0109886
         ],
         "legendgroup": "Robin II",
         "lon": [
          -97.1300061
         ],
         "marker": {
          "color": "#ab63fa"
         },
         "mode": "markers",
         "name": "Robin II",
         "showlegend": true,
         "subplot": "mapbox",
         "type": "scattermapbox"
        },
        {
         "cluster": {
          "enabled": true
         },
         "customdata": [
          [
           "Markesan",
           "WI",
           "Foam Pack Industries",
           43.7072047,
           -88.9901122
          ]
         ],
         "hovertemplate": "<b>%{hovertext}</b><br><br>city=%{customdata[0]}<br>state=%{customdata[1]}<extra></extra>",
         "hovertext": [
          "Foam Pack Industries"
         ],
         "lat": [
          43.7072047
         ],
         "legendgroup": "Foam Pack Industries",
         "lon": [
          -88.9901122
         ],
         "marker": {
          "color": "#FFA15A"
         },
         "mode": "markers",
         "name": "Foam Pack Industries",
         "showlegend": true,
         "subplot": "mapbox",
         "type": "scattermapbox"
        },
        {
         "cluster": {
          "enabled": true
         },
         "customdata": [
          [
           "Springfield",
           "NJ",
           "Clyde Tool & Die",
           40.7016937,
           -74.3222146
          ]
         ],
         "hovertemplate": "<b>%{hovertext}</b><br><br>city=%{customdata[0]}<br>state=%{customdata[1]}<extra></extra>",
         "hovertext": [
          "Clyde Tool & Die"
         ],
         "lat": [
          40.7016937
         ],
         "legendgroup": "Clyde Tool & Die",
         "lon": [
          -74.3222146
         ],
         "marker": {
          "color": "#19d3f3"
         },
         "mode": "markers",
         "name": "Clyde Tool & Die",
         "showlegend": true,
         "subplot": "mapbox",
         "type": "scattermapbox"
        },
        {
         "cluster": {
          "enabled": true
         },
         "customdata": [
          [
           "Clyde",
           "OH",
           "DiversiFoam Products",
           41.30422009999999,
           -82.975192
          ]
         ],
         "hovertemplate": "<b>%{hovertext}</b><br><br>city=%{customdata[0]}<br>state=%{customdata[1]}<extra></extra>",
         "hovertext": [
          "DiversiFoam Products"
         ],
         "lat": [
          41.30422009999999
         ],
         "legendgroup": "DiversiFoam Products",
         "lon": [
          -82.975192
         ],
         "marker": {
          "color": "#FF6692"
         },
         "mode": "markers",
         "name": "DiversiFoam Products",
         "showlegend": true,
         "subplot": "mapbox",
         "type": "scattermapbox"
        },
        {
         "cluster": {
          "enabled": true
         },
         "customdata": [
          [
           "Rockford",
           "MN",
           "Beaver Plastics",
           45.0872861,
           -93.7415093
          ]
         ],
         "hovertemplate": "<b>%{hovertext}</b><br><br>city=%{customdata[0]}<br>state=%{customdata[1]}<extra></extra>",
         "hovertext": [
          "Beaver Plastics"
         ],
         "lat": [
          45.0872861
         ],
         "legendgroup": "Beaver Plastics",
         "lon": [
          -93.7415093
         ],
         "marker": {
          "color": "#B6E880"
         },
         "mode": "markers",
         "name": "Beaver Plastics",
         "showlegend": true,
         "subplot": "mapbox",
         "type": "scattermapbox"
        },
        {
         "cluster": {
          "enabled": true
         },
         "customdata": [
          [
           "Watertown",
           "SD",
           "Aqua-Pak Industries Ltd",
           44.8994088,
           -97.1150732
          ]
         ],
         "hovertemplate": "<b>%{hovertext}</b><br><br>city=%{customdata[0]}<br>state=%{customdata[1]}<extra></extra>",
         "hovertext": [
          "Aqua-Pak Industries Ltd"
         ],
         "lat": [
          44.8994088
         ],
         "legendgroup": "Aqua-Pak Industries Ltd",
         "lon": [
          -97.1150732
         ],
         "marker": {
          "color": "#FF97FF"
         },
         "mode": "markers",
         "name": "Aqua-Pak Industries Ltd",
         "showlegend": true,
         "subplot": "mapbox",
         "type": "scattermapbox"
        },
        {
         "cluster": {
          "enabled": true
         },
         "customdata": [
          [
           "Shelbyville",
           "KY",
           "Creative Packaging",
           38.2120144,
           -85.2235666
          ],
          [
           "Vineland",
           "NJ",
           "Creative Packaging",
           39.4863773,
           -75.02596369999999
          ],
          [
           "Unadilla",
           "GA",
           "Creative Packaging",
           32.2617127,
           -83.7365798
          ],
          [
           "Chicago",
           "IL",
           "Creative Packaging",
           41.8781136,
           -87.6297982
          ],
          [
           "Ft. Worth",
           "TX",
           "Creative Packaging",
           32.7554883,
           -97.3307658
          ]
         ],
         "hovertemplate": "<b>%{hovertext}</b><br><br>city=%{customdata[0]}<br>state=%{customdata[1]}<extra></extra>",
         "hovertext": [
          "Creative Packaging",
          "Creative Packaging",
          "Creative Packaging",
          "Creative Packaging",
          "Creative Packaging"
         ],
         "lat": [
          38.2120144,
          39.4863773,
          32.2617127,
          41.8781136,
          32.7554883
         ],
         "legendgroup": "Creative Packaging",
         "lon": [
          -85.2235666,
          -75.02596369999999,
          -83.7365798,
          -87.6297982,
          -97.3307658
         ],
         "marker": {
          "color": "#FECB52"
         },
         "mode": "markers",
         "name": "Creative Packaging",
         "showlegend": true,
         "subplot": "mapbox",
         "type": "scattermapbox"
        },
        {
         "cluster": {
          "enabled": true
         },
         "customdata": [
          [
           "Phoenix",
           "AZ",
           "Custom Pack",
           33.4483771,
           -112.0740373
          ]
         ],
         "hovertemplate": "<b>%{hovertext}</b><br><br>city=%{customdata[0]}<br>state=%{customdata[1]}<extra></extra>",
         "hovertext": [
          "Custom Pack"
         ],
         "lat": [
          33.4483771
         ],
         "legendgroup": "Custom Pack",
         "lon": [
          -112.0740373
         ],
         "marker": {
          "color": "#636efa"
         },
         "mode": "markers",
         "name": "Custom Pack",
         "showlegend": true,
         "subplot": "mapbox",
         "type": "scattermapbox"
        },
        {
         "cluster": {
          "enabled": true
         },
         "customdata": [
          [
           "Eaton",
           "PA",
           "Insulated Products Corp (IPC)",
           41.5114731,
           -75.96954649999999
          ]
         ],
         "hovertemplate": "<b>%{hovertext}</b><br><br>city=%{customdata[0]}<br>state=%{customdata[1]}<extra></extra>",
         "hovertext": [
          "Insulated Products Corp (IPC)"
         ],
         "lat": [
          41.5114731
         ],
         "legendgroup": "Insulated Products Corp (IPC)",
         "lon": [
          -75.96954649999999
         ],
         "marker": {
          "color": "#EF553B"
         },
         "mode": "markers",
         "name": "Insulated Products Corp (IPC)",
         "showlegend": true,
         "subplot": "mapbox",
         "type": "scattermapbox"
        },
        {
         "cluster": {
          "enabled": true
         },
         "customdata": [
          [
           "Los Angeles",
           "CA",
           "Magna LoBoy",
           34.0549076,
           -118.242643
          ]
         ],
         "hovertemplate": "<b>%{hovertext}</b><br><br>city=%{customdata[0]}<br>state=%{customdata[1]}<extra></extra>",
         "hovertext": [
          "Magna LoBoy"
         ],
         "lat": [
          34.0549076
         ],
         "legendgroup": "Magna LoBoy",
         "lon": [
          -118.242643
         ],
         "marker": {
          "color": "#00cc96"
         },
         "mode": "markers",
         "name": "Magna LoBoy",
         "showlegend": true,
         "subplot": "mapbox",
         "type": "scattermapbox"
        },
        {
         "cluster": {
          "enabled": true
         },
         "customdata": [
          [
           "Fort Walton",
           "FL",
           "Speedling",
           30.42007079999999,
           -86.6170308
          ]
         ],
         "hovertemplate": "<b>%{hovertext}</b><br><br>city=%{customdata[0]}<br>state=%{customdata[1]}<extra></extra>",
         "hovertext": [
          "Speedling"
         ],
         "lat": [
          30.42007079999999
         ],
         "legendgroup": "Speedling",
         "lon": [
          -86.6170308
         ],
         "marker": {
          "color": "#ab63fa"
         },
         "mode": "markers",
         "name": "Speedling",
         "showlegend": true,
         "subplot": "mapbox",
         "type": "scattermapbox"
        },
        {
         "cluster": {
          "enabled": true
         },
         "customdata": [
          [
           "Sun City",
           "FL",
           "Insulfoam LLC",
           27.678254,
           -82.4787384
          ],
          [
           "Tacoma",
           "WA",
           "Insulfoam LLC",
           47.2528768,
           -122.4442906
          ],
          [
           "Anchorage",
           "AK",
           "Insulfoam LLC",
           61.2175758,
           -149.8996785
          ],
          [
           "Kent",
           "WA",
           "Insulfoam LLC",
           47.3830671,
           -122.234771
          ],
          [
           "Dixon",
           "CA",
           "Insulfoam LLC",
           38.4454641,
           -121.8232958
          ],
          [
           "Chino",
           "CA",
           "Insulfoam LLC",
           34.0122346,
           -117.688944
          ],
          [
           "Salt Lake City",
           "UT",
           "Insulfoam LLC",
           40.7607793,
           -111.8910474
          ],
          [
           "Phoenix",
           "AZ",
           "Insulfoam LLC",
           33.4483771,
           -112.0740373
          ],
          [
           "Aurora",
           "CO",
           "Insulfoam LLC",
           39.7294319,
           -104.8319195
          ],
          [
           "Mead",
           "NE",
           "Insulfoam LLC",
           41.2286493,
           -96.489212
          ],
          [
           "Lakeland",
           "FL",
           "Insulfoam LLC",
           28.0394654,
           -81.9498042
          ]
         ],
         "hovertemplate": "<b>%{hovertext}</b><br><br>city=%{customdata[0]}<br>state=%{customdata[1]}<extra></extra>",
         "hovertext": [
          "Insulfoam LLC",
          "Insulfoam LLC",
          "Insulfoam LLC",
          "Insulfoam LLC",
          "Insulfoam LLC",
          "Insulfoam LLC",
          "Insulfoam LLC",
          "Insulfoam LLC",
          "Insulfoam LLC",
          "Insulfoam LLC",
          "Insulfoam LLC"
         ],
         "lat": [
          27.678254,
          47.2528768,
          61.2175758,
          47.3830671,
          38.4454641,
          34.0122346,
          40.7607793,
          33.4483771,
          39.7294319,
          41.2286493,
          28.0394654
         ],
         "legendgroup": "Insulfoam LLC",
         "lon": [
          -82.4787384,
          -122.4442906,
          -149.8996785,
          -122.234771,
          -121.8232958,
          -117.688944,
          -111.8910474,
          -112.0740373,
          -104.8319195,
          -96.489212,
          -81.9498042
         ],
         "marker": {
          "color": "#FFA15A"
         },
         "mode": "markers",
         "name": "Insulfoam LLC",
         "showlegend": true,
         "subplot": "mapbox",
         "type": "scattermapbox"
        },
        {
         "cluster": {
          "enabled": true
         },
         "customdata": [
          [
           "Buffalo",
           "NY",
           "Armstrong Brands",
           42.88644679999999,
           -78.8783689
          ]
         ],
         "hovertemplate": "<b>%{hovertext}</b><br><br>city=%{customdata[0]}<br>state=%{customdata[1]}<extra></extra>",
         "hovertext": [
          "Armstrong Brands"
         ],
         "lat": [
          42.88644679999999
         ],
         "legendgroup": "Armstrong Brands",
         "lon": [
          -78.8783689
         ],
         "marker": {
          "color": "#19d3f3"
         },
         "mode": "markers",
         "name": "Armstrong Brands",
         "showlegend": true,
         "subplot": "mapbox",
         "type": "scattermapbox"
        }
       ],
       "layout": {
        "legend": {
         "title": {
          "text": "Our Top Competitors"
         },
         "tracegroupgap": 0
        },
        "mapbox": {
         "center": {
          "lat": 37.86322325444445,
          "lon": -94.78393554333334
         },
         "domain": {
          "x": [
           0,
           1
          ],
          "y": [
           0,
           1
          ]
         },
         "style": "open-street-map",
         "zoom": 4
        },
        "margin": {
         "b": 2,
         "l": 2,
         "r": 2,
         "t": 2
        },
        "template": {
         "data": {
          "bar": [
           {
            "error_x": {
             "color": "#2a3f5f"
            },
            "error_y": {
             "color": "#2a3f5f"
            },
            "marker": {
             "line": {
              "color": "#E5ECF6",
              "width": 0.5
             },
             "pattern": {
              "fillmode": "overlay",
              "size": 10,
              "solidity": 0.2
             }
            },
            "type": "bar"
           }
          ],
          "barpolar": [
           {
            "marker": {
             "line": {
              "color": "#E5ECF6",
              "width": 0.5
             },
             "pattern": {
              "fillmode": "overlay",
              "size": 10,
              "solidity": 0.2
             }
            },
            "type": "barpolar"
           }
          ],
          "carpet": [
           {
            "aaxis": {
             "endlinecolor": "#2a3f5f",
             "gridcolor": "white",
             "linecolor": "white",
             "minorgridcolor": "white",
             "startlinecolor": "#2a3f5f"
            },
            "baxis": {
             "endlinecolor": "#2a3f5f",
             "gridcolor": "white",
             "linecolor": "white",
             "minorgridcolor": "white",
             "startlinecolor": "#2a3f5f"
            },
            "type": "carpet"
           }
          ],
          "choropleth": [
           {
            "colorbar": {
             "outlinewidth": 0,
             "ticks": ""
            },
            "type": "choropleth"
           }
          ],
          "contour": [
           {
            "colorbar": {
             "outlinewidth": 0,
             "ticks": ""
            },
            "colorscale": [
             [
              0,
              "#0d0887"
             ],
             [
              0.1111111111111111,
              "#46039f"
             ],
             [
              0.2222222222222222,
              "#7201a8"
             ],
             [
              0.3333333333333333,
              "#9c179e"
             ],
             [
              0.4444444444444444,
              "#bd3786"
             ],
             [
              0.5555555555555556,
              "#d8576b"
             ],
             [
              0.6666666666666666,
              "#ed7953"
             ],
             [
              0.7777777777777778,
              "#fb9f3a"
             ],
             [
              0.8888888888888888,
              "#fdca26"
             ],
             [
              1,
              "#f0f921"
             ]
            ],
            "type": "contour"
           }
          ],
          "contourcarpet": [
           {
            "colorbar": {
             "outlinewidth": 0,
             "ticks": ""
            },
            "type": "contourcarpet"
           }
          ],
          "heatmap": [
           {
            "colorbar": {
             "outlinewidth": 0,
             "ticks": ""
            },
            "colorscale": [
             [
              0,
              "#0d0887"
             ],
             [
              0.1111111111111111,
              "#46039f"
             ],
             [
              0.2222222222222222,
              "#7201a8"
             ],
             [
              0.3333333333333333,
              "#9c179e"
             ],
             [
              0.4444444444444444,
              "#bd3786"
             ],
             [
              0.5555555555555556,
              "#d8576b"
             ],
             [
              0.6666666666666666,
              "#ed7953"
             ],
             [
              0.7777777777777778,
              "#fb9f3a"
             ],
             [
              0.8888888888888888,
              "#fdca26"
             ],
             [
              1,
              "#f0f921"
             ]
            ],
            "type": "heatmap"
           }
          ],
          "heatmapgl": [
           {
            "colorbar": {
             "outlinewidth": 0,
             "ticks": ""
            },
            "colorscale": [
             [
              0,
              "#0d0887"
             ],
             [
              0.1111111111111111,
              "#46039f"
             ],
             [
              0.2222222222222222,
              "#7201a8"
             ],
             [
              0.3333333333333333,
              "#9c179e"
             ],
             [
              0.4444444444444444,
              "#bd3786"
             ],
             [
              0.5555555555555556,
              "#d8576b"
             ],
             [
              0.6666666666666666,
              "#ed7953"
             ],
             [
              0.7777777777777778,
              "#fb9f3a"
             ],
             [
              0.8888888888888888,
              "#fdca26"
             ],
             [
              1,
              "#f0f921"
             ]
            ],
            "type": "heatmapgl"
           }
          ],
          "histogram": [
           {
            "marker": {
             "pattern": {
              "fillmode": "overlay",
              "size": 10,
              "solidity": 0.2
             }
            },
            "type": "histogram"
           }
          ],
          "histogram2d": [
           {
            "colorbar": {
             "outlinewidth": 0,
             "ticks": ""
            },
            "colorscale": [
             [
              0,
              "#0d0887"
             ],
             [
              0.1111111111111111,
              "#46039f"
             ],
             [
              0.2222222222222222,
              "#7201a8"
             ],
             [
              0.3333333333333333,
              "#9c179e"
             ],
             [
              0.4444444444444444,
              "#bd3786"
             ],
             [
              0.5555555555555556,
              "#d8576b"
             ],
             [
              0.6666666666666666,
              "#ed7953"
             ],
             [
              0.7777777777777778,
              "#fb9f3a"
             ],
             [
              0.8888888888888888,
              "#fdca26"
             ],
             [
              1,
              "#f0f921"
             ]
            ],
            "type": "histogram2d"
           }
          ],
          "histogram2dcontour": [
           {
            "colorbar": {
             "outlinewidth": 0,
             "ticks": ""
            },
            "colorscale": [
             [
              0,
              "#0d0887"
             ],
             [
              0.1111111111111111,
              "#46039f"
             ],
             [
              0.2222222222222222,
              "#7201a8"
             ],
             [
              0.3333333333333333,
              "#9c179e"
             ],
             [
              0.4444444444444444,
              "#bd3786"
             ],
             [
              0.5555555555555556,
              "#d8576b"
             ],
             [
              0.6666666666666666,
              "#ed7953"
             ],
             [
              0.7777777777777778,
              "#fb9f3a"
             ],
             [
              0.8888888888888888,
              "#fdca26"
             ],
             [
              1,
              "#f0f921"
             ]
            ],
            "type": "histogram2dcontour"
           }
          ],
          "mesh3d": [
           {
            "colorbar": {
             "outlinewidth": 0,
             "ticks": ""
            },
            "type": "mesh3d"
           }
          ],
          "parcoords": [
           {
            "line": {
             "colorbar": {
              "outlinewidth": 0,
              "ticks": ""
             }
            },
            "type": "parcoords"
           }
          ],
          "pie": [
           {
            "automargin": true,
            "type": "pie"
           }
          ],
          "scatter": [
           {
            "fillpattern": {
             "fillmode": "overlay",
             "size": 10,
             "solidity": 0.2
            },
            "type": "scatter"
           }
          ],
          "scatter3d": [
           {
            "line": {
             "colorbar": {
              "outlinewidth": 0,
              "ticks": ""
             }
            },
            "marker": {
             "colorbar": {
              "outlinewidth": 0,
              "ticks": ""
             }
            },
            "type": "scatter3d"
           }
          ],
          "scattercarpet": [
           {
            "marker": {
             "colorbar": {
              "outlinewidth": 0,
              "ticks": ""
             }
            },
            "type": "scattercarpet"
           }
          ],
          "scattergeo": [
           {
            "marker": {
             "colorbar": {
              "outlinewidth": 0,
              "ticks": ""
             }
            },
            "type": "scattergeo"
           }
          ],
          "scattergl": [
           {
            "marker": {
             "colorbar": {
              "outlinewidth": 0,
              "ticks": ""
             }
            },
            "type": "scattergl"
           }
          ],
          "scattermapbox": [
           {
            "marker": {
             "colorbar": {
              "outlinewidth": 0,
              "ticks": ""
             }
            },
            "type": "scattermapbox"
           }
          ],
          "scatterpolar": [
           {
            "marker": {
             "colorbar": {
              "outlinewidth": 0,
              "ticks": ""
             }
            },
            "type": "scatterpolar"
           }
          ],
          "scatterpolargl": [
           {
            "marker": {
             "colorbar": {
              "outlinewidth": 0,
              "ticks": ""
             }
            },
            "type": "scatterpolargl"
           }
          ],
          "scatterternary": [
           {
            "marker": {
             "colorbar": {
              "outlinewidth": 0,
              "ticks": ""
             }
            },
            "type": "scatterternary"
           }
          ],
          "surface": [
           {
            "colorbar": {
             "outlinewidth": 0,
             "ticks": ""
            },
            "colorscale": [
             [
              0,
              "#0d0887"
             ],
             [
              0.1111111111111111,
              "#46039f"
             ],
             [
              0.2222222222222222,
              "#7201a8"
             ],
             [
              0.3333333333333333,
              "#9c179e"
             ],
             [
              0.4444444444444444,
              "#bd3786"
             ],
             [
              0.5555555555555556,
              "#d8576b"
             ],
             [
              0.6666666666666666,
              "#ed7953"
             ],
             [
              0.7777777777777778,
              "#fb9f3a"
             ],
             [
              0.8888888888888888,
              "#fdca26"
             ],
             [
              1,
              "#f0f921"
             ]
            ],
            "type": "surface"
           }
          ],
          "table": [
           {
            "cells": {
             "fill": {
              "color": "#EBF0F8"
             },
             "line": {
              "color": "white"
             }
            },
            "header": {
             "fill": {
              "color": "#C8D4E3"
             },
             "line": {
              "color": "white"
             }
            },
            "type": "table"
           }
          ]
         },
         "layout": {
          "annotationdefaults": {
           "arrowcolor": "#2a3f5f",
           "arrowhead": 0,
           "arrowwidth": 1
          },
          "autotypenumbers": "strict",
          "coloraxis": {
           "colorbar": {
            "outlinewidth": 0,
            "ticks": ""
           }
          },
          "colorscale": {
           "diverging": [
            [
             0,
             "#8e0152"
            ],
            [
             0.1,
             "#c51b7d"
            ],
            [
             0.2,
             "#de77ae"
            ],
            [
             0.3,
             "#f1b6da"
            ],
            [
             0.4,
             "#fde0ef"
            ],
            [
             0.5,
             "#f7f7f7"
            ],
            [
             0.6,
             "#e6f5d0"
            ],
            [
             0.7,
             "#b8e186"
            ],
            [
             0.8,
             "#7fbc41"
            ],
            [
             0.9,
             "#4d9221"
            ],
            [
             1,
             "#276419"
            ]
           ],
           "sequential": [
            [
             0,
             "#0d0887"
            ],
            [
             0.1111111111111111,
             "#46039f"
            ],
            [
             0.2222222222222222,
             "#7201a8"
            ],
            [
             0.3333333333333333,
             "#9c179e"
            ],
            [
             0.4444444444444444,
             "#bd3786"
            ],
            [
             0.5555555555555556,
             "#d8576b"
            ],
            [
             0.6666666666666666,
             "#ed7953"
            ],
            [
             0.7777777777777778,
             "#fb9f3a"
            ],
            [
             0.8888888888888888,
             "#fdca26"
            ],
            [
             1,
             "#f0f921"
            ]
           ],
           "sequentialminus": [
            [
             0,
             "#0d0887"
            ],
            [
             0.1111111111111111,
             "#46039f"
            ],
            [
             0.2222222222222222,
             "#7201a8"
            ],
            [
             0.3333333333333333,
             "#9c179e"
            ],
            [
             0.4444444444444444,
             "#bd3786"
            ],
            [
             0.5555555555555556,
             "#d8576b"
            ],
            [
             0.6666666666666666,
             "#ed7953"
            ],
            [
             0.7777777777777778,
             "#fb9f3a"
            ],
            [
             0.8888888888888888,
             "#fdca26"
            ],
            [
             1,
             "#f0f921"
            ]
           ]
          },
          "colorway": [
           "#636efa",
           "#EF553B",
           "#00cc96",
           "#ab63fa",
           "#FFA15A",
           "#19d3f3",
           "#FF6692",
           "#B6E880",
           "#FF97FF",
           "#FECB52"
          ],
          "font": {
           "color": "#2a3f5f"
          },
          "geo": {
           "bgcolor": "white",
           "lakecolor": "white",
           "landcolor": "#E5ECF6",
           "showlakes": true,
           "showland": true,
           "subunitcolor": "white"
          },
          "hoverlabel": {
           "align": "left"
          },
          "hovermode": "closest",
          "mapbox": {
           "style": "light"
          },
          "paper_bgcolor": "white",
          "plot_bgcolor": "#E5ECF6",
          "polar": {
           "angularaxis": {
            "gridcolor": "white",
            "linecolor": "white",
            "ticks": ""
           },
           "bgcolor": "#E5ECF6",
           "radialaxis": {
            "gridcolor": "white",
            "linecolor": "white",
            "ticks": ""
           }
          },
          "scene": {
           "xaxis": {
            "backgroundcolor": "#E5ECF6",
            "gridcolor": "white",
            "gridwidth": 2,
            "linecolor": "white",
            "showbackground": true,
            "ticks": "",
            "zerolinecolor": "white"
           },
           "yaxis": {
            "backgroundcolor": "#E5ECF6",
            "gridcolor": "white",
            "gridwidth": 2,
            "linecolor": "white",
            "showbackground": true,
            "ticks": "",
            "zerolinecolor": "white"
           },
           "zaxis": {
            "backgroundcolor": "#E5ECF6",
            "gridcolor": "white",
            "gridwidth": 2,
            "linecolor": "white",
            "showbackground": true,
            "ticks": "",
            "zerolinecolor": "white"
           }
          },
          "shapedefaults": {
           "line": {
            "color": "#2a3f5f"
           }
          },
          "ternary": {
           "aaxis": {
            "gridcolor": "white",
            "linecolor": "white",
            "ticks": ""
           },
           "baxis": {
            "gridcolor": "white",
            "linecolor": "white",
            "ticks": ""
           },
           "bgcolor": "#E5ECF6",
           "caxis": {
            "gridcolor": "white",
            "linecolor": "white",
            "ticks": ""
           }
          },
          "title": {
           "x": 0.05
          },
          "xaxis": {
           "automargin": true,
           "gridcolor": "white",
           "linecolor": "white",
           "ticks": "",
           "title": {
            "standoff": 15
           },
           "zerolinecolor": "white",
           "zerolinewidth": 2
          },
          "yaxis": {
           "automargin": true,
           "gridcolor": "white",
           "linecolor": "white",
           "ticks": "",
           "title": {
            "standoff": 15
           },
           "zerolinecolor": "white",
           "zerolinewidth": 2
          }
         }
        }
       }
      }
     },
     "metadata": {},
     "output_type": "display_data"
    }
   ],
   "source": [
    "fig = px.scatter_mapbox(\n",
    "    data_frame=companies_df,\n",
    "    lat=\"latitude\", lon=\"longitude\",\n",
    "    # title=\"Locations of our Competitor's Warehouses\",\n",
    "    color=\"top_competitors\",\n",
    "    hover_name=\"top_competitors\",\n",
    "    hover_data={\n",
    "        \"city\": True,\n",
    "        \"state\": True,\n",
    "        \"top_competitors\": False,\n",
    "        \"latitude\": False,\n",
    "        \"longitude\": False\n",
    "    },\n",
    "    labels={\"top_competitors\": \"Our Top Competitors\"}\n",
    ")\n",
    "\n",
    "fig.update_layout(mapbox_style=\"open-street-map\", mapbox_zoom=4,\n",
    "    margin={\"r\":2,\"t\":2,\"l\":2,\"b\":2}) \n",
    "\n",
    "fig.update_traces(cluster=dict(enabled=True))\n",
    "fig"
   ]
  },
  {
   "cell_type": "code",
   "execution_count": 4,
   "metadata": {
    "ExecuteTime": {
     "end_time": "2024-10-20T00:27:36.186943Z",
     "start_time": "2024-10-20T00:27:36.159819Z"
    }
   },
   "outputs": [],
   "source": [
    "fig.write_html(\"scatter_map.html\")"
   ]
  },
  {
   "cell_type": "markdown",
   "metadata": {},
   "source": [
    "### View by Company Scatter Plot"
   ]
  },
  {
   "cell_type": "code",
   "execution_count": 5,
   "metadata": {
    "ExecuteTime": {
     "end_time": "2024-10-20T00:27:36.223991Z",
     "start_time": "2024-10-20T00:27:36.187948Z"
    }
   },
   "outputs": [
    {
     "data": {
      "application/vnd.plotly.v1+json": {
       "config": {
        "plotlyServerURL": "https://plot.ly"
       },
       "data": [
        {
         "cluster": {
          "enabled": true
         },
         "customdata": [
          [
           "Grove City",
           "OH",
           "Alleguard - Huntington",
           39.8821935,
           -83.0935377
          ],
          [
           "Bastrop",
           "TX",
           "Alleguard - Huntington",
           30.1104947,
           -97.3152701
          ],
          [
           "Cave Spring ",
           "GA",
           "Alleguard - Huntington",
           34.1075975,
           -85.33634339999999
          ],
          [
           "Greer",
           "SC",
           "Alleguard - Huntington",
           34.9387279,
           -82.2270568
          ],
          [
           "Greenville",
           "MI",
           "Alleguard - Huntington",
           43.1775314,
           -85.2527987
          ],
          [
           "Radford",
           "VA",
           "Alleguard - Huntington",
           37.13179239999999,
           -80.5764477
          ],
          [
           "West Brookfield",
           "MA",
           "Alleguard - Huntington",
           42.2353463,
           -72.14116419999999
          ],
          [
           "Monticello",
           "AR",
           "Alleguard - Huntington",
           33.6296702,
           -91.8021856
          ]
         ],
         "hovertemplate": "<b>%{hovertext}</b><br><br>city=%{customdata[0]}<br>state=%{customdata[1]}<extra></extra>",
         "hovertext": [
          "Alleguard - Huntington",
          "Alleguard - Huntington",
          "Alleguard - Huntington",
          "Alleguard - Huntington",
          "Alleguard - Huntington",
          "Alleguard - Huntington",
          "Alleguard - Huntington",
          "Alleguard - Huntington"
         ],
         "lat": [
          39.8821935,
          30.1104947,
          34.1075975,
          34.9387279,
          43.1775314,
          37.13179239999999,
          42.2353463,
          33.6296702
         ],
         "legendgroup": "Alleguard - Huntington",
         "lon": [
          -83.0935377,
          -97.3152701,
          -85.33634339999999,
          -82.2270568,
          -85.2527987,
          -80.5764477,
          -72.14116419999999,
          -91.8021856
         ],
         "marker": {
          "color": "#636efa"
         },
         "mode": "markers",
         "name": "Alleguard - Huntington",
         "showlegend": true,
         "subplot": "mapbox",
         "type": "scattermapbox"
        }
       ],
       "layout": {
        "legend": {
         "title": {
          "text": "Our Top Competitors"
         },
         "tracegroupgap": 0
        },
        "mapbox": {
         "center": {
          "lat": 36.9016692375,
          "lon": -84.718100525
         },
         "domain": {
          "x": [
           0,
           1
          ],
          "y": [
           0,
           1
          ]
         },
         "style": "open-street-map",
         "zoom": 8
        },
        "margin": {
         "b": 2,
         "l": 2,
         "r": 2,
         "t": 2
        },
        "template": {
         "data": {
          "bar": [
           {
            "error_x": {
             "color": "#2a3f5f"
            },
            "error_y": {
             "color": "#2a3f5f"
            },
            "marker": {
             "line": {
              "color": "#E5ECF6",
              "width": 0.5
             },
             "pattern": {
              "fillmode": "overlay",
              "size": 10,
              "solidity": 0.2
             }
            },
            "type": "bar"
           }
          ],
          "barpolar": [
           {
            "marker": {
             "line": {
              "color": "#E5ECF6",
              "width": 0.5
             },
             "pattern": {
              "fillmode": "overlay",
              "size": 10,
              "solidity": 0.2
             }
            },
            "type": "barpolar"
           }
          ],
          "carpet": [
           {
            "aaxis": {
             "endlinecolor": "#2a3f5f",
             "gridcolor": "white",
             "linecolor": "white",
             "minorgridcolor": "white",
             "startlinecolor": "#2a3f5f"
            },
            "baxis": {
             "endlinecolor": "#2a3f5f",
             "gridcolor": "white",
             "linecolor": "white",
             "minorgridcolor": "white",
             "startlinecolor": "#2a3f5f"
            },
            "type": "carpet"
           }
          ],
          "choropleth": [
           {
            "colorbar": {
             "outlinewidth": 0,
             "ticks": ""
            },
            "type": "choropleth"
           }
          ],
          "contour": [
           {
            "colorbar": {
             "outlinewidth": 0,
             "ticks": ""
            },
            "colorscale": [
             [
              0,
              "#0d0887"
             ],
             [
              0.1111111111111111,
              "#46039f"
             ],
             [
              0.2222222222222222,
              "#7201a8"
             ],
             [
              0.3333333333333333,
              "#9c179e"
             ],
             [
              0.4444444444444444,
              "#bd3786"
             ],
             [
              0.5555555555555556,
              "#d8576b"
             ],
             [
              0.6666666666666666,
              "#ed7953"
             ],
             [
              0.7777777777777778,
              "#fb9f3a"
             ],
             [
              0.8888888888888888,
              "#fdca26"
             ],
             [
              1,
              "#f0f921"
             ]
            ],
            "type": "contour"
           }
          ],
          "contourcarpet": [
           {
            "colorbar": {
             "outlinewidth": 0,
             "ticks": ""
            },
            "type": "contourcarpet"
           }
          ],
          "heatmap": [
           {
            "colorbar": {
             "outlinewidth": 0,
             "ticks": ""
            },
            "colorscale": [
             [
              0,
              "#0d0887"
             ],
             [
              0.1111111111111111,
              "#46039f"
             ],
             [
              0.2222222222222222,
              "#7201a8"
             ],
             [
              0.3333333333333333,
              "#9c179e"
             ],
             [
              0.4444444444444444,
              "#bd3786"
             ],
             [
              0.5555555555555556,
              "#d8576b"
             ],
             [
              0.6666666666666666,
              "#ed7953"
             ],
             [
              0.7777777777777778,
              "#fb9f3a"
             ],
             [
              0.8888888888888888,
              "#fdca26"
             ],
             [
              1,
              "#f0f921"
             ]
            ],
            "type": "heatmap"
           }
          ],
          "heatmapgl": [
           {
            "colorbar": {
             "outlinewidth": 0,
             "ticks": ""
            },
            "colorscale": [
             [
              0,
              "#0d0887"
             ],
             [
              0.1111111111111111,
              "#46039f"
             ],
             [
              0.2222222222222222,
              "#7201a8"
             ],
             [
              0.3333333333333333,
              "#9c179e"
             ],
             [
              0.4444444444444444,
              "#bd3786"
             ],
             [
              0.5555555555555556,
              "#d8576b"
             ],
             [
              0.6666666666666666,
              "#ed7953"
             ],
             [
              0.7777777777777778,
              "#fb9f3a"
             ],
             [
              0.8888888888888888,
              "#fdca26"
             ],
             [
              1,
              "#f0f921"
             ]
            ],
            "type": "heatmapgl"
           }
          ],
          "histogram": [
           {
            "marker": {
             "pattern": {
              "fillmode": "overlay",
              "size": 10,
              "solidity": 0.2
             }
            },
            "type": "histogram"
           }
          ],
          "histogram2d": [
           {
            "colorbar": {
             "outlinewidth": 0,
             "ticks": ""
            },
            "colorscale": [
             [
              0,
              "#0d0887"
             ],
             [
              0.1111111111111111,
              "#46039f"
             ],
             [
              0.2222222222222222,
              "#7201a8"
             ],
             [
              0.3333333333333333,
              "#9c179e"
             ],
             [
              0.4444444444444444,
              "#bd3786"
             ],
             [
              0.5555555555555556,
              "#d8576b"
             ],
             [
              0.6666666666666666,
              "#ed7953"
             ],
             [
              0.7777777777777778,
              "#fb9f3a"
             ],
             [
              0.8888888888888888,
              "#fdca26"
             ],
             [
              1,
              "#f0f921"
             ]
            ],
            "type": "histogram2d"
           }
          ],
          "histogram2dcontour": [
           {
            "colorbar": {
             "outlinewidth": 0,
             "ticks": ""
            },
            "colorscale": [
             [
              0,
              "#0d0887"
             ],
             [
              0.1111111111111111,
              "#46039f"
             ],
             [
              0.2222222222222222,
              "#7201a8"
             ],
             [
              0.3333333333333333,
              "#9c179e"
             ],
             [
              0.4444444444444444,
              "#bd3786"
             ],
             [
              0.5555555555555556,
              "#d8576b"
             ],
             [
              0.6666666666666666,
              "#ed7953"
             ],
             [
              0.7777777777777778,
              "#fb9f3a"
             ],
             [
              0.8888888888888888,
              "#fdca26"
             ],
             [
              1,
              "#f0f921"
             ]
            ],
            "type": "histogram2dcontour"
           }
          ],
          "mesh3d": [
           {
            "colorbar": {
             "outlinewidth": 0,
             "ticks": ""
            },
            "type": "mesh3d"
           }
          ],
          "parcoords": [
           {
            "line": {
             "colorbar": {
              "outlinewidth": 0,
              "ticks": ""
             }
            },
            "type": "parcoords"
           }
          ],
          "pie": [
           {
            "automargin": true,
            "type": "pie"
           }
          ],
          "scatter": [
           {
            "fillpattern": {
             "fillmode": "overlay",
             "size": 10,
             "solidity": 0.2
            },
            "type": "scatter"
           }
          ],
          "scatter3d": [
           {
            "line": {
             "colorbar": {
              "outlinewidth": 0,
              "ticks": ""
             }
            },
            "marker": {
             "colorbar": {
              "outlinewidth": 0,
              "ticks": ""
             }
            },
            "type": "scatter3d"
           }
          ],
          "scattercarpet": [
           {
            "marker": {
             "colorbar": {
              "outlinewidth": 0,
              "ticks": ""
             }
            },
            "type": "scattercarpet"
           }
          ],
          "scattergeo": [
           {
            "marker": {
             "colorbar": {
              "outlinewidth": 0,
              "ticks": ""
             }
            },
            "type": "scattergeo"
           }
          ],
          "scattergl": [
           {
            "marker": {
             "colorbar": {
              "outlinewidth": 0,
              "ticks": ""
             }
            },
            "type": "scattergl"
           }
          ],
          "scattermapbox": [
           {
            "marker": {
             "colorbar": {
              "outlinewidth": 0,
              "ticks": ""
             }
            },
            "type": "scattermapbox"
           }
          ],
          "scatterpolar": [
           {
            "marker": {
             "colorbar": {
              "outlinewidth": 0,
              "ticks": ""
             }
            },
            "type": "scatterpolar"
           }
          ],
          "scatterpolargl": [
           {
            "marker": {
             "colorbar": {
              "outlinewidth": 0,
              "ticks": ""
             }
            },
            "type": "scatterpolargl"
           }
          ],
          "scatterternary": [
           {
            "marker": {
             "colorbar": {
              "outlinewidth": 0,
              "ticks": ""
             }
            },
            "type": "scatterternary"
           }
          ],
          "surface": [
           {
            "colorbar": {
             "outlinewidth": 0,
             "ticks": ""
            },
            "colorscale": [
             [
              0,
              "#0d0887"
             ],
             [
              0.1111111111111111,
              "#46039f"
             ],
             [
              0.2222222222222222,
              "#7201a8"
             ],
             [
              0.3333333333333333,
              "#9c179e"
             ],
             [
              0.4444444444444444,
              "#bd3786"
             ],
             [
              0.5555555555555556,
              "#d8576b"
             ],
             [
              0.6666666666666666,
              "#ed7953"
             ],
             [
              0.7777777777777778,
              "#fb9f3a"
             ],
             [
              0.8888888888888888,
              "#fdca26"
             ],
             [
              1,
              "#f0f921"
             ]
            ],
            "type": "surface"
           }
          ],
          "table": [
           {
            "cells": {
             "fill": {
              "color": "#EBF0F8"
             },
             "line": {
              "color": "white"
             }
            },
            "header": {
             "fill": {
              "color": "#C8D4E3"
             },
             "line": {
              "color": "white"
             }
            },
            "type": "table"
           }
          ]
         },
         "layout": {
          "annotationdefaults": {
           "arrowcolor": "#2a3f5f",
           "arrowhead": 0,
           "arrowwidth": 1
          },
          "autotypenumbers": "strict",
          "coloraxis": {
           "colorbar": {
            "outlinewidth": 0,
            "ticks": ""
           }
          },
          "colorscale": {
           "diverging": [
            [
             0,
             "#8e0152"
            ],
            [
             0.1,
             "#c51b7d"
            ],
            [
             0.2,
             "#de77ae"
            ],
            [
             0.3,
             "#f1b6da"
            ],
            [
             0.4,
             "#fde0ef"
            ],
            [
             0.5,
             "#f7f7f7"
            ],
            [
             0.6,
             "#e6f5d0"
            ],
            [
             0.7,
             "#b8e186"
            ],
            [
             0.8,
             "#7fbc41"
            ],
            [
             0.9,
             "#4d9221"
            ],
            [
             1,
             "#276419"
            ]
           ],
           "sequential": [
            [
             0,
             "#0d0887"
            ],
            [
             0.1111111111111111,
             "#46039f"
            ],
            [
             0.2222222222222222,
             "#7201a8"
            ],
            [
             0.3333333333333333,
             "#9c179e"
            ],
            [
             0.4444444444444444,
             "#bd3786"
            ],
            [
             0.5555555555555556,
             "#d8576b"
            ],
            [
             0.6666666666666666,
             "#ed7953"
            ],
            [
             0.7777777777777778,
             "#fb9f3a"
            ],
            [
             0.8888888888888888,
             "#fdca26"
            ],
            [
             1,
             "#f0f921"
            ]
           ],
           "sequentialminus": [
            [
             0,
             "#0d0887"
            ],
            [
             0.1111111111111111,
             "#46039f"
            ],
            [
             0.2222222222222222,
             "#7201a8"
            ],
            [
             0.3333333333333333,
             "#9c179e"
            ],
            [
             0.4444444444444444,
             "#bd3786"
            ],
            [
             0.5555555555555556,
             "#d8576b"
            ],
            [
             0.6666666666666666,
             "#ed7953"
            ],
            [
             0.7777777777777778,
             "#fb9f3a"
            ],
            [
             0.8888888888888888,
             "#fdca26"
            ],
            [
             1,
             "#f0f921"
            ]
           ]
          },
          "colorway": [
           "#636efa",
           "#EF553B",
           "#00cc96",
           "#ab63fa",
           "#FFA15A",
           "#19d3f3",
           "#FF6692",
           "#B6E880",
           "#FF97FF",
           "#FECB52"
          ],
          "font": {
           "color": "#2a3f5f"
          },
          "geo": {
           "bgcolor": "white",
           "lakecolor": "white",
           "landcolor": "#E5ECF6",
           "showlakes": true,
           "showland": true,
           "subunitcolor": "white"
          },
          "hoverlabel": {
           "align": "left"
          },
          "hovermode": "closest",
          "mapbox": {
           "style": "light"
          },
          "paper_bgcolor": "white",
          "plot_bgcolor": "#E5ECF6",
          "polar": {
           "angularaxis": {
            "gridcolor": "white",
            "linecolor": "white",
            "ticks": ""
           },
           "bgcolor": "#E5ECF6",
           "radialaxis": {
            "gridcolor": "white",
            "linecolor": "white",
            "ticks": ""
           }
          },
          "scene": {
           "xaxis": {
            "backgroundcolor": "#E5ECF6",
            "gridcolor": "white",
            "gridwidth": 2,
            "linecolor": "white",
            "showbackground": true,
            "ticks": "",
            "zerolinecolor": "white"
           },
           "yaxis": {
            "backgroundcolor": "#E5ECF6",
            "gridcolor": "white",
            "gridwidth": 2,
            "linecolor": "white",
            "showbackground": true,
            "ticks": "",
            "zerolinecolor": "white"
           },
           "zaxis": {
            "backgroundcolor": "#E5ECF6",
            "gridcolor": "white",
            "gridwidth": 2,
            "linecolor": "white",
            "showbackground": true,
            "ticks": "",
            "zerolinecolor": "white"
           }
          },
          "shapedefaults": {
           "line": {
            "color": "#2a3f5f"
           }
          },
          "ternary": {
           "aaxis": {
            "gridcolor": "white",
            "linecolor": "white",
            "ticks": ""
           },
           "baxis": {
            "gridcolor": "white",
            "linecolor": "white",
            "ticks": ""
           },
           "bgcolor": "#E5ECF6",
           "caxis": {
            "gridcolor": "white",
            "linecolor": "white",
            "ticks": ""
           }
          },
          "title": {
           "x": 0.05
          },
          "xaxis": {
           "automargin": true,
           "gridcolor": "white",
           "linecolor": "white",
           "ticks": "",
           "title": {
            "standoff": 15
           },
           "zerolinecolor": "white",
           "zerolinewidth": 2
          },
          "yaxis": {
           "automargin": true,
           "gridcolor": "white",
           "linecolor": "white",
           "ticks": "",
           "title": {
            "standoff": 15
           },
           "zerolinecolor": "white",
           "zerolinewidth": 2
          }
         }
        }
       }
      }
     },
     "metadata": {},
     "output_type": "display_data"
    }
   ],
   "source": [
    "fig = px.scatter_mapbox(\n",
    "    data_frame=companies_df.query(f\"top_competitors == 'Alleguard - Huntington'\"),\n",
    "    lat=\"latitude\", lon=\"longitude\",\n",
    "    # title=\"Locations of our Competitor's Warehouses\",\n",
    "    color=\"top_competitors\",\n",
    "    hover_name=\"top_competitors\",\n",
    "    hover_data={\n",
    "        \"city\": True,\n",
    "        \"state\": True,\n",
    "        \"top_competitors\": False,\n",
    "        \"latitude\": False,\n",
    "        \"longitude\": False\n",
    "    },\n",
    "    labels={\"top_competitors\": \"Our Top Competitors\"}\n",
    ")\n",
    "\n",
    "fig.update_layout(mapbox_style=\"open-street-map\",\n",
    "    margin={\"r\":2,\"t\":2,\"l\":2,\"b\":2}) \n",
    "\n",
    "fig.update_traces(cluster=dict(enabled=True))\n",
    "fig"
   ]
  },
  {
   "cell_type": "markdown",
   "metadata": {},
   "source": [
    "## Visuals for All Companies\n",
    "### Creating using plotly.graph_objects"
   ]
  },
  {
   "cell_type": "code",
   "execution_count": 6,
   "metadata": {
    "ExecuteTime": {
     "end_time": "2024-10-20T00:27:36.257189Z",
     "start_time": "2024-10-20T00:27:36.225994Z"
    }
   },
   "outputs": [
    {
     "data": {
      "text/html": [
       "<div>\n",
       "<style scoped>\n",
       "    .dataframe tbody tr th:only-of-type {\n",
       "        vertical-align: middle;\n",
       "    }\n",
       "\n",
       "    .dataframe tbody tr th {\n",
       "        vertical-align: top;\n",
       "    }\n",
       "\n",
       "    .dataframe thead th {\n",
       "        text-align: right;\n",
       "    }\n",
       "</style>\n",
       "<table border=\"1\" class=\"dataframe\">\n",
       "  <thead>\n",
       "    <tr style=\"text-align: right;\">\n",
       "      <th></th>\n",
       "      <th>company</th>\n",
       "      <th>city</th>\n",
       "      <th>state</th>\n",
       "      <th>latitude</th>\n",
       "      <th>longitude</th>\n",
       "      <th>text</th>\n",
       "      <th>color</th>\n",
       "    </tr>\n",
       "  </thead>\n",
       "  <tbody>\n",
       "    <tr>\n",
       "      <th>0</th>\n",
       "      <td>Alleguard - Huntington</td>\n",
       "      <td>Grove City</td>\n",
       "      <td>OH</td>\n",
       "      <td>39.882193</td>\n",
       "      <td>-83.093538</td>\n",
       "      <td>Alleguard - Huntington&lt;br&gt;Grove City, OH</td>\n",
       "      <td>#60D13B</td>\n",
       "    </tr>\n",
       "    <tr>\n",
       "      <th>1</th>\n",
       "      <td>Alleguard - Huntington</td>\n",
       "      <td>Bastrop</td>\n",
       "      <td>TX</td>\n",
       "      <td>30.110495</td>\n",
       "      <td>-97.315270</td>\n",
       "      <td>Alleguard - Huntington&lt;br&gt;Bastrop, TX</td>\n",
       "      <td>#60D13B</td>\n",
       "    </tr>\n",
       "    <tr>\n",
       "      <th>2</th>\n",
       "      <td>Alleguard - Huntington</td>\n",
       "      <td>Cave Spring</td>\n",
       "      <td>GA</td>\n",
       "      <td>34.107597</td>\n",
       "      <td>-85.336343</td>\n",
       "      <td>Alleguard - Huntington&lt;br&gt;Cave Spring, GA</td>\n",
       "      <td>#60D13B</td>\n",
       "    </tr>\n",
       "    <tr>\n",
       "      <th>3</th>\n",
       "      <td>Cellofoam</td>\n",
       "      <td>Whiteland</td>\n",
       "      <td>IN</td>\n",
       "      <td>39.550049</td>\n",
       "      <td>-86.079708</td>\n",
       "      <td>Cellofoam&lt;br&gt;Whiteland, IN</td>\n",
       "      <td>#EEC07E</td>\n",
       "    </tr>\n",
       "    <tr>\n",
       "      <th>4</th>\n",
       "      <td>Cellofoam</td>\n",
       "      <td>Sallisaw</td>\n",
       "      <td>OK</td>\n",
       "      <td>35.460371</td>\n",
       "      <td>-94.787446</td>\n",
       "      <td>Cellofoam&lt;br&gt;Sallisaw, OK</td>\n",
       "      <td>#EEC07E</td>\n",
       "    </tr>\n",
       "    <tr>\n",
       "      <th>...</th>\n",
       "      <td>...</td>\n",
       "      <td>...</td>\n",
       "      <td>...</td>\n",
       "      <td>...</td>\n",
       "      <td>...</td>\n",
       "      <td>...</td>\n",
       "      <td>...</td>\n",
       "    </tr>\n",
       "    <tr>\n",
       "      <th>108</th>\n",
       "      <td>Altor Solutions</td>\n",
       "      <td>North Andover</td>\n",
       "      <td>MA</td>\n",
       "      <td>42.698700</td>\n",
       "      <td>-71.135100</td>\n",
       "      <td>Altor Solutions&lt;br&gt;North Andover, MA</td>\n",
       "      <td>#942AAE</td>\n",
       "    </tr>\n",
       "    <tr>\n",
       "      <th>109</th>\n",
       "      <td>Altor Solutions</td>\n",
       "      <td>St. Petersburg</td>\n",
       "      <td>FL</td>\n",
       "      <td>27.770400</td>\n",
       "      <td>-82.679300</td>\n",
       "      <td>Altor Solutions&lt;br&gt;St. Petersburg, FL</td>\n",
       "      <td>#942AAE</td>\n",
       "    </tr>\n",
       "    <tr>\n",
       "      <th>110</th>\n",
       "      <td>Altor Solutions</td>\n",
       "      <td>Waxahachie</td>\n",
       "      <td>TX</td>\n",
       "      <td>32.386500</td>\n",
       "      <td>-96.848300</td>\n",
       "      <td>Altor Solutions&lt;br&gt;Waxahachie, TX</td>\n",
       "      <td>#942AAE</td>\n",
       "    </tr>\n",
       "    <tr>\n",
       "      <th>111</th>\n",
       "      <td>Altor Solutions</td>\n",
       "      <td>Vernon</td>\n",
       "      <td>CA</td>\n",
       "      <td>34.003900</td>\n",
       "      <td>-118.230200</td>\n",
       "      <td>Altor Solutions&lt;br&gt;Vernon, CA</td>\n",
       "      <td>#942AAE</td>\n",
       "    </tr>\n",
       "    <tr>\n",
       "      <th>112</th>\n",
       "      <td>Altor Solutions</td>\n",
       "      <td>Huntington Beach</td>\n",
       "      <td>CA</td>\n",
       "      <td>33.659500</td>\n",
       "      <td>-117.998800</td>\n",
       "      <td>Altor Solutions&lt;br&gt;Huntington Beach, CA</td>\n",
       "      <td>#942AAE</td>\n",
       "    </tr>\n",
       "  </tbody>\n",
       "</table>\n",
       "<p>113 rows × 7 columns</p>\n",
       "</div>"
      ],
      "text/plain": [
       "                    company              city state   latitude   longitude  \\\n",
       "0    Alleguard - Huntington        Grove City    OH  39.882193  -83.093538   \n",
       "1    Alleguard - Huntington           Bastrop    TX  30.110495  -97.315270   \n",
       "2    Alleguard - Huntington       Cave Spring    GA  34.107597  -85.336343   \n",
       "3                 Cellofoam         Whiteland    IN  39.550049  -86.079708   \n",
       "4                 Cellofoam          Sallisaw    OK  35.460371  -94.787446   \n",
       "..                      ...               ...   ...        ...         ...   \n",
       "108         Altor Solutions     North Andover    MA  42.698700  -71.135100   \n",
       "109         Altor Solutions    St. Petersburg    FL  27.770400  -82.679300   \n",
       "110         Altor Solutions        Waxahachie    TX  32.386500  -96.848300   \n",
       "111         Altor Solutions            Vernon    CA  34.003900 -118.230200   \n",
       "112         Altor Solutions  Huntington Beach    CA  33.659500 -117.998800   \n",
       "\n",
       "                                          text    color  \n",
       "0     Alleguard - Huntington<br>Grove City, OH  #60D13B  \n",
       "1        Alleguard - Huntington<br>Bastrop, TX  #60D13B  \n",
       "2    Alleguard - Huntington<br>Cave Spring, GA  #60D13B  \n",
       "3                   Cellofoam<br>Whiteland, IN  #EEC07E  \n",
       "4                    Cellofoam<br>Sallisaw, OK  #EEC07E  \n",
       "..                                         ...      ...  \n",
       "108       Altor Solutions<br>North Andover, MA  #942AAE  \n",
       "109      Altor Solutions<br>St. Petersburg, FL  #942AAE  \n",
       "110          Altor Solutions<br>Waxahachie, TX  #942AAE  \n",
       "111              Altor Solutions<br>Vernon, CA  #942AAE  \n",
       "112    Altor Solutions<br>Huntington Beach, CA  #942AAE  \n",
       "\n",
       "[113 rows x 7 columns]"
      ]
     },
     "execution_count": 6,
     "metadata": {},
     "output_type": "execute_result"
    }
   ],
   "source": [
    "import plotly.graph_objects as go\n",
    "import pandas as pd\n",
    "\n",
    "df = pd.read_csv(\"../datasets/companies_locations.csv\")\n",
    "df\n"
   ]
  },
  {
   "cell_type": "code",
   "execution_count": 7,
   "metadata": {
    "ExecuteTime": {
     "end_time": "2024-10-20T00:27:36.587243Z",
     "start_time": "2024-10-20T00:27:36.408519Z"
    }
   },
   "outputs": [
    {
     "data": {
      "application/vnd.plotly.v1+json": {
       "config": {
        "plotlyServerURL": "https://plot.ly"
       },
       "data": [
        {
         "lat": [
          39.8821935,
          30.1104947,
          34.1075975,
          34.9387279,
          43.1775314,
          37.13179239999999,
          42.2353463,
          33.6296702
         ],
         "locationmode": "USA-states",
         "lon": [
          -83.0935377,
          -97.3152701,
          -85.33634339999999,
          -82.2270568,
          -85.2527987,
          -80.5764477,
          -72.14116419999999,
          -91.8021856
         ],
         "marker": {
          "size": 15,
          "symbol": 6
         },
         "mode": "markers",
         "name": "Alleguard - Huntington",
         "text": [
          "Alleguard - Huntington<br>Grove City, OH",
          "Alleguard - Huntington<br>Bastrop, TX",
          "Alleguard - Huntington<br>Cave Spring, GA",
          "Alleguard - Huntington<br>Greer, SC",
          "Alleguard - Huntington<br>Greenville, MI",
          "Alleguard - Huntington<br>Radford, VA",
          "Alleguard - Huntington<br>West Brookfield, MA",
          "Alleguard - Huntington<br>Monticello, AR"
         ],
         "type": "scattergeo"
        },
        {
         "lat": [
          39.5500485,
          35.4603711,
          33.6676103,
          34.2978794,
          28.5383832,
          38.3031837,
          39.1856597
         ],
         "locationmode": "USA-states",
         "lon": [
          -86.0797079,
          -94.7874463,
          -84.01769039999999,
          -83.8240663,
          -81.3789269,
          -77.4605399,
          -78.1633341
         ],
         "marker": {
          "size": 15,
          "symbol": 6
         },
         "mode": "markers",
         "name": "Cellofoam",
         "text": [
          "Cellofoam<br>Whiteland, IN",
          "Cellofoam<br>Sallisaw, OK",
          "Cellofoam<br>Conyers, GA",
          "Cellofoam<br>Gainesville, GA",
          "Cellofoam<br>Orlando, FL",
          "Cellofoam<br>Fredericksburg, VA",
          "Cellofoam<br>Winchester, VA"
         ],
         "type": "scattergeo"
        },
        {
         "lat": [
          35.3789361
         ],
         "locationmode": "USA-states",
         "lon": [
          -81.3795737
         ],
         "marker": {
          "size": 15,
          "symbol": 6
         },
         "mode": "markers",
         "name": "Modern Polymers",
         "text": [
          "Modern Polymers<br>Cherryville, NC"
         ],
         "type": "scattergeo"
        },
        {
         "lat": [
          39.529919,
          32.9110027,
          37.9715592,
          36.0156178,
          34.6059253,
          34.2182107,
          41.6873832
         ],
         "locationmode": "USA-states",
         "lon": [
          -119.8142691,
          -111.7733902,
          -87.5710898,
          -86.5819394,
          -86.9833417,
          -80.2484056,
          -85.973517
         ],
         "marker": {
          "size": 15,
          "symbol": 6
         },
         "mode": "markers",
         "name": "EFP",
         "text": [
          "EFP<br>Reno, NV",
          "EFP<br>Casa Granda, AZ",
          "EFP<br>Evansville, IN",
          "EFP<br>La vergne, TN",
          "EFP<br>Decatur, AL",
          "EFP<br>Bishopville, SC",
          "EFP<br>Elkhart, IN"
         ],
         "type": "scattergeo"
        },
        {
         "lat": [
          35.6780104
         ],
         "locationmode": "USA-states",
         "lon": [
          -119.2292748
         ],
         "marker": {
          "size": 15,
          "symbol": 6
         },
         "mode": "markers",
         "name": "Aptco",
         "text": [
          "Aptco<br>McFarland, CA"
         ],
         "type": "scattergeo"
        },
        {
         "lat": [
          36.3301329
         ],
         "locationmode": "USA-states",
         "lon": [
          -119.2966367
         ],
         "marker": {
          "size": 15,
          "symbol": 6
         },
         "mode": "markers",
         "name": "Tempo Precision Molded Foam",
         "text": [
          "Tempo Precision Molded Foam<br>Visalia, CA"
         ],
         "type": "scattergeo"
        },
        {
         "lat": [
          33.1983388,
          39.8366528
         ],
         "locationmode": "USA-states",
         "lon": [
          -96.6389342,
          -105.0372046
         ],
         "marker": {
          "size": 15,
          "symbol": 6
         },
         "mode": "markers",
         "name": "ACH Foam Technologies",
         "text": [
          "ACH Foam Technologies<br>McKinney, TX",
          "ACH Foam Technologies<br>Westminster, CO"
         ],
         "type": "scattergeo"
        },
        {
         "lat": [
          34.2994874,
          39.7392358,
          40.6668916,
          39.529919,
          35.189443,
          32.735687,
          42.8122508,
          43.7730448,
          37.55977540000001,
          39.11553139999999,
          37.7242202,
          41.30140770000001,
          34.2978794
         ],
         "locationmode": "USA-states",
         "lon": [
          -118.4588292,
          -104.990251,
          -111.8879909,
          -119.8142691,
          -114.0530065,
          -97.1080656,
          -85.7228061,
          -88.4470508,
          -90.2940069,
          -94.6267873,
          -89.8612196,
          -91.6916417,
          -83.8240663
         ],
         "marker": {
          "size": 15,
          "symbol": 6
         },
         "mode": "markers",
         "name": "Atlas Molded Products",
         "text": [
          "Atlas Molded Products<br>Sylmar, CA",
          "Atlas Molded Products<br>Denver, CO",
          "Atlas Molded Products<br>Murray, UT",
          "Atlas Molded Products<br>Reno, NV",
          "Atlas Molded Products<br>Kingman, AZ",
          "Atlas Molded Products<br>E Arlington, TX",
          "Atlas Molded Products<br>Byron Center, MI",
          "Atlas Molded Products<br>Fond du Lac, WI",
          "Atlas Molded Products<br>Fredericktown, MO",
          "Atlas Molded Products<br>Kansas City, KS",
          "Atlas Molded Products<br>Perryville, MO",
          "Atlas Molded Products<br>Washington, IA",
          "Atlas Molded Products<br>Gainesville, GA"
         ],
         "type": "scattergeo"
        },
        {
         "lat": [
          36.5768046,
          41.0391283,
          42.9978049,
          35.3620235,
          35.5342414,
          38.2120144,
          38.8338816
         ],
         "locationmode": "USA-states",
         "lon": [
          -79.8583721,
          -83.6502309,
          -84.1766358,
          -86.20943419999999,
          -87.20695409999999,
          -85.2235666,
          -104.8213634
         ],
         "marker": {
          "size": 15,
          "symbol": 6
         },
         "mode": "markers",
         "name": "Sonoco",
         "text": [
          "Sonoco<br>Ridgeway, VA",
          "Sonoco<br>Findlay, OH",
          "Sonoco<br>Owosso, MI",
          "Sonoco<br>Tullahoma, TN",
          "Sonoco<br>Mt. Pleasant, TN",
          "Sonoco<br>Shelbyville, KY",
          "Sonoco<br>Colorado Springs, CO"
         ],
         "type": "scattergeo"
        },
        {
         "lat": [
          35.6780104
         ],
         "locationmode": "USA-states",
         "lon": [
          -119.2292748
         ],
         "marker": {
          "size": 15,
          "symbol": 6
         },
         "mode": "markers",
         "name": "Cold Keepers",
         "text": [
          "Cold Keepers<br>Mcfarland, CA"
         ],
         "type": "scattergeo"
        },
        {
         "lat": [
          30.8365815
         ],
         "locationmode": "USA-states",
         "lon": [
          -83.9787808
         ],
         "marker": {
          "size": 15,
          "symbol": 6
         },
         "mode": "markers",
         "name": "Styrotech",
         "text": [
          "Styrotech<br>Thomasville, GA"
         ],
         "type": "scattergeo"
        },
        {
         "lat": [
          45.0941315
         ],
         "locationmode": "USA-states",
         "lon": [
          -93.3563405
         ],
         "marker": {
          "size": 15,
          "symbol": 6
         },
         "mode": "markers",
         "name": "OpCO",
         "text": [
          "OpCO<br>Brooklyn Park, MN"
         ],
         "type": "scattergeo"
        },
        {
         "lat": [
          40.3211808
         ],
         "locationmode": "USA-states",
         "lon": [
          -79.37948109999999
         ],
         "marker": {
          "size": 15,
          "symbol": 6
         },
         "mode": "markers",
         "name": "Plastillite",
         "text": [
          "Plastillite<br>Latrobe, PA"
         ],
         "type": "scattergeo"
        },
        {
         "lat": [
          41.2565369,
          29.7600771
         ],
         "locationmode": "USA-states",
         "lon": [
          -95.9345034,
          -95.3701108
         ],
         "marker": {
          "size": 15,
          "symbol": 6
         },
         "mode": "markers",
         "name": "Houston Foam Plastics",
         "text": [
          "Houston Foam Plastics<br>Omaha, NE",
          "Houston Foam Plastics<br>Houston, TX"
         ],
         "type": "scattergeo"
        },
        {
         "lat": [
          29.4251905
         ],
         "locationmode": "USA-states",
         "lon": [
          -98.4945922
         ],
         "marker": {
          "size": 15,
          "symbol": 6
         },
         "mode": "markers",
         "name": "Imperial Foam & Insulation",
         "text": [
          "Imperial Foam & Insulation<br>San Antonio, TX"
         ],
         "type": "scattergeo"
        },
        {
         "lat": [
          29.2858129,
          33.6594835
         ],
         "locationmode": "USA-states",
         "lon": [
          -81.0558894,
          -117.9988026
         ],
         "marker": {
          "size": 15,
          "symbol": 6
         },
         "mode": "markers",
         "name": "Marko Foam",
         "text": [
          "Marko Foam<br>Ormond Beach, FL",
          "Marko Foam<br>Huntington Beach, CA"
         ],
         "type": "scattergeo"
        },
        {
         "lat": [
          40.7607793
         ],
         "locationmode": "USA-states",
         "lon": [
          -111.8910474
         ],
         "marker": {
          "size": 15,
          "symbol": 6
         },
         "mode": "markers",
         "name": "Michigan Foam",
         "text": [
          "Michigan Foam<br>Salt Lake City, UT"
         ],
         "type": "scattergeo"
        },
        {
         "lat": [
          42.9133602
         ],
         "locationmode": "USA-states",
         "lon": [
          -85.7053085
         ],
         "marker": {
          "size": 15,
          "symbol": 6
         },
         "mode": "markers",
         "name": "Pal Pac",
         "text": [
          "Pal Pac<br>Wyoming, MI"
         ],
         "type": "scattergeo"
        },
        {
         "lat": [
          41.0192185
         ],
         "locationmode": "USA-states",
         "lon": [
          -84.0471666
         ],
         "marker": {
          "size": 15,
          "symbol": 6
         },
         "mode": "markers",
         "name": "Branch River Plastics",
         "text": [
          "Branch River Plastics<br>Ottawa, OH"
         ],
         "type": "scattergeo"
        },
        {
         "lat": [
          41.9220496
         ],
         "locationmode": "USA-states",
         "lon": [
          -71.54951009999999
         ],
         "marker": {
          "size": 15,
          "symbol": 6
         },
         "mode": "markers",
         "name": "FMI-EPS",
         "text": [
          "FMI-EPS<br>Smithfield, RI"
         ],
         "type": "scattergeo"
        },
        {
         "lat": [
          47.7179578
         ],
         "locationmode": "USA-states",
         "lon": [
          -116.9515856
         ],
         "marker": {
          "size": 15,
          "symbol": 6
         },
         "mode": "markers",
         "name": "Polar Central",
         "text": [
          "Polar Central<br>Post Falls, ID"
         ],
         "type": "scattergeo"
        },
        {
         "lat": [
          41.5023192
         ],
         "locationmode": "USA-states",
         "lon": [
          -72.9787163
         ],
         "marker": {
          "size": 15,
          "symbol": 6
         },
         "mode": "markers",
         "name": "Mister Packaging",
         "text": [
          "Mister Packaging<br>Prospect, CT"
         ],
         "type": "scattergeo"
        },
        {
         "lat": [
          33.8365932
         ],
         "locationmode": "USA-states",
         "lon": [
          -117.9143012
         ],
         "marker": {
          "size": 15,
          "symbol": 6
         },
         "mode": "markers",
         "name": "ThermaFoam",
         "text": [
          "ThermaFoam<br>Anaheim, CA"
         ],
         "type": "scattergeo"
        },
        {
         "lat": [
          32.0109886
         ],
         "locationmode": "USA-states",
         "lon": [
          -97.1300061
         ],
         "marker": {
          "size": 15,
          "symbol": 6
         },
         "mode": "markers",
         "name": "Robin II",
         "text": [
          "Robin II<br>Hillsboro, TX"
         ],
         "type": "scattergeo"
        },
        {
         "lat": [
          43.7072047
         ],
         "locationmode": "USA-states",
         "lon": [
          -88.9901122
         ],
         "marker": {
          "size": 15,
          "symbol": 6
         },
         "mode": "markers",
         "name": "Foam Pack Industries",
         "text": [
          "Foam Pack Industries<br>Markesan, WI"
         ],
         "type": "scattergeo"
        },
        {
         "lat": [
          40.7016937
         ],
         "locationmode": "USA-states",
         "lon": [
          -74.3222146
         ],
         "marker": {
          "size": 15,
          "symbol": 6
         },
         "mode": "markers",
         "name": "Clyde Tool & Die",
         "text": [
          "Clyde Tool & Die<br>Springfield, NJ"
         ],
         "type": "scattergeo"
        },
        {
         "lat": [
          41.30422009999999
         ],
         "locationmode": "USA-states",
         "lon": [
          -82.975192
         ],
         "marker": {
          "size": 15,
          "symbol": 6
         },
         "mode": "markers",
         "name": "DiversiFoam Products",
         "text": [
          "DiversiFoam Products<br>Clyde, OH"
         ],
         "type": "scattergeo"
        },
        {
         "lat": [
          45.0872861
         ],
         "locationmode": "USA-states",
         "lon": [
          -93.7415093
         ],
         "marker": {
          "size": 15,
          "symbol": 6
         },
         "mode": "markers",
         "name": "Beaver Plastics",
         "text": [
          "Beaver Plastics<br>Rockford, MN"
         ],
         "type": "scattergeo"
        },
        {
         "lat": [
          44.8994088
         ],
         "locationmode": "USA-states",
         "lon": [
          -97.1150732
         ],
         "marker": {
          "size": 15,
          "symbol": 6
         },
         "mode": "markers",
         "name": "Aqua-Pak Industries Ltd",
         "text": [
          "Aqua-Pak Industries Ltd<br>Watertown, SD"
         ],
         "type": "scattergeo"
        },
        {
         "lat": [
          38.2120144,
          39.4863773,
          32.2617127,
          41.8781136,
          32.7554883
         ],
         "locationmode": "USA-states",
         "lon": [
          -85.2235666,
          -75.02596369999999,
          -83.7365798,
          -87.6297982,
          -97.3307658
         ],
         "marker": {
          "size": 15,
          "symbol": 6
         },
         "mode": "markers",
         "name": "Creative Packaging",
         "text": [
          "Creative Packaging<br>Shelbyville, KY",
          "Creative Packaging<br>Vineland, NJ",
          "Creative Packaging<br>Unadilla, GA",
          "Creative Packaging<br>Chicago, IL",
          "Creative Packaging<br>Ft. Worth, TX"
         ],
         "type": "scattergeo"
        },
        {
         "lat": [
          33.4483771
         ],
         "locationmode": "USA-states",
         "lon": [
          -112.0740373
         ],
         "marker": {
          "size": 15,
          "symbol": 6
         },
         "mode": "markers",
         "name": "Custom Pack",
         "text": [
          "Custom Pack<br>Phoenix, AZ"
         ],
         "type": "scattergeo"
        },
        {
         "lat": [
          41.5114731
         ],
         "locationmode": "USA-states",
         "lon": [
          -75.96954649999999
         ],
         "marker": {
          "size": 15,
          "symbol": 6
         },
         "mode": "markers",
         "name": "Insulated Products Corp (IPC)",
         "text": [
          "Insulated Products Corp (IPC)<br>Eaton, PA"
         ],
         "type": "scattergeo"
        },
        {
         "lat": [
          34.0549076
         ],
         "locationmode": "USA-states",
         "lon": [
          -118.242643
         ],
         "marker": {
          "size": 15,
          "symbol": 6
         },
         "mode": "markers",
         "name": "Magna LoBoy",
         "text": [
          "Magna LoBoy<br>Los Angeles, CA"
         ],
         "type": "scattergeo"
        },
        {
         "lat": [
          30.42007079999999
         ],
         "locationmode": "USA-states",
         "lon": [
          -86.6170308
         ],
         "marker": {
          "size": 15,
          "symbol": 6
         },
         "mode": "markers",
         "name": "Speedling",
         "text": [
          "Speedling<br>Fort Walton, FL"
         ],
         "type": "scattergeo"
        },
        {
         "lat": [
          27.678254,
          47.2528768,
          61.2175758,
          47.3830671,
          38.4454641,
          34.0122346,
          40.7607793,
          33.4483771,
          39.7294319,
          41.2286493,
          28.0394654
         ],
         "locationmode": "USA-states",
         "lon": [
          -82.4787384,
          -122.4442906,
          -149.8996785,
          -122.234771,
          -121.8232958,
          -117.688944,
          -111.8910474,
          -112.0740373,
          -104.8319195,
          -96.489212,
          -81.9498042
         ],
         "marker": {
          "size": 15,
          "symbol": 6
         },
         "mode": "markers",
         "name": "Insulfoam LLC",
         "text": [
          "Insulfoam LLC<br>Sun City, FL",
          "Insulfoam LLC<br>Tacoma, WA",
          "Insulfoam LLC<br>Anchorage, AK",
          "Insulfoam LLC<br>Kent, WA",
          "Insulfoam LLC<br>Dixon, CA",
          "Insulfoam LLC<br>Chino, CA",
          "Insulfoam LLC<br>Salt Lake City, UT",
          "Insulfoam LLC<br>Phoenix, AZ",
          "Insulfoam LLC<br>Aurora, CO",
          "Insulfoam LLC<br>Mead, NE",
          "Insulfoam LLC<br>Lakeland, FL"
         ],
         "type": "scattergeo"
        },
        {
         "lat": [
          42.88644679999999
         ],
         "locationmode": "USA-states",
         "lon": [
          -78.8783689
         ],
         "marker": {
          "size": 15,
          "symbol": 6
         },
         "mode": "markers",
         "name": "Armstrong Brands",
         "text": [
          "Armstrong Brands<br>Buffalo, NY"
         ],
         "type": "scattergeo"
        },
        {
         "lat": [
          42.145,
          41.0037,
          34.5034,
          34.1176,
          40.3584,
          38.2856,
          35.6145,
          43.7472,
          40.6292,
          37.8762,
          32.9343,
          37.6391,
          33.8958,
          38.627,
          20.6786,
          32.5027,
          39.4732,
          34.257,
          42.6987,
          27.7704,
          32.3865,
          34.0039,
          33.6595
         ],
         "locationmode": "USA-states",
         "lon": [
          -71.652,
          -76.4541,
          -82.6501,
          -83.5724,
          -81.4401,
          -85.8241,
          -88.8139,
          -87.9779,
          -91.3143,
          -94.0184,
          -97.251,
          -120.9969,
          -118.2207,
          -90.1994,
          -100.4226,
          -117.0037,
          -76.2324,
          -85.1647,
          -71.1351,
          -82.6793,
          -96.8483,
          -118.2302,
          -117.9988
         ],
         "marker": {
          "size": 15,
          "symbol": 6
         },
         "mode": "markers",
         "name": "Altor Solutions",
         "text": [
          "Altor Solutions<br>Northbridge, MA",
          "Altor Solutions<br>Bloomsburg, PA",
          "Altor Solutions<br>Anderson, SC",
          "Altor Solutions<br>Jefferson, GA",
          "Altor Solutions<br>Gnadenhutten, OH",
          "Altor Solutions<br>New Albany, IN",
          "Altor Solutions<br>Jackson, TN",
          "Altor Solutions<br>Plymouth, WI",
          "Altor Solutions<br>Fort Madison, IA",
          "Altor Solutions<br>El Dorado Springs, MO",
          "Altor Solutions<br>Keller, TX",
          "Altor Solutions<br>Modesto, CA",
          "Altor Solutions<br>Compton, CA",
          "Altor Solutions<br>St. Louis, MO",
          "Altor Solutions<br>St. Rosa Jaurequi (Queretaro), Queretaro",
          "Altor Solutions<br>St. Rosa Jaurequi (Baja California), BC",
          "Altor Solutions<br>Belcamp, MD",
          "Altor Solutions<br>Rome, GA",
          "Altor Solutions<br>North Andover, MA",
          "Altor Solutions<br>St. Petersburg, FL",
          "Altor Solutions<br>Waxahachie, TX",
          "Altor Solutions<br>Vernon, CA",
          "Altor Solutions<br>Huntington Beach, CA"
         ],
         "type": "scattergeo"
        }
       ],
       "layout": {
        "geo": {
         "scope": "usa"
        },
        "template": {
         "data": {
          "bar": [
           {
            "error_x": {
             "color": "#2a3f5f"
            },
            "error_y": {
             "color": "#2a3f5f"
            },
            "marker": {
             "line": {
              "color": "#E5ECF6",
              "width": 0.5
             },
             "pattern": {
              "fillmode": "overlay",
              "size": 10,
              "solidity": 0.2
             }
            },
            "type": "bar"
           }
          ],
          "barpolar": [
           {
            "marker": {
             "line": {
              "color": "#E5ECF6",
              "width": 0.5
             },
             "pattern": {
              "fillmode": "overlay",
              "size": 10,
              "solidity": 0.2
             }
            },
            "type": "barpolar"
           }
          ],
          "carpet": [
           {
            "aaxis": {
             "endlinecolor": "#2a3f5f",
             "gridcolor": "white",
             "linecolor": "white",
             "minorgridcolor": "white",
             "startlinecolor": "#2a3f5f"
            },
            "baxis": {
             "endlinecolor": "#2a3f5f",
             "gridcolor": "white",
             "linecolor": "white",
             "minorgridcolor": "white",
             "startlinecolor": "#2a3f5f"
            },
            "type": "carpet"
           }
          ],
          "choropleth": [
           {
            "colorbar": {
             "outlinewidth": 0,
             "ticks": ""
            },
            "type": "choropleth"
           }
          ],
          "contour": [
           {
            "colorbar": {
             "outlinewidth": 0,
             "ticks": ""
            },
            "colorscale": [
             [
              0,
              "#0d0887"
             ],
             [
              0.1111111111111111,
              "#46039f"
             ],
             [
              0.2222222222222222,
              "#7201a8"
             ],
             [
              0.3333333333333333,
              "#9c179e"
             ],
             [
              0.4444444444444444,
              "#bd3786"
             ],
             [
              0.5555555555555556,
              "#d8576b"
             ],
             [
              0.6666666666666666,
              "#ed7953"
             ],
             [
              0.7777777777777778,
              "#fb9f3a"
             ],
             [
              0.8888888888888888,
              "#fdca26"
             ],
             [
              1,
              "#f0f921"
             ]
            ],
            "type": "contour"
           }
          ],
          "contourcarpet": [
           {
            "colorbar": {
             "outlinewidth": 0,
             "ticks": ""
            },
            "type": "contourcarpet"
           }
          ],
          "heatmap": [
           {
            "colorbar": {
             "outlinewidth": 0,
             "ticks": ""
            },
            "colorscale": [
             [
              0,
              "#0d0887"
             ],
             [
              0.1111111111111111,
              "#46039f"
             ],
             [
              0.2222222222222222,
              "#7201a8"
             ],
             [
              0.3333333333333333,
              "#9c179e"
             ],
             [
              0.4444444444444444,
              "#bd3786"
             ],
             [
              0.5555555555555556,
              "#d8576b"
             ],
             [
              0.6666666666666666,
              "#ed7953"
             ],
             [
              0.7777777777777778,
              "#fb9f3a"
             ],
             [
              0.8888888888888888,
              "#fdca26"
             ],
             [
              1,
              "#f0f921"
             ]
            ],
            "type": "heatmap"
           }
          ],
          "heatmapgl": [
           {
            "colorbar": {
             "outlinewidth": 0,
             "ticks": ""
            },
            "colorscale": [
             [
              0,
              "#0d0887"
             ],
             [
              0.1111111111111111,
              "#46039f"
             ],
             [
              0.2222222222222222,
              "#7201a8"
             ],
             [
              0.3333333333333333,
              "#9c179e"
             ],
             [
              0.4444444444444444,
              "#bd3786"
             ],
             [
              0.5555555555555556,
              "#d8576b"
             ],
             [
              0.6666666666666666,
              "#ed7953"
             ],
             [
              0.7777777777777778,
              "#fb9f3a"
             ],
             [
              0.8888888888888888,
              "#fdca26"
             ],
             [
              1,
              "#f0f921"
             ]
            ],
            "type": "heatmapgl"
           }
          ],
          "histogram": [
           {
            "marker": {
             "pattern": {
              "fillmode": "overlay",
              "size": 10,
              "solidity": 0.2
             }
            },
            "type": "histogram"
           }
          ],
          "histogram2d": [
           {
            "colorbar": {
             "outlinewidth": 0,
             "ticks": ""
            },
            "colorscale": [
             [
              0,
              "#0d0887"
             ],
             [
              0.1111111111111111,
              "#46039f"
             ],
             [
              0.2222222222222222,
              "#7201a8"
             ],
             [
              0.3333333333333333,
              "#9c179e"
             ],
             [
              0.4444444444444444,
              "#bd3786"
             ],
             [
              0.5555555555555556,
              "#d8576b"
             ],
             [
              0.6666666666666666,
              "#ed7953"
             ],
             [
              0.7777777777777778,
              "#fb9f3a"
             ],
             [
              0.8888888888888888,
              "#fdca26"
             ],
             [
              1,
              "#f0f921"
             ]
            ],
            "type": "histogram2d"
           }
          ],
          "histogram2dcontour": [
           {
            "colorbar": {
             "outlinewidth": 0,
             "ticks": ""
            },
            "colorscale": [
             [
              0,
              "#0d0887"
             ],
             [
              0.1111111111111111,
              "#46039f"
             ],
             [
              0.2222222222222222,
              "#7201a8"
             ],
             [
              0.3333333333333333,
              "#9c179e"
             ],
             [
              0.4444444444444444,
              "#bd3786"
             ],
             [
              0.5555555555555556,
              "#d8576b"
             ],
             [
              0.6666666666666666,
              "#ed7953"
             ],
             [
              0.7777777777777778,
              "#fb9f3a"
             ],
             [
              0.8888888888888888,
              "#fdca26"
             ],
             [
              1,
              "#f0f921"
             ]
            ],
            "type": "histogram2dcontour"
           }
          ],
          "mesh3d": [
           {
            "colorbar": {
             "outlinewidth": 0,
             "ticks": ""
            },
            "type": "mesh3d"
           }
          ],
          "parcoords": [
           {
            "line": {
             "colorbar": {
              "outlinewidth": 0,
              "ticks": ""
             }
            },
            "type": "parcoords"
           }
          ],
          "pie": [
           {
            "automargin": true,
            "type": "pie"
           }
          ],
          "scatter": [
           {
            "fillpattern": {
             "fillmode": "overlay",
             "size": 10,
             "solidity": 0.2
            },
            "type": "scatter"
           }
          ],
          "scatter3d": [
           {
            "line": {
             "colorbar": {
              "outlinewidth": 0,
              "ticks": ""
             }
            },
            "marker": {
             "colorbar": {
              "outlinewidth": 0,
              "ticks": ""
             }
            },
            "type": "scatter3d"
           }
          ],
          "scattercarpet": [
           {
            "marker": {
             "colorbar": {
              "outlinewidth": 0,
              "ticks": ""
             }
            },
            "type": "scattercarpet"
           }
          ],
          "scattergeo": [
           {
            "marker": {
             "colorbar": {
              "outlinewidth": 0,
              "ticks": ""
             }
            },
            "type": "scattergeo"
           }
          ],
          "scattergl": [
           {
            "marker": {
             "colorbar": {
              "outlinewidth": 0,
              "ticks": ""
             }
            },
            "type": "scattergl"
           }
          ],
          "scattermapbox": [
           {
            "marker": {
             "colorbar": {
              "outlinewidth": 0,
              "ticks": ""
             }
            },
            "type": "scattermapbox"
           }
          ],
          "scatterpolar": [
           {
            "marker": {
             "colorbar": {
              "outlinewidth": 0,
              "ticks": ""
             }
            },
            "type": "scatterpolar"
           }
          ],
          "scatterpolargl": [
           {
            "marker": {
             "colorbar": {
              "outlinewidth": 0,
              "ticks": ""
             }
            },
            "type": "scatterpolargl"
           }
          ],
          "scatterternary": [
           {
            "marker": {
             "colorbar": {
              "outlinewidth": 0,
              "ticks": ""
             }
            },
            "type": "scatterternary"
           }
          ],
          "surface": [
           {
            "colorbar": {
             "outlinewidth": 0,
             "ticks": ""
            },
            "colorscale": [
             [
              0,
              "#0d0887"
             ],
             [
              0.1111111111111111,
              "#46039f"
             ],
             [
              0.2222222222222222,
              "#7201a8"
             ],
             [
              0.3333333333333333,
              "#9c179e"
             ],
             [
              0.4444444444444444,
              "#bd3786"
             ],
             [
              0.5555555555555556,
              "#d8576b"
             ],
             [
              0.6666666666666666,
              "#ed7953"
             ],
             [
              0.7777777777777778,
              "#fb9f3a"
             ],
             [
              0.8888888888888888,
              "#fdca26"
             ],
             [
              1,
              "#f0f921"
             ]
            ],
            "type": "surface"
           }
          ],
          "table": [
           {
            "cells": {
             "fill": {
              "color": "#EBF0F8"
             },
             "line": {
              "color": "white"
             }
            },
            "header": {
             "fill": {
              "color": "#C8D4E3"
             },
             "line": {
              "color": "white"
             }
            },
            "type": "table"
           }
          ]
         },
         "layout": {
          "annotationdefaults": {
           "arrowcolor": "#2a3f5f",
           "arrowhead": 0,
           "arrowwidth": 1
          },
          "autotypenumbers": "strict",
          "coloraxis": {
           "colorbar": {
            "outlinewidth": 0,
            "ticks": ""
           }
          },
          "colorscale": {
           "diverging": [
            [
             0,
             "#8e0152"
            ],
            [
             0.1,
             "#c51b7d"
            ],
            [
             0.2,
             "#de77ae"
            ],
            [
             0.3,
             "#f1b6da"
            ],
            [
             0.4,
             "#fde0ef"
            ],
            [
             0.5,
             "#f7f7f7"
            ],
            [
             0.6,
             "#e6f5d0"
            ],
            [
             0.7,
             "#b8e186"
            ],
            [
             0.8,
             "#7fbc41"
            ],
            [
             0.9,
             "#4d9221"
            ],
            [
             1,
             "#276419"
            ]
           ],
           "sequential": [
            [
             0,
             "#0d0887"
            ],
            [
             0.1111111111111111,
             "#46039f"
            ],
            [
             0.2222222222222222,
             "#7201a8"
            ],
            [
             0.3333333333333333,
             "#9c179e"
            ],
            [
             0.4444444444444444,
             "#bd3786"
            ],
            [
             0.5555555555555556,
             "#d8576b"
            ],
            [
             0.6666666666666666,
             "#ed7953"
            ],
            [
             0.7777777777777778,
             "#fb9f3a"
            ],
            [
             0.8888888888888888,
             "#fdca26"
            ],
            [
             1,
             "#f0f921"
            ]
           ],
           "sequentialminus": [
            [
             0,
             "#0d0887"
            ],
            [
             0.1111111111111111,
             "#46039f"
            ],
            [
             0.2222222222222222,
             "#7201a8"
            ],
            [
             0.3333333333333333,
             "#9c179e"
            ],
            [
             0.4444444444444444,
             "#bd3786"
            ],
            [
             0.5555555555555556,
             "#d8576b"
            ],
            [
             0.6666666666666666,
             "#ed7953"
            ],
            [
             0.7777777777777778,
             "#fb9f3a"
            ],
            [
             0.8888888888888888,
             "#fdca26"
            ],
            [
             1,
             "#f0f921"
            ]
           ]
          },
          "colorway": [
           "#636efa",
           "#EF553B",
           "#00cc96",
           "#ab63fa",
           "#FFA15A",
           "#19d3f3",
           "#FF6692",
           "#B6E880",
           "#FF97FF",
           "#FECB52"
          ],
          "font": {
           "color": "#2a3f5f"
          },
          "geo": {
           "bgcolor": "white",
           "lakecolor": "white",
           "landcolor": "#E5ECF6",
           "showlakes": true,
           "showland": true,
           "subunitcolor": "white"
          },
          "hoverlabel": {
           "align": "left"
          },
          "hovermode": "closest",
          "mapbox": {
           "style": "light"
          },
          "paper_bgcolor": "white",
          "plot_bgcolor": "#E5ECF6",
          "polar": {
           "angularaxis": {
            "gridcolor": "white",
            "linecolor": "white",
            "ticks": ""
           },
           "bgcolor": "#E5ECF6",
           "radialaxis": {
            "gridcolor": "white",
            "linecolor": "white",
            "ticks": ""
           }
          },
          "scene": {
           "xaxis": {
            "backgroundcolor": "#E5ECF6",
            "gridcolor": "white",
            "gridwidth": 2,
            "linecolor": "white",
            "showbackground": true,
            "ticks": "",
            "zerolinecolor": "white"
           },
           "yaxis": {
            "backgroundcolor": "#E5ECF6",
            "gridcolor": "white",
            "gridwidth": 2,
            "linecolor": "white",
            "showbackground": true,
            "ticks": "",
            "zerolinecolor": "white"
           },
           "zaxis": {
            "backgroundcolor": "#E5ECF6",
            "gridcolor": "white",
            "gridwidth": 2,
            "linecolor": "white",
            "showbackground": true,
            "ticks": "",
            "zerolinecolor": "white"
           }
          },
          "shapedefaults": {
           "line": {
            "color": "#2a3f5f"
           }
          },
          "ternary": {
           "aaxis": {
            "gridcolor": "white",
            "linecolor": "white",
            "ticks": ""
           },
           "baxis": {
            "gridcolor": "white",
            "linecolor": "white",
            "ticks": ""
           },
           "bgcolor": "#E5ECF6",
           "caxis": {
            "gridcolor": "white",
            "linecolor": "white",
            "ticks": ""
           }
          },
          "title": {
           "x": 0.05
          },
          "xaxis": {
           "automargin": true,
           "gridcolor": "white",
           "linecolor": "white",
           "ticks": "",
           "title": {
            "standoff": 15
           },
           "zerolinecolor": "white",
           "zerolinewidth": 2
          },
          "yaxis": {
           "automargin": true,
           "gridcolor": "white",
           "linecolor": "white",
           "ticks": "",
           "title": {
            "standoff": 15
           },
           "zerolinecolor": "white",
           "zerolinewidth": 2
          }
         }
        },
        "title": {
         "text": "Location of All Companies<br>(Hover for info)"
        }
       }
      }
     },
     "metadata": {},
     "output_type": "display_data"
    }
   ],
   "source": [
    "\n",
    "df = pd.read_csv(\"../datasets/companies_locations.csv\")\n",
    "\n",
    "# Create a plotly figure\n",
    "fig = go.Figure()\n",
    "\n",
    "# Looping thru all the company names\n",
    "for company in df.company.unique():\n",
    "    # Adding traces by company\n",
    "    fig.add_trace(go.Scattergeo(\n",
    "        locationmode=\"USA-states\",\n",
    "        lat=df.query(f\"company == '{company}'\")[\"latitude\"], lon=df.query(f\"company == '{company}'\")[\"longitude\"],\n",
    "        text=df.query(f\"company == '{company}'\")[\"text\"], mode=\"markers\",\n",
    "        marker = dict(\n",
    "            size=15,\n",
    "            symbol=6,\n",
    "        ), name=company\n",
    "    ))\n",
    "\n",
    "fig.update_layout(\n",
    "        title = 'Location of All Companies<br>(Hover for info)',\n",
    "        geo_scope='usa',\n",
    "        # style=\"open-street-maps\"\n",
    "    )\n",
    "# fig.update_geos(projection_type=\"natural earth\") \n",
    "\n",
    "fig.show()"
   ]
  },
  {
   "cell_type": "markdown",
   "metadata": {},
   "source": [
    "## Trying go.Scattermapbox"
   ]
  },
  {
   "cell_type": "code",
   "execution_count": 8,
   "metadata": {
    "ExecuteTime": {
     "end_time": "2024-10-20T00:27:36.597392Z",
     "start_time": "2024-10-20T00:27:36.588248Z"
    }
   },
   "outputs": [
    {
     "data": {
      "text/html": [
       "<div>\n",
       "<style scoped>\n",
       "    .dataframe tbody tr th:only-of-type {\n",
       "        vertical-align: middle;\n",
       "    }\n",
       "\n",
       "    .dataframe tbody tr th {\n",
       "        vertical-align: top;\n",
       "    }\n",
       "\n",
       "    .dataframe thead th {\n",
       "        text-align: right;\n",
       "    }\n",
       "</style>\n",
       "<table border=\"1\" class=\"dataframe\">\n",
       "  <thead>\n",
       "    <tr style=\"text-align: right;\">\n",
       "      <th></th>\n",
       "      <th>company</th>\n",
       "      <th>city</th>\n",
       "      <th>state</th>\n",
       "      <th>latitude</th>\n",
       "      <th>longitude</th>\n",
       "      <th>text</th>\n",
       "      <th>color</th>\n",
       "    </tr>\n",
       "  </thead>\n",
       "  <tbody>\n",
       "    <tr>\n",
       "      <th>0</th>\n",
       "      <td>Alleguard - Huntington</td>\n",
       "      <td>Grove City</td>\n",
       "      <td>OH</td>\n",
       "      <td>39.882193</td>\n",
       "      <td>-83.093538</td>\n",
       "      <td>Alleguard - Huntington&lt;br&gt;Grove City, OH</td>\n",
       "      <td>#60D13B</td>\n",
       "    </tr>\n",
       "    <tr>\n",
       "      <th>1</th>\n",
       "      <td>Alleguard - Huntington</td>\n",
       "      <td>Bastrop</td>\n",
       "      <td>TX</td>\n",
       "      <td>30.110495</td>\n",
       "      <td>-97.315270</td>\n",
       "      <td>Alleguard - Huntington&lt;br&gt;Bastrop, TX</td>\n",
       "      <td>#60D13B</td>\n",
       "    </tr>\n",
       "    <tr>\n",
       "      <th>2</th>\n",
       "      <td>Alleguard - Huntington</td>\n",
       "      <td>Cave Spring</td>\n",
       "      <td>GA</td>\n",
       "      <td>34.107597</td>\n",
       "      <td>-85.336343</td>\n",
       "      <td>Alleguard - Huntington&lt;br&gt;Cave Spring, GA</td>\n",
       "      <td>#60D13B</td>\n",
       "    </tr>\n",
       "    <tr>\n",
       "      <th>3</th>\n",
       "      <td>Cellofoam</td>\n",
       "      <td>Whiteland</td>\n",
       "      <td>IN</td>\n",
       "      <td>39.550049</td>\n",
       "      <td>-86.079708</td>\n",
       "      <td>Cellofoam&lt;br&gt;Whiteland, IN</td>\n",
       "      <td>#EEC07E</td>\n",
       "    </tr>\n",
       "    <tr>\n",
       "      <th>4</th>\n",
       "      <td>Cellofoam</td>\n",
       "      <td>Sallisaw</td>\n",
       "      <td>OK</td>\n",
       "      <td>35.460371</td>\n",
       "      <td>-94.787446</td>\n",
       "      <td>Cellofoam&lt;br&gt;Sallisaw, OK</td>\n",
       "      <td>#EEC07E</td>\n",
       "    </tr>\n",
       "    <tr>\n",
       "      <th>...</th>\n",
       "      <td>...</td>\n",
       "      <td>...</td>\n",
       "      <td>...</td>\n",
       "      <td>...</td>\n",
       "      <td>...</td>\n",
       "      <td>...</td>\n",
       "      <td>...</td>\n",
       "    </tr>\n",
       "    <tr>\n",
       "      <th>108</th>\n",
       "      <td>Altor Solutions</td>\n",
       "      <td>North Andover</td>\n",
       "      <td>MA</td>\n",
       "      <td>42.698700</td>\n",
       "      <td>-71.135100</td>\n",
       "      <td>Altor Solutions&lt;br&gt;North Andover, MA</td>\n",
       "      <td>#942AAE</td>\n",
       "    </tr>\n",
       "    <tr>\n",
       "      <th>109</th>\n",
       "      <td>Altor Solutions</td>\n",
       "      <td>St. Petersburg</td>\n",
       "      <td>FL</td>\n",
       "      <td>27.770400</td>\n",
       "      <td>-82.679300</td>\n",
       "      <td>Altor Solutions&lt;br&gt;St. Petersburg, FL</td>\n",
       "      <td>#942AAE</td>\n",
       "    </tr>\n",
       "    <tr>\n",
       "      <th>110</th>\n",
       "      <td>Altor Solutions</td>\n",
       "      <td>Waxahachie</td>\n",
       "      <td>TX</td>\n",
       "      <td>32.386500</td>\n",
       "      <td>-96.848300</td>\n",
       "      <td>Altor Solutions&lt;br&gt;Waxahachie, TX</td>\n",
       "      <td>#942AAE</td>\n",
       "    </tr>\n",
       "    <tr>\n",
       "      <th>111</th>\n",
       "      <td>Altor Solutions</td>\n",
       "      <td>Vernon</td>\n",
       "      <td>CA</td>\n",
       "      <td>34.003900</td>\n",
       "      <td>-118.230200</td>\n",
       "      <td>Altor Solutions&lt;br&gt;Vernon, CA</td>\n",
       "      <td>#942AAE</td>\n",
       "    </tr>\n",
       "    <tr>\n",
       "      <th>112</th>\n",
       "      <td>Altor Solutions</td>\n",
       "      <td>Huntington Beach</td>\n",
       "      <td>CA</td>\n",
       "      <td>33.659500</td>\n",
       "      <td>-117.998800</td>\n",
       "      <td>Altor Solutions&lt;br&gt;Huntington Beach, CA</td>\n",
       "      <td>#942AAE</td>\n",
       "    </tr>\n",
       "  </tbody>\n",
       "</table>\n",
       "<p>113 rows × 7 columns</p>\n",
       "</div>"
      ],
      "text/plain": [
       "                    company              city state   latitude   longitude  \\\n",
       "0    Alleguard - Huntington        Grove City    OH  39.882193  -83.093538   \n",
       "1    Alleguard - Huntington           Bastrop    TX  30.110495  -97.315270   \n",
       "2    Alleguard - Huntington       Cave Spring    GA  34.107597  -85.336343   \n",
       "3                 Cellofoam         Whiteland    IN  39.550049  -86.079708   \n",
       "4                 Cellofoam          Sallisaw    OK  35.460371  -94.787446   \n",
       "..                      ...               ...   ...        ...         ...   \n",
       "108         Altor Solutions     North Andover    MA  42.698700  -71.135100   \n",
       "109         Altor Solutions    St. Petersburg    FL  27.770400  -82.679300   \n",
       "110         Altor Solutions        Waxahachie    TX  32.386500  -96.848300   \n",
       "111         Altor Solutions            Vernon    CA  34.003900 -118.230200   \n",
       "112         Altor Solutions  Huntington Beach    CA  33.659500 -117.998800   \n",
       "\n",
       "                                          text    color  \n",
       "0     Alleguard - Huntington<br>Grove City, OH  #60D13B  \n",
       "1        Alleguard - Huntington<br>Bastrop, TX  #60D13B  \n",
       "2    Alleguard - Huntington<br>Cave Spring, GA  #60D13B  \n",
       "3                   Cellofoam<br>Whiteland, IN  #EEC07E  \n",
       "4                    Cellofoam<br>Sallisaw, OK  #EEC07E  \n",
       "..                                         ...      ...  \n",
       "108       Altor Solutions<br>North Andover, MA  #942AAE  \n",
       "109      Altor Solutions<br>St. Petersburg, FL  #942AAE  \n",
       "110          Altor Solutions<br>Waxahachie, TX  #942AAE  \n",
       "111              Altor Solutions<br>Vernon, CA  #942AAE  \n",
       "112    Altor Solutions<br>Huntington Beach, CA  #942AAE  \n",
       "\n",
       "[113 rows x 7 columns]"
      ]
     },
     "execution_count": 8,
     "metadata": {},
     "output_type": "execute_result"
    }
   ],
   "source": [
    "import pandas as pd\n",
    "\n",
    "df = pd.read_csv(\"../datasets/companies_locations.csv\")\n",
    "df"
   ]
  },
  {
   "cell_type": "code",
   "execution_count": 9,
   "metadata": {
    "ExecuteTime": {
     "end_time": "2024-10-20T00:27:36.843485Z",
     "start_time": "2024-10-20T00:27:36.597392Z"
    }
   },
   "outputs": [
    {
     "data": {
      "application/vnd.plotly.v1+json": {
       "config": {
        "plotlyServerURL": "https://plot.ly"
       },
       "data": [
        {
         "lat": [
          39.8821935,
          30.1104947,
          34.1075975,
          34.9387279,
          43.1775314,
          37.13179239999999,
          42.2353463,
          33.6296702
         ],
         "lon": [
          -83.0935377,
          -97.3152701,
          -85.33634339999999,
          -82.2270568,
          -85.2527987,
          -80.5764477,
          -72.14116419999999,
          -91.8021856
         ],
         "marker": {
          "size": 15
         },
         "mode": "markers",
         "name": "Alleguard - Huntington",
         "opacity": 0.7,
         "text": [
          "Alleguard - Huntington<br>Grove City, OH",
          "Alleguard - Huntington<br>Bastrop, TX",
          "Alleguard - Huntington<br>Cave Spring, GA",
          "Alleguard - Huntington<br>Greer, SC",
          "Alleguard - Huntington<br>Greenville, MI",
          "Alleguard - Huntington<br>Radford, VA",
          "Alleguard - Huntington<br>West Brookfield, MA",
          "Alleguard - Huntington<br>Monticello, AR"
         ],
         "type": "scattermapbox"
        },
        {
         "lat": [
          39.5500485,
          35.4603711,
          33.6676103,
          34.2978794,
          28.5383832,
          38.3031837,
          39.1856597
         ],
         "lon": [
          -86.0797079,
          -94.7874463,
          -84.01769039999999,
          -83.8240663,
          -81.3789269,
          -77.4605399,
          -78.1633341
         ],
         "marker": {
          "size": 15
         },
         "mode": "markers",
         "name": "Cellofoam",
         "opacity": 0.7,
         "text": [
          "Cellofoam<br>Whiteland, IN",
          "Cellofoam<br>Sallisaw, OK",
          "Cellofoam<br>Conyers, GA",
          "Cellofoam<br>Gainesville, GA",
          "Cellofoam<br>Orlando, FL",
          "Cellofoam<br>Fredericksburg, VA",
          "Cellofoam<br>Winchester, VA"
         ],
         "type": "scattermapbox"
        },
        {
         "lat": [
          35.3789361
         ],
         "lon": [
          -81.3795737
         ],
         "marker": {
          "size": 15
         },
         "mode": "markers",
         "name": "Modern Polymers",
         "opacity": 0.7,
         "text": [
          "Modern Polymers<br>Cherryville, NC"
         ],
         "type": "scattermapbox"
        },
        {
         "lat": [
          39.529919,
          32.9110027,
          37.9715592,
          36.0156178,
          34.6059253,
          34.2182107,
          41.6873832
         ],
         "lon": [
          -119.8142691,
          -111.7733902,
          -87.5710898,
          -86.5819394,
          -86.9833417,
          -80.2484056,
          -85.973517
         ],
         "marker": {
          "size": 15
         },
         "mode": "markers",
         "name": "EFP",
         "opacity": 0.7,
         "text": [
          "EFP<br>Reno, NV",
          "EFP<br>Casa Granda, AZ",
          "EFP<br>Evansville, IN",
          "EFP<br>La vergne, TN",
          "EFP<br>Decatur, AL",
          "EFP<br>Bishopville, SC",
          "EFP<br>Elkhart, IN"
         ],
         "type": "scattermapbox"
        },
        {
         "lat": [
          35.6780104
         ],
         "lon": [
          -119.2292748
         ],
         "marker": {
          "size": 15
         },
         "mode": "markers",
         "name": "Aptco",
         "opacity": 0.7,
         "text": [
          "Aptco<br>McFarland, CA"
         ],
         "type": "scattermapbox"
        },
        {
         "lat": [
          36.3301329
         ],
         "lon": [
          -119.2966367
         ],
         "marker": {
          "size": 15
         },
         "mode": "markers",
         "name": "Tempo Precision Molded Foam",
         "opacity": 0.7,
         "text": [
          "Tempo Precision Molded Foam<br>Visalia, CA"
         ],
         "type": "scattermapbox"
        },
        {
         "lat": [
          33.1983388,
          39.8366528
         ],
         "lon": [
          -96.6389342,
          -105.0372046
         ],
         "marker": {
          "size": 15
         },
         "mode": "markers",
         "name": "ACH Foam Technologies",
         "opacity": 0.7,
         "text": [
          "ACH Foam Technologies<br>McKinney, TX",
          "ACH Foam Technologies<br>Westminster, CO"
         ],
         "type": "scattermapbox"
        },
        {
         "lat": [
          34.2994874,
          39.7392358,
          40.6668916,
          39.529919,
          35.189443,
          32.735687,
          42.8122508,
          43.7730448,
          37.55977540000001,
          39.11553139999999,
          37.7242202,
          41.30140770000001,
          34.2978794
         ],
         "lon": [
          -118.4588292,
          -104.990251,
          -111.8879909,
          -119.8142691,
          -114.0530065,
          -97.1080656,
          -85.7228061,
          -88.4470508,
          -90.2940069,
          -94.6267873,
          -89.8612196,
          -91.6916417,
          -83.8240663
         ],
         "marker": {
          "size": 15
         },
         "mode": "markers",
         "name": "Atlas Molded Products",
         "opacity": 0.7,
         "text": [
          "Atlas Molded Products<br>Sylmar, CA",
          "Atlas Molded Products<br>Denver, CO",
          "Atlas Molded Products<br>Murray, UT",
          "Atlas Molded Products<br>Reno, NV",
          "Atlas Molded Products<br>Kingman, AZ",
          "Atlas Molded Products<br>E Arlington, TX",
          "Atlas Molded Products<br>Byron Center, MI",
          "Atlas Molded Products<br>Fond du Lac, WI",
          "Atlas Molded Products<br>Fredericktown, MO",
          "Atlas Molded Products<br>Kansas City, KS",
          "Atlas Molded Products<br>Perryville, MO",
          "Atlas Molded Products<br>Washington, IA",
          "Atlas Molded Products<br>Gainesville, GA"
         ],
         "type": "scattermapbox"
        },
        {
         "lat": [
          36.5768046,
          41.0391283,
          42.9978049,
          35.3620235,
          35.5342414,
          38.2120144,
          38.8338816
         ],
         "lon": [
          -79.8583721,
          -83.6502309,
          -84.1766358,
          -86.20943419999999,
          -87.20695409999999,
          -85.2235666,
          -104.8213634
         ],
         "marker": {
          "size": 15
         },
         "mode": "markers",
         "name": "Sonoco",
         "opacity": 0.7,
         "text": [
          "Sonoco<br>Ridgeway, VA",
          "Sonoco<br>Findlay, OH",
          "Sonoco<br>Owosso, MI",
          "Sonoco<br>Tullahoma, TN",
          "Sonoco<br>Mt. Pleasant, TN",
          "Sonoco<br>Shelbyville, KY",
          "Sonoco<br>Colorado Springs, CO"
         ],
         "type": "scattermapbox"
        },
        {
         "lat": [
          35.6780104
         ],
         "lon": [
          -119.2292748
         ],
         "marker": {
          "size": 15
         },
         "mode": "markers",
         "name": "Cold Keepers",
         "opacity": 0.7,
         "text": [
          "Cold Keepers<br>Mcfarland, CA"
         ],
         "type": "scattermapbox"
        },
        {
         "lat": [
          30.8365815
         ],
         "lon": [
          -83.9787808
         ],
         "marker": {
          "size": 15
         },
         "mode": "markers",
         "name": "Styrotech",
         "opacity": 0.7,
         "text": [
          "Styrotech<br>Thomasville, GA"
         ],
         "type": "scattermapbox"
        },
        {
         "lat": [
          45.0941315
         ],
         "lon": [
          -93.3563405
         ],
         "marker": {
          "size": 15
         },
         "mode": "markers",
         "name": "OpCO",
         "opacity": 0.7,
         "text": [
          "OpCO<br>Brooklyn Park, MN"
         ],
         "type": "scattermapbox"
        },
        {
         "lat": [
          40.3211808
         ],
         "lon": [
          -79.37948109999999
         ],
         "marker": {
          "size": 15
         },
         "mode": "markers",
         "name": "Plastillite",
         "opacity": 0.7,
         "text": [
          "Plastillite<br>Latrobe, PA"
         ],
         "type": "scattermapbox"
        },
        {
         "lat": [
          41.2565369,
          29.7600771
         ],
         "lon": [
          -95.9345034,
          -95.3701108
         ],
         "marker": {
          "size": 15
         },
         "mode": "markers",
         "name": "Houston Foam Plastics",
         "opacity": 0.7,
         "text": [
          "Houston Foam Plastics<br>Omaha, NE",
          "Houston Foam Plastics<br>Houston, TX"
         ],
         "type": "scattermapbox"
        },
        {
         "lat": [
          29.4251905
         ],
         "lon": [
          -98.4945922
         ],
         "marker": {
          "size": 15
         },
         "mode": "markers",
         "name": "Imperial Foam & Insulation",
         "opacity": 0.7,
         "text": [
          "Imperial Foam & Insulation<br>San Antonio, TX"
         ],
         "type": "scattermapbox"
        },
        {
         "lat": [
          29.2858129,
          33.6594835
         ],
         "lon": [
          -81.0558894,
          -117.9988026
         ],
         "marker": {
          "size": 15
         },
         "mode": "markers",
         "name": "Marko Foam",
         "opacity": 0.7,
         "text": [
          "Marko Foam<br>Ormond Beach, FL",
          "Marko Foam<br>Huntington Beach, CA"
         ],
         "type": "scattermapbox"
        },
        {
         "lat": [
          40.7607793
         ],
         "lon": [
          -111.8910474
         ],
         "marker": {
          "size": 15
         },
         "mode": "markers",
         "name": "Michigan Foam",
         "opacity": 0.7,
         "text": [
          "Michigan Foam<br>Salt Lake City, UT"
         ],
         "type": "scattermapbox"
        },
        {
         "lat": [
          42.9133602
         ],
         "lon": [
          -85.7053085
         ],
         "marker": {
          "size": 15
         },
         "mode": "markers",
         "name": "Pal Pac",
         "opacity": 0.7,
         "text": [
          "Pal Pac<br>Wyoming, MI"
         ],
         "type": "scattermapbox"
        },
        {
         "lat": [
          41.0192185
         ],
         "lon": [
          -84.0471666
         ],
         "marker": {
          "size": 15
         },
         "mode": "markers",
         "name": "Branch River Plastics",
         "opacity": 0.7,
         "text": [
          "Branch River Plastics<br>Ottawa, OH"
         ],
         "type": "scattermapbox"
        },
        {
         "lat": [
          41.9220496
         ],
         "lon": [
          -71.54951009999999
         ],
         "marker": {
          "size": 15
         },
         "mode": "markers",
         "name": "FMI-EPS",
         "opacity": 0.7,
         "text": [
          "FMI-EPS<br>Smithfield, RI"
         ],
         "type": "scattermapbox"
        },
        {
         "lat": [
          47.7179578
         ],
         "lon": [
          -116.9515856
         ],
         "marker": {
          "size": 15
         },
         "mode": "markers",
         "name": "Polar Central",
         "opacity": 0.7,
         "text": [
          "Polar Central<br>Post Falls, ID"
         ],
         "type": "scattermapbox"
        },
        {
         "lat": [
          41.5023192
         ],
         "lon": [
          -72.9787163
         ],
         "marker": {
          "size": 15
         },
         "mode": "markers",
         "name": "Mister Packaging",
         "opacity": 0.7,
         "text": [
          "Mister Packaging<br>Prospect, CT"
         ],
         "type": "scattermapbox"
        },
        {
         "lat": [
          33.8365932
         ],
         "lon": [
          -117.9143012
         ],
         "marker": {
          "size": 15
         },
         "mode": "markers",
         "name": "ThermaFoam",
         "opacity": 0.7,
         "text": [
          "ThermaFoam<br>Anaheim, CA"
         ],
         "type": "scattermapbox"
        },
        {
         "lat": [
          32.0109886
         ],
         "lon": [
          -97.1300061
         ],
         "marker": {
          "size": 15
         },
         "mode": "markers",
         "name": "Robin II",
         "opacity": 0.7,
         "text": [
          "Robin II<br>Hillsboro, TX"
         ],
         "type": "scattermapbox"
        },
        {
         "lat": [
          43.7072047
         ],
         "lon": [
          -88.9901122
         ],
         "marker": {
          "size": 15
         },
         "mode": "markers",
         "name": "Foam Pack Industries",
         "opacity": 0.7,
         "text": [
          "Foam Pack Industries<br>Markesan, WI"
         ],
         "type": "scattermapbox"
        },
        {
         "lat": [
          40.7016937
         ],
         "lon": [
          -74.3222146
         ],
         "marker": {
          "size": 15
         },
         "mode": "markers",
         "name": "Clyde Tool & Die",
         "opacity": 0.7,
         "text": [
          "Clyde Tool & Die<br>Springfield, NJ"
         ],
         "type": "scattermapbox"
        },
        {
         "lat": [
          41.30422009999999
         ],
         "lon": [
          -82.975192
         ],
         "marker": {
          "size": 15
         },
         "mode": "markers",
         "name": "DiversiFoam Products",
         "opacity": 0.7,
         "text": [
          "DiversiFoam Products<br>Clyde, OH"
         ],
         "type": "scattermapbox"
        },
        {
         "lat": [
          45.0872861
         ],
         "lon": [
          -93.7415093
         ],
         "marker": {
          "size": 15
         },
         "mode": "markers",
         "name": "Beaver Plastics",
         "opacity": 0.7,
         "text": [
          "Beaver Plastics<br>Rockford, MN"
         ],
         "type": "scattermapbox"
        },
        {
         "lat": [
          44.8994088
         ],
         "lon": [
          -97.1150732
         ],
         "marker": {
          "size": 15
         },
         "mode": "markers",
         "name": "Aqua-Pak Industries Ltd",
         "opacity": 0.7,
         "text": [
          "Aqua-Pak Industries Ltd<br>Watertown, SD"
         ],
         "type": "scattermapbox"
        },
        {
         "lat": [
          38.2120144,
          39.4863773,
          32.2617127,
          41.8781136,
          32.7554883
         ],
         "lon": [
          -85.2235666,
          -75.02596369999999,
          -83.7365798,
          -87.6297982,
          -97.3307658
         ],
         "marker": {
          "size": 15
         },
         "mode": "markers",
         "name": "Creative Packaging",
         "opacity": 0.7,
         "text": [
          "Creative Packaging<br>Shelbyville, KY",
          "Creative Packaging<br>Vineland, NJ",
          "Creative Packaging<br>Unadilla, GA",
          "Creative Packaging<br>Chicago, IL",
          "Creative Packaging<br>Ft. Worth, TX"
         ],
         "type": "scattermapbox"
        },
        {
         "lat": [
          33.4483771
         ],
         "lon": [
          -112.0740373
         ],
         "marker": {
          "size": 15
         },
         "mode": "markers",
         "name": "Custom Pack",
         "opacity": 0.7,
         "text": [
          "Custom Pack<br>Phoenix, AZ"
         ],
         "type": "scattermapbox"
        },
        {
         "lat": [
          41.5114731
         ],
         "lon": [
          -75.96954649999999
         ],
         "marker": {
          "size": 15
         },
         "mode": "markers",
         "name": "Insulated Products Corp (IPC)",
         "opacity": 0.7,
         "text": [
          "Insulated Products Corp (IPC)<br>Eaton, PA"
         ],
         "type": "scattermapbox"
        },
        {
         "lat": [
          34.0549076
         ],
         "lon": [
          -118.242643
         ],
         "marker": {
          "size": 15
         },
         "mode": "markers",
         "name": "Magna LoBoy",
         "opacity": 0.7,
         "text": [
          "Magna LoBoy<br>Los Angeles, CA"
         ],
         "type": "scattermapbox"
        },
        {
         "lat": [
          30.42007079999999
         ],
         "lon": [
          -86.6170308
         ],
         "marker": {
          "size": 15
         },
         "mode": "markers",
         "name": "Speedling",
         "opacity": 0.7,
         "text": [
          "Speedling<br>Fort Walton, FL"
         ],
         "type": "scattermapbox"
        },
        {
         "lat": [
          27.678254,
          47.2528768,
          61.2175758,
          47.3830671,
          38.4454641,
          34.0122346,
          40.7607793,
          33.4483771,
          39.7294319,
          41.2286493,
          28.0394654
         ],
         "lon": [
          -82.4787384,
          -122.4442906,
          -149.8996785,
          -122.234771,
          -121.8232958,
          -117.688944,
          -111.8910474,
          -112.0740373,
          -104.8319195,
          -96.489212,
          -81.9498042
         ],
         "marker": {
          "size": 15
         },
         "mode": "markers",
         "name": "Insulfoam LLC",
         "opacity": 0.7,
         "text": [
          "Insulfoam LLC<br>Sun City, FL",
          "Insulfoam LLC<br>Tacoma, WA",
          "Insulfoam LLC<br>Anchorage, AK",
          "Insulfoam LLC<br>Kent, WA",
          "Insulfoam LLC<br>Dixon, CA",
          "Insulfoam LLC<br>Chino, CA",
          "Insulfoam LLC<br>Salt Lake City, UT",
          "Insulfoam LLC<br>Phoenix, AZ",
          "Insulfoam LLC<br>Aurora, CO",
          "Insulfoam LLC<br>Mead, NE",
          "Insulfoam LLC<br>Lakeland, FL"
         ],
         "type": "scattermapbox"
        },
        {
         "lat": [
          42.88644679999999
         ],
         "lon": [
          -78.8783689
         ],
         "marker": {
          "size": 15
         },
         "mode": "markers",
         "name": "Armstrong Brands",
         "opacity": 0.7,
         "text": [
          "Armstrong Brands<br>Buffalo, NY"
         ],
         "type": "scattermapbox"
        },
        {
         "lat": [
          42.145,
          41.0037,
          34.5034,
          34.1176,
          40.3584,
          38.2856,
          35.6145,
          43.7472,
          40.6292,
          37.8762,
          32.9343,
          37.6391,
          33.8958,
          38.627,
          20.6786,
          32.5027,
          39.4732,
          34.257,
          42.6987,
          27.7704,
          32.3865,
          34.0039,
          33.6595
         ],
         "lon": [
          -71.652,
          -76.4541,
          -82.6501,
          -83.5724,
          -81.4401,
          -85.8241,
          -88.8139,
          -87.9779,
          -91.3143,
          -94.0184,
          -97.251,
          -120.9969,
          -118.2207,
          -90.1994,
          -100.4226,
          -117.0037,
          -76.2324,
          -85.1647,
          -71.1351,
          -82.6793,
          -96.8483,
          -118.2302,
          -117.9988
         ],
         "marker": {
          "size": 15
         },
         "mode": "markers",
         "name": "Altor Solutions",
         "opacity": 0.7,
         "text": [
          "Altor Solutions<br>Northbridge, MA",
          "Altor Solutions<br>Bloomsburg, PA",
          "Altor Solutions<br>Anderson, SC",
          "Altor Solutions<br>Jefferson, GA",
          "Altor Solutions<br>Gnadenhutten, OH",
          "Altor Solutions<br>New Albany, IN",
          "Altor Solutions<br>Jackson, TN",
          "Altor Solutions<br>Plymouth, WI",
          "Altor Solutions<br>Fort Madison, IA",
          "Altor Solutions<br>El Dorado Springs, MO",
          "Altor Solutions<br>Keller, TX",
          "Altor Solutions<br>Modesto, CA",
          "Altor Solutions<br>Compton, CA",
          "Altor Solutions<br>St. Louis, MO",
          "Altor Solutions<br>St. Rosa Jaurequi (Queretaro), Queretaro",
          "Altor Solutions<br>St. Rosa Jaurequi (Baja California), BC",
          "Altor Solutions<br>Belcamp, MD",
          "Altor Solutions<br>Rome, GA",
          "Altor Solutions<br>North Andover, MA",
          "Altor Solutions<br>St. Petersburg, FL",
          "Altor Solutions<br>Waxahachie, TX",
          "Altor Solutions<br>Vernon, CA",
          "Altor Solutions<br>Huntington Beach, CA"
         ],
         "type": "scattermapbox"
        }
       ],
       "layout": {
        "height": 600,
        "mapbox": {
         "center": {
          "lat": 37.49112914070796,
          "lon": -94.3951734415929
         },
         "style": "open-street-map",
         "zoom": 3
        },
        "template": {
         "data": {
          "bar": [
           {
            "error_x": {
             "color": "#2a3f5f"
            },
            "error_y": {
             "color": "#2a3f5f"
            },
            "marker": {
             "line": {
              "color": "#E5ECF6",
              "width": 0.5
             },
             "pattern": {
              "fillmode": "overlay",
              "size": 10,
              "solidity": 0.2
             }
            },
            "type": "bar"
           }
          ],
          "barpolar": [
           {
            "marker": {
             "line": {
              "color": "#E5ECF6",
              "width": 0.5
             },
             "pattern": {
              "fillmode": "overlay",
              "size": 10,
              "solidity": 0.2
             }
            },
            "type": "barpolar"
           }
          ],
          "carpet": [
           {
            "aaxis": {
             "endlinecolor": "#2a3f5f",
             "gridcolor": "white",
             "linecolor": "white",
             "minorgridcolor": "white",
             "startlinecolor": "#2a3f5f"
            },
            "baxis": {
             "endlinecolor": "#2a3f5f",
             "gridcolor": "white",
             "linecolor": "white",
             "minorgridcolor": "white",
             "startlinecolor": "#2a3f5f"
            },
            "type": "carpet"
           }
          ],
          "choropleth": [
           {
            "colorbar": {
             "outlinewidth": 0,
             "ticks": ""
            },
            "type": "choropleth"
           }
          ],
          "contour": [
           {
            "colorbar": {
             "outlinewidth": 0,
             "ticks": ""
            },
            "colorscale": [
             [
              0,
              "#0d0887"
             ],
             [
              0.1111111111111111,
              "#46039f"
             ],
             [
              0.2222222222222222,
              "#7201a8"
             ],
             [
              0.3333333333333333,
              "#9c179e"
             ],
             [
              0.4444444444444444,
              "#bd3786"
             ],
             [
              0.5555555555555556,
              "#d8576b"
             ],
             [
              0.6666666666666666,
              "#ed7953"
             ],
             [
              0.7777777777777778,
              "#fb9f3a"
             ],
             [
              0.8888888888888888,
              "#fdca26"
             ],
             [
              1,
              "#f0f921"
             ]
            ],
            "type": "contour"
           }
          ],
          "contourcarpet": [
           {
            "colorbar": {
             "outlinewidth": 0,
             "ticks": ""
            },
            "type": "contourcarpet"
           }
          ],
          "heatmap": [
           {
            "colorbar": {
             "outlinewidth": 0,
             "ticks": ""
            },
            "colorscale": [
             [
              0,
              "#0d0887"
             ],
             [
              0.1111111111111111,
              "#46039f"
             ],
             [
              0.2222222222222222,
              "#7201a8"
             ],
             [
              0.3333333333333333,
              "#9c179e"
             ],
             [
              0.4444444444444444,
              "#bd3786"
             ],
             [
              0.5555555555555556,
              "#d8576b"
             ],
             [
              0.6666666666666666,
              "#ed7953"
             ],
             [
              0.7777777777777778,
              "#fb9f3a"
             ],
             [
              0.8888888888888888,
              "#fdca26"
             ],
             [
              1,
              "#f0f921"
             ]
            ],
            "type": "heatmap"
           }
          ],
          "heatmapgl": [
           {
            "colorbar": {
             "outlinewidth": 0,
             "ticks": ""
            },
            "colorscale": [
             [
              0,
              "#0d0887"
             ],
             [
              0.1111111111111111,
              "#46039f"
             ],
             [
              0.2222222222222222,
              "#7201a8"
             ],
             [
              0.3333333333333333,
              "#9c179e"
             ],
             [
              0.4444444444444444,
              "#bd3786"
             ],
             [
              0.5555555555555556,
              "#d8576b"
             ],
             [
              0.6666666666666666,
              "#ed7953"
             ],
             [
              0.7777777777777778,
              "#fb9f3a"
             ],
             [
              0.8888888888888888,
              "#fdca26"
             ],
             [
              1,
              "#f0f921"
             ]
            ],
            "type": "heatmapgl"
           }
          ],
          "histogram": [
           {
            "marker": {
             "pattern": {
              "fillmode": "overlay",
              "size": 10,
              "solidity": 0.2
             }
            },
            "type": "histogram"
           }
          ],
          "histogram2d": [
           {
            "colorbar": {
             "outlinewidth": 0,
             "ticks": ""
            },
            "colorscale": [
             [
              0,
              "#0d0887"
             ],
             [
              0.1111111111111111,
              "#46039f"
             ],
             [
              0.2222222222222222,
              "#7201a8"
             ],
             [
              0.3333333333333333,
              "#9c179e"
             ],
             [
              0.4444444444444444,
              "#bd3786"
             ],
             [
              0.5555555555555556,
              "#d8576b"
             ],
             [
              0.6666666666666666,
              "#ed7953"
             ],
             [
              0.7777777777777778,
              "#fb9f3a"
             ],
             [
              0.8888888888888888,
              "#fdca26"
             ],
             [
              1,
              "#f0f921"
             ]
            ],
            "type": "histogram2d"
           }
          ],
          "histogram2dcontour": [
           {
            "colorbar": {
             "outlinewidth": 0,
             "ticks": ""
            },
            "colorscale": [
             [
              0,
              "#0d0887"
             ],
             [
              0.1111111111111111,
              "#46039f"
             ],
             [
              0.2222222222222222,
              "#7201a8"
             ],
             [
              0.3333333333333333,
              "#9c179e"
             ],
             [
              0.4444444444444444,
              "#bd3786"
             ],
             [
              0.5555555555555556,
              "#d8576b"
             ],
             [
              0.6666666666666666,
              "#ed7953"
             ],
             [
              0.7777777777777778,
              "#fb9f3a"
             ],
             [
              0.8888888888888888,
              "#fdca26"
             ],
             [
              1,
              "#f0f921"
             ]
            ],
            "type": "histogram2dcontour"
           }
          ],
          "mesh3d": [
           {
            "colorbar": {
             "outlinewidth": 0,
             "ticks": ""
            },
            "type": "mesh3d"
           }
          ],
          "parcoords": [
           {
            "line": {
             "colorbar": {
              "outlinewidth": 0,
              "ticks": ""
             }
            },
            "type": "parcoords"
           }
          ],
          "pie": [
           {
            "automargin": true,
            "type": "pie"
           }
          ],
          "scatter": [
           {
            "fillpattern": {
             "fillmode": "overlay",
             "size": 10,
             "solidity": 0.2
            },
            "type": "scatter"
           }
          ],
          "scatter3d": [
           {
            "line": {
             "colorbar": {
              "outlinewidth": 0,
              "ticks": ""
             }
            },
            "marker": {
             "colorbar": {
              "outlinewidth": 0,
              "ticks": ""
             }
            },
            "type": "scatter3d"
           }
          ],
          "scattercarpet": [
           {
            "marker": {
             "colorbar": {
              "outlinewidth": 0,
              "ticks": ""
             }
            },
            "type": "scattercarpet"
           }
          ],
          "scattergeo": [
           {
            "marker": {
             "colorbar": {
              "outlinewidth": 0,
              "ticks": ""
             }
            },
            "type": "scattergeo"
           }
          ],
          "scattergl": [
           {
            "marker": {
             "colorbar": {
              "outlinewidth": 0,
              "ticks": ""
             }
            },
            "type": "scattergl"
           }
          ],
          "scattermapbox": [
           {
            "marker": {
             "colorbar": {
              "outlinewidth": 0,
              "ticks": ""
             }
            },
            "type": "scattermapbox"
           }
          ],
          "scatterpolar": [
           {
            "marker": {
             "colorbar": {
              "outlinewidth": 0,
              "ticks": ""
             }
            },
            "type": "scatterpolar"
           }
          ],
          "scatterpolargl": [
           {
            "marker": {
             "colorbar": {
              "outlinewidth": 0,
              "ticks": ""
             }
            },
            "type": "scatterpolargl"
           }
          ],
          "scatterternary": [
           {
            "marker": {
             "colorbar": {
              "outlinewidth": 0,
              "ticks": ""
             }
            },
            "type": "scatterternary"
           }
          ],
          "surface": [
           {
            "colorbar": {
             "outlinewidth": 0,
             "ticks": ""
            },
            "colorscale": [
             [
              0,
              "#0d0887"
             ],
             [
              0.1111111111111111,
              "#46039f"
             ],
             [
              0.2222222222222222,
              "#7201a8"
             ],
             [
              0.3333333333333333,
              "#9c179e"
             ],
             [
              0.4444444444444444,
              "#bd3786"
             ],
             [
              0.5555555555555556,
              "#d8576b"
             ],
             [
              0.6666666666666666,
              "#ed7953"
             ],
             [
              0.7777777777777778,
              "#fb9f3a"
             ],
             [
              0.8888888888888888,
              "#fdca26"
             ],
             [
              1,
              "#f0f921"
             ]
            ],
            "type": "surface"
           }
          ],
          "table": [
           {
            "cells": {
             "fill": {
              "color": "#EBF0F8"
             },
             "line": {
              "color": "white"
             }
            },
            "header": {
             "fill": {
              "color": "#C8D4E3"
             },
             "line": {
              "color": "white"
             }
            },
            "type": "table"
           }
          ]
         },
         "layout": {
          "annotationdefaults": {
           "arrowcolor": "#2a3f5f",
           "arrowhead": 0,
           "arrowwidth": 1
          },
          "autotypenumbers": "strict",
          "coloraxis": {
           "colorbar": {
            "outlinewidth": 0,
            "ticks": ""
           }
          },
          "colorscale": {
           "diverging": [
            [
             0,
             "#8e0152"
            ],
            [
             0.1,
             "#c51b7d"
            ],
            [
             0.2,
             "#de77ae"
            ],
            [
             0.3,
             "#f1b6da"
            ],
            [
             0.4,
             "#fde0ef"
            ],
            [
             0.5,
             "#f7f7f7"
            ],
            [
             0.6,
             "#e6f5d0"
            ],
            [
             0.7,
             "#b8e186"
            ],
            [
             0.8,
             "#7fbc41"
            ],
            [
             0.9,
             "#4d9221"
            ],
            [
             1,
             "#276419"
            ]
           ],
           "sequential": [
            [
             0,
             "#0d0887"
            ],
            [
             0.1111111111111111,
             "#46039f"
            ],
            [
             0.2222222222222222,
             "#7201a8"
            ],
            [
             0.3333333333333333,
             "#9c179e"
            ],
            [
             0.4444444444444444,
             "#bd3786"
            ],
            [
             0.5555555555555556,
             "#d8576b"
            ],
            [
             0.6666666666666666,
             "#ed7953"
            ],
            [
             0.7777777777777778,
             "#fb9f3a"
            ],
            [
             0.8888888888888888,
             "#fdca26"
            ],
            [
             1,
             "#f0f921"
            ]
           ],
           "sequentialminus": [
            [
             0,
             "#0d0887"
            ],
            [
             0.1111111111111111,
             "#46039f"
            ],
            [
             0.2222222222222222,
             "#7201a8"
            ],
            [
             0.3333333333333333,
             "#9c179e"
            ],
            [
             0.4444444444444444,
             "#bd3786"
            ],
            [
             0.5555555555555556,
             "#d8576b"
            ],
            [
             0.6666666666666666,
             "#ed7953"
            ],
            [
             0.7777777777777778,
             "#fb9f3a"
            ],
            [
             0.8888888888888888,
             "#fdca26"
            ],
            [
             1,
             "#f0f921"
            ]
           ]
          },
          "colorway": [
           "#636efa",
           "#EF553B",
           "#00cc96",
           "#ab63fa",
           "#FFA15A",
           "#19d3f3",
           "#FF6692",
           "#B6E880",
           "#FF97FF",
           "#FECB52"
          ],
          "font": {
           "color": "#2a3f5f"
          },
          "geo": {
           "bgcolor": "white",
           "lakecolor": "white",
           "landcolor": "#E5ECF6",
           "showlakes": true,
           "showland": true,
           "subunitcolor": "white"
          },
          "hoverlabel": {
           "align": "left"
          },
          "hovermode": "closest",
          "mapbox": {
           "style": "light"
          },
          "paper_bgcolor": "white",
          "plot_bgcolor": "#E5ECF6",
          "polar": {
           "angularaxis": {
            "gridcolor": "white",
            "linecolor": "white",
            "ticks": ""
           },
           "bgcolor": "#E5ECF6",
           "radialaxis": {
            "gridcolor": "white",
            "linecolor": "white",
            "ticks": ""
           }
          },
          "scene": {
           "xaxis": {
            "backgroundcolor": "#E5ECF6",
            "gridcolor": "white",
            "gridwidth": 2,
            "linecolor": "white",
            "showbackground": true,
            "ticks": "",
            "zerolinecolor": "white"
           },
           "yaxis": {
            "backgroundcolor": "#E5ECF6",
            "gridcolor": "white",
            "gridwidth": 2,
            "linecolor": "white",
            "showbackground": true,
            "ticks": "",
            "zerolinecolor": "white"
           },
           "zaxis": {
            "backgroundcolor": "#E5ECF6",
            "gridcolor": "white",
            "gridwidth": 2,
            "linecolor": "white",
            "showbackground": true,
            "ticks": "",
            "zerolinecolor": "white"
           }
          },
          "shapedefaults": {
           "line": {
            "color": "#2a3f5f"
           }
          },
          "ternary": {
           "aaxis": {
            "gridcolor": "white",
            "linecolor": "white",
            "ticks": ""
           },
           "baxis": {
            "gridcolor": "white",
            "linecolor": "white",
            "ticks": ""
           },
           "bgcolor": "#E5ECF6",
           "caxis": {
            "gridcolor": "white",
            "linecolor": "white",
            "ticks": ""
           }
          },
          "title": {
           "x": 0.05
          },
          "xaxis": {
           "automargin": true,
           "gridcolor": "white",
           "linecolor": "white",
           "ticks": "",
           "title": {
            "standoff": 15
           },
           "zerolinecolor": "white",
           "zerolinewidth": 2
          },
          "yaxis": {
           "automargin": true,
           "gridcolor": "white",
           "linecolor": "white",
           "ticks": "",
           "title": {
            "standoff": 15
           },
           "zerolinecolor": "white",
           "zerolinewidth": 2
          }
         }
        },
        "title": {
         "text": "Location of All Companies<br>(Hover for info)"
        }
       }
      }
     },
     "metadata": {},
     "output_type": "display_data"
    }
   ],
   "source": [
    "import plotly.graph_objects as go\n",
    "import pandas as pd\n",
    "import os\n",
    "from dotenv import load_dotenv\n",
    "\n",
    "\n",
    "load_dotenv()\n",
    "\n",
    "secret_access_token = os.getenv(\"secret_access_token\")\n",
    "free_access_token = os.getenv(\"free_access_token\")\n",
    "\n",
    "df = pd.read_csv(\"../datasets/companies_locations.csv\")\n",
    "\n",
    "fig = go.Figure()\n",
    "\n",
    "for company in df.company.unique():\n",
    "    fig.add_trace(go.Scattermapbox(\n",
    "        mode=\"markers\", \n",
    "        lat=df.query(f\"company == '{company}'\")[\"latitude\"],\n",
    "        lon=df.query(f\"company == '{company}'\")[\"longitude\"], \n",
    "        text=df.query(f\"company == '{company}'\")[\"text\"],\n",
    "        name=company,\n",
    "        opacity=0.7,\n",
    "        marker=dict(\n",
    "            # symbol=\"marker\",\n",
    "            size=15,\n",
    "            # color=df.query(f\"company == '{company}'\")[\"color\"]\n",
    "        )\n",
    "    ))\n",
    "    \n",
    "fig.update_mapboxes(accesstoken=free_access_token) \n",
    "\n",
    "fig.update_layout(\n",
    "    title = 'Location of All Companies<br>(Hover for info)',\n",
    "    height=600,\n",
    "    mapbox=dict(\n",
    "        style='open-street-map',\n",
    "        zoom=3,\n",
    "        center=dict(lon=df['longitude'].mean(), lat=df['latitude'].mean())\n",
    "    )\n",
    ") \n",
    "\n",
    "fig.show()"
   ]
  },
  {
   "cell_type": "markdown",
   "metadata": {},
   "source": [
    "### Altor Solutions v/s The Selected Company"
   ]
  },
  {
   "cell_type": "code",
   "execution_count": 10,
   "metadata": {
    "ExecuteTime": {
     "end_time": "2024-10-20T00:27:36.854386Z",
     "start_time": "2024-10-20T00:27:36.845491Z"
    }
   },
   "outputs": [
    {
     "data": {
      "text/plain": [
       "array(['Alleguard - Huntington', 'Cellofoam', 'Modern Polymers', 'EFP',\n",
       "       'Aptco', 'Tempo Precision Molded Foam', 'ACH Foam Technologies',\n",
       "       'Atlas Molded Products', 'Sonoco', 'Cold Keepers', 'Styrotech',\n",
       "       'OpCO', 'Plastillite', 'Houston Foam Plastics',\n",
       "       'Imperial Foam & Insulation', 'Marko Foam', 'Michigan Foam',\n",
       "       'Pal Pac', 'Branch River Plastics', 'FMI-EPS', 'Polar Central',\n",
       "       'Mister Packaging', 'ThermaFoam', 'Robin II',\n",
       "       'Foam Pack Industries', 'Clyde Tool & Die', 'DiversiFoam Products',\n",
       "       'Beaver Plastics', 'Aqua-Pak Industries Ltd', 'Creative Packaging',\n",
       "       'Custom Pack', 'Insulated Products Corp (IPC)', 'Magna LoBoy',\n",
       "       'Speedling', 'Insulfoam LLC', 'Armstrong Brands'], dtype=object)"
      ]
     },
     "execution_count": 10,
     "metadata": {},
     "output_type": "execute_result"
    }
   ],
   "source": [
    "import pandas as pd\n",
    "\n",
    "df = pd.read_csv(\"../datasets/companies_locations.csv\")\n",
    "df.query(f\"company != 'Altor Solutions'\").company.unique()\n"
   ]
  },
  {
   "cell_type": "code",
   "execution_count": 11,
   "metadata": {
    "ExecuteTime": {
     "end_time": "2024-10-20T00:27:37.158717Z",
     "start_time": "2024-10-20T00:27:36.855395Z"
    }
   },
   "outputs": [
    {
     "data": {
      "application/vnd.plotly.v1+json": {
       "config": {
        "plotlyServerURL": "https://plot.ly"
       },
       "data": [
        {
         "lat": [
          42.145,
          41.0037,
          34.5034,
          34.1176,
          40.3584,
          38.2856,
          35.6145,
          43.7472,
          40.6292,
          37.8762,
          32.9343,
          37.6391,
          33.8958,
          38.627,
          20.6786,
          32.5027,
          39.4732,
          34.257,
          42.6987,
          27.7704,
          32.3865,
          34.0039,
          33.6595
         ],
         "lon": [
          -71.652,
          -76.4541,
          -82.6501,
          -83.5724,
          -81.4401,
          -85.8241,
          -88.8139,
          -87.9779,
          -91.3143,
          -94.0184,
          -97.251,
          -120.9969,
          -118.2207,
          -90.1994,
          -100.4226,
          -117.0037,
          -76.2324,
          -85.1647,
          -71.1351,
          -82.6793,
          -96.8483,
          -118.2302,
          -117.9988
         ],
         "marker": {
          "color": "black",
          "size": 15
         },
         "mode": "markers",
         "name": "Altor Solutions",
         "opacity": 0.7,
         "text": [
          "Altor Solutions<br>Northbridge, MA",
          "Altor Solutions<br>Bloomsburg, PA",
          "Altor Solutions<br>Anderson, SC",
          "Altor Solutions<br>Jefferson, GA",
          "Altor Solutions<br>Gnadenhutten, OH",
          "Altor Solutions<br>New Albany, IN",
          "Altor Solutions<br>Jackson, TN",
          "Altor Solutions<br>Plymouth, WI",
          "Altor Solutions<br>Fort Madison, IA",
          "Altor Solutions<br>El Dorado Springs, MO",
          "Altor Solutions<br>Keller, TX",
          "Altor Solutions<br>Modesto, CA",
          "Altor Solutions<br>Compton, CA",
          "Altor Solutions<br>St. Louis, MO",
          "Altor Solutions<br>St. Rosa Jaurequi (Queretaro), Queretaro",
          "Altor Solutions<br>St. Rosa Jaurequi (Baja California), BC",
          "Altor Solutions<br>Belcamp, MD",
          "Altor Solutions<br>Rome, GA",
          "Altor Solutions<br>North Andover, MA",
          "Altor Solutions<br>St. Petersburg, FL",
          "Altor Solutions<br>Waxahachie, TX",
          "Altor Solutions<br>Vernon, CA",
          "Altor Solutions<br>Huntington Beach, CA"
         ],
         "type": "scattermapbox"
        },
        {
         "lat": [
          39.8821935,
          30.1104947,
          34.1075975,
          34.9387279,
          43.1775314,
          37.13179239999999,
          42.2353463,
          33.6296702
         ],
         "lon": [
          -83.0935377,
          -97.3152701,
          -85.33634339999999,
          -82.2270568,
          -85.2527987,
          -80.5764477,
          -72.14116419999999,
          -91.8021856
         ],
         "marker": {
          "color": [
           "#60D13B",
           "#60D13B",
           "#60D13B",
           "#60D13B",
           "#60D13B",
           "#60D13B",
           "#60D13B",
           "#60D13B"
          ],
          "size": 15
         },
         "mode": "markers",
         "name": "Alleguard - Huntington",
         "opacity": 0.7,
         "text": [
          "Alleguard - Huntington<br>Grove City, OH",
          "Alleguard - Huntington<br>Bastrop, TX",
          "Alleguard - Huntington<br>Cave Spring, GA",
          "Alleguard - Huntington<br>Greer, SC",
          "Alleguard - Huntington<br>Greenville, MI",
          "Alleguard - Huntington<br>Radford, VA",
          "Alleguard - Huntington<br>West Brookfield, MA",
          "Alleguard - Huntington<br>Monticello, AR"
         ],
         "type": "scattermapbox"
        },
        {
         "lat": [
          39.5500485,
          35.4603711,
          33.6676103,
          34.2978794,
          28.5383832,
          38.3031837,
          39.1856597
         ],
         "lon": [
          -86.0797079,
          -94.7874463,
          -84.01769039999999,
          -83.8240663,
          -81.3789269,
          -77.4605399,
          -78.1633341
         ],
         "marker": {
          "color": [
           "#EEC07E",
           "#EEC07E",
           "#EEC07E",
           "#EEC07E",
           "#EEC07E",
           "#EEC07E",
           "#EEC07E"
          ],
          "size": 15
         },
         "mode": "markers",
         "name": "Cellofoam",
         "opacity": 0.7,
         "text": [
          "Cellofoam<br>Whiteland, IN",
          "Cellofoam<br>Sallisaw, OK",
          "Cellofoam<br>Conyers, GA",
          "Cellofoam<br>Gainesville, GA",
          "Cellofoam<br>Orlando, FL",
          "Cellofoam<br>Fredericksburg, VA",
          "Cellofoam<br>Winchester, VA"
         ],
         "type": "scattermapbox"
        },
        {
         "lat": [
          35.3789361
         ],
         "lon": [
          -81.3795737
         ],
         "marker": {
          "color": [
           "#B1E517"
          ],
          "size": 15
         },
         "mode": "markers",
         "name": "Modern Polymers",
         "opacity": 0.7,
         "text": [
          "Modern Polymers<br>Cherryville, NC"
         ],
         "type": "scattermapbox"
        },
        {
         "lat": [
          39.529919,
          32.9110027,
          37.9715592,
          36.0156178,
          34.6059253,
          34.2182107,
          41.6873832
         ],
         "lon": [
          -119.8142691,
          -111.7733902,
          -87.5710898,
          -86.5819394,
          -86.9833417,
          -80.2484056,
          -85.973517
         ],
         "marker": {
          "color": [
           "#15E7ED",
           "#15E7ED",
           "#15E7ED",
           "#15E7ED",
           "#15E7ED",
           "#15E7ED",
           "#15E7ED"
          ],
          "size": 15
         },
         "mode": "markers",
         "name": "EFP",
         "opacity": 0.7,
         "text": [
          "EFP<br>Reno, NV",
          "EFP<br>Casa Granda, AZ",
          "EFP<br>Evansville, IN",
          "EFP<br>La vergne, TN",
          "EFP<br>Decatur, AL",
          "EFP<br>Bishopville, SC",
          "EFP<br>Elkhart, IN"
         ],
         "type": "scattermapbox"
        },
        {
         "lat": [
          35.6780104
         ],
         "lon": [
          -119.2292748
         ],
         "marker": {
          "color": [
           "#39653D"
          ],
          "size": 15
         },
         "mode": "markers",
         "name": "Aptco",
         "opacity": 0.7,
         "text": [
          "Aptco<br>McFarland, CA"
         ],
         "type": "scattermapbox"
        },
        {
         "lat": [
          36.3301329
         ],
         "lon": [
          -119.2966367
         ],
         "marker": {
          "color": [
           "#FF5D70"
          ],
          "size": 15
         },
         "mode": "markers",
         "name": "Tempo Precision Molded Foam",
         "opacity": 0.7,
         "text": [
          "Tempo Precision Molded Foam<br>Visalia, CA"
         ],
         "type": "scattermapbox"
        },
        {
         "lat": [
          33.1983388,
          39.8366528
         ],
         "lon": [
          -96.6389342,
          -105.0372046
         ],
         "marker": {
          "color": [
           "#E10E9D",
           "#E10E9D"
          ],
          "size": 15
         },
         "mode": "markers",
         "name": "ACH Foam Technologies",
         "opacity": 0.7,
         "text": [
          "ACH Foam Technologies<br>McKinney, TX",
          "ACH Foam Technologies<br>Westminster, CO"
         ],
         "type": "scattermapbox"
        },
        {
         "lat": [
          34.2994874,
          39.7392358,
          40.6668916,
          39.529919,
          35.189443,
          32.735687,
          42.8122508,
          43.7730448,
          37.55977540000001,
          39.11553139999999,
          37.7242202,
          41.30140770000001,
          34.2978794
         ],
         "lon": [
          -118.4588292,
          -104.990251,
          -111.8879909,
          -119.8142691,
          -114.0530065,
          -97.1080656,
          -85.7228061,
          -88.4470508,
          -90.2940069,
          -94.6267873,
          -89.8612196,
          -91.6916417,
          -83.8240663
         ],
         "marker": {
          "color": [
           "#1D869D",
           "#1D869D",
           "#1D869D",
           "#1D869D",
           "#1D869D",
           "#1D869D",
           "#1D869D",
           "#1D869D",
           "#1D869D",
           "#1D869D",
           "#1D869D",
           "#1D869D",
           "#1D869D"
          ],
          "size": 15
         },
         "mode": "markers",
         "name": "Atlas Molded Products",
         "opacity": 0.7,
         "text": [
          "Atlas Molded Products<br>Sylmar, CA",
          "Atlas Molded Products<br>Denver, CO",
          "Atlas Molded Products<br>Murray, UT",
          "Atlas Molded Products<br>Reno, NV",
          "Atlas Molded Products<br>Kingman, AZ",
          "Atlas Molded Products<br>E Arlington, TX",
          "Atlas Molded Products<br>Byron Center, MI",
          "Atlas Molded Products<br>Fond du Lac, WI",
          "Atlas Molded Products<br>Fredericktown, MO",
          "Atlas Molded Products<br>Kansas City, KS",
          "Atlas Molded Products<br>Perryville, MO",
          "Atlas Molded Products<br>Washington, IA",
          "Atlas Molded Products<br>Gainesville, GA"
         ],
         "type": "scattermapbox"
        },
        {
         "lat": [
          36.5768046,
          41.0391283,
          42.9978049,
          35.3620235,
          35.5342414,
          38.2120144,
          38.8338816
         ],
         "lon": [
          -79.8583721,
          -83.6502309,
          -84.1766358,
          -86.20943419999999,
          -87.20695409999999,
          -85.2235666,
          -104.8213634
         ],
         "marker": {
          "color": [
           "#13FBB4",
           "#13FBB4",
           "#13FBB4",
           "#13FBB4",
           "#13FBB4",
           "#13FBB4",
           "#13FBB4"
          ],
          "size": 15
         },
         "mode": "markers",
         "name": "Sonoco",
         "opacity": 0.7,
         "text": [
          "Sonoco<br>Ridgeway, VA",
          "Sonoco<br>Findlay, OH",
          "Sonoco<br>Owosso, MI",
          "Sonoco<br>Tullahoma, TN",
          "Sonoco<br>Mt. Pleasant, TN",
          "Sonoco<br>Shelbyville, KY",
          "Sonoco<br>Colorado Springs, CO"
         ],
         "type": "scattermapbox"
        },
        {
         "lat": [
          35.6780104
         ],
         "lon": [
          -119.2292748
         ],
         "marker": {
          "color": [
           "#1B331B"
          ],
          "size": 15
         },
         "mode": "markers",
         "name": "Cold Keepers",
         "opacity": 0.7,
         "text": [
          "Cold Keepers<br>Mcfarland, CA"
         ],
         "type": "scattermapbox"
        },
        {
         "lat": [
          30.8365815
         ],
         "lon": [
          -83.9787808
         ],
         "marker": {
          "color": [
           "#8B8A30"
          ],
          "size": 15
         },
         "mode": "markers",
         "name": "Styrotech",
         "opacity": 0.7,
         "text": [
          "Styrotech<br>Thomasville, GA"
         ],
         "type": "scattermapbox"
        },
        {
         "lat": [
          45.0941315
         ],
         "lon": [
          -93.3563405
         ],
         "marker": {
          "color": [
           "#FE7BEB"
          ],
          "size": 15
         },
         "mode": "markers",
         "name": "OpCO",
         "opacity": 0.7,
         "text": [
          "OpCO<br>Brooklyn Park, MN"
         ],
         "type": "scattermapbox"
        },
        {
         "lat": [
          40.3211808
         ],
         "lon": [
          -79.37948109999999
         ],
         "marker": {
          "color": [
           "#ABD37D"
          ],
          "size": 15
         },
         "mode": "markers",
         "name": "Plastillite",
         "opacity": 0.7,
         "text": [
          "Plastillite<br>Latrobe, PA"
         ],
         "type": "scattermapbox"
        },
        {
         "lat": [
          41.2565369,
          29.7600771
         ],
         "lon": [
          -95.9345034,
          -95.3701108
         ],
         "marker": {
          "color": [
           "#7BBE93",
           "#7BBE93"
          ],
          "size": 15
         },
         "mode": "markers",
         "name": "Houston Foam Plastics",
         "opacity": 0.7,
         "text": [
          "Houston Foam Plastics<br>Omaha, NE",
          "Houston Foam Plastics<br>Houston, TX"
         ],
         "type": "scattermapbox"
        },
        {
         "lat": [
          29.4251905
         ],
         "lon": [
          -98.4945922
         ],
         "marker": {
          "color": [
           "#C17D18"
          ],
          "size": 15
         },
         "mode": "markers",
         "name": "Imperial Foam & Insulation",
         "opacity": 0.7,
         "text": [
          "Imperial Foam & Insulation<br>San Antonio, TX"
         ],
         "type": "scattermapbox"
        },
        {
         "lat": [
          29.2858129,
          33.6594835
         ],
         "lon": [
          -81.0558894,
          -117.9988026
         ],
         "marker": {
          "color": [
           "#5D69B8",
           "#5D69B8"
          ],
          "size": 15
         },
         "mode": "markers",
         "name": "Marko Foam",
         "opacity": 0.7,
         "text": [
          "Marko Foam<br>Ormond Beach, FL",
          "Marko Foam<br>Huntington Beach, CA"
         ],
         "type": "scattermapbox"
        },
        {
         "lat": [
          40.7607793
         ],
         "lon": [
          -111.8910474
         ],
         "marker": {
          "color": [
           "#531210"
          ],
          "size": 15
         },
         "mode": "markers",
         "name": "Michigan Foam",
         "opacity": 0.7,
         "text": [
          "Michigan Foam<br>Salt Lake City, UT"
         ],
         "type": "scattermapbox"
        },
        {
         "lat": [
          42.9133602
         ],
         "lon": [
          -85.7053085
         ],
         "marker": {
          "color": [
           "#B77FF0"
          ],
          "size": 15
         },
         "mode": "markers",
         "name": "Pal Pac",
         "opacity": 0.7,
         "text": [
          "Pal Pac<br>Wyoming, MI"
         ],
         "type": "scattermapbox"
        },
        {
         "lat": [
          41.0192185
         ],
         "lon": [
          -84.0471666
         ],
         "marker": {
          "color": [
           "#DE6496"
          ],
          "size": 15
         },
         "mode": "markers",
         "name": "Branch River Plastics",
         "opacity": 0.7,
         "text": [
          "Branch River Plastics<br>Ottawa, OH"
         ],
         "type": "scattermapbox"
        },
        {
         "lat": [
          41.9220496
         ],
         "lon": [
          -71.54951009999999
         ],
         "marker": {
          "color": [
           "#F4C262"
          ],
          "size": 15
         },
         "mode": "markers",
         "name": "FMI-EPS",
         "opacity": 0.7,
         "text": [
          "FMI-EPS<br>Smithfield, RI"
         ],
         "type": "scattermapbox"
        },
        {
         "lat": [
          47.7179578
         ],
         "lon": [
          -116.9515856
         ],
         "marker": {
          "color": [
           "#9877AB"
          ],
          "size": 15
         },
         "mode": "markers",
         "name": "Polar Central",
         "opacity": 0.7,
         "text": [
          "Polar Central<br>Post Falls, ID"
         ],
         "type": "scattermapbox"
        },
        {
         "lat": [
          41.5023192
         ],
         "lon": [
          -72.9787163
         ],
         "marker": {
          "color": [
           "#AA54FF"
          ],
          "size": 15
         },
         "mode": "markers",
         "name": "Mister Packaging",
         "opacity": 0.7,
         "text": [
          "Mister Packaging<br>Prospect, CT"
         ],
         "type": "scattermapbox"
        },
        {
         "lat": [
          33.8365932
         ],
         "lon": [
          -117.9143012
         ],
         "marker": {
          "color": [
           "#54C7C9"
          ],
          "size": 15
         },
         "mode": "markers",
         "name": "ThermaFoam",
         "opacity": 0.7,
         "text": [
          "ThermaFoam<br>Anaheim, CA"
         ],
         "type": "scattermapbox"
        },
        {
         "lat": [
          32.0109886
         ],
         "lon": [
          -97.1300061
         ],
         "marker": {
          "color": [
           "#9ACDBC"
          ],
          "size": 15
         },
         "mode": "markers",
         "name": "Robin II",
         "opacity": 0.7,
         "text": [
          "Robin II<br>Hillsboro, TX"
         ],
         "type": "scattermapbox"
        },
        {
         "lat": [
          43.7072047
         ],
         "lon": [
          -88.9901122
         ],
         "marker": {
          "color": [
           "#C2E2C6"
          ],
          "size": 15
         },
         "mode": "markers",
         "name": "Foam Pack Industries",
         "opacity": 0.7,
         "text": [
          "Foam Pack Industries<br>Markesan, WI"
         ],
         "type": "scattermapbox"
        },
        {
         "lat": [
          40.7016937
         ],
         "lon": [
          -74.3222146
         ],
         "marker": {
          "color": [
           "#4DDC4C"
          ],
          "size": 15
         },
         "mode": "markers",
         "name": "Clyde Tool & Die",
         "opacity": 0.7,
         "text": [
          "Clyde Tool & Die<br>Springfield, NJ"
         ],
         "type": "scattermapbox"
        },
        {
         "lat": [
          41.30422009999999
         ],
         "lon": [
          -82.975192
         ],
         "marker": {
          "color": [
           "#A17F07"
          ],
          "size": 15
         },
         "mode": "markers",
         "name": "DiversiFoam Products",
         "opacity": 0.7,
         "text": [
          "DiversiFoam Products<br>Clyde, OH"
         ],
         "type": "scattermapbox"
        },
        {
         "lat": [
          45.0872861
         ],
         "lon": [
          -93.7415093
         ],
         "marker": {
          "color": [
           "#438466"
          ],
          "size": 15
         },
         "mode": "markers",
         "name": "Beaver Plastics",
         "opacity": 0.7,
         "text": [
          "Beaver Plastics<br>Rockford, MN"
         ],
         "type": "scattermapbox"
        },
        {
         "lat": [
          44.8994088
         ],
         "lon": [
          -97.1150732
         ],
         "marker": {
          "color": [
           "#289B3C"
          ],
          "size": 15
         },
         "mode": "markers",
         "name": "Aqua-Pak Industries Ltd",
         "opacity": 0.7,
         "text": [
          "Aqua-Pak Industries Ltd<br>Watertown, SD"
         ],
         "type": "scattermapbox"
        },
        {
         "lat": [
          38.2120144,
          39.4863773,
          32.2617127,
          41.8781136,
          32.7554883
         ],
         "lon": [
          -85.2235666,
          -75.02596369999999,
          -83.7365798,
          -87.6297982,
          -97.3307658
         ],
         "marker": {
          "color": [
           "#1CFD74",
           "#1CFD74",
           "#1CFD74",
           "#1CFD74",
           "#1CFD74"
          ],
          "size": 15
         },
         "mode": "markers",
         "name": "Creative Packaging",
         "opacity": 0.7,
         "text": [
          "Creative Packaging<br>Shelbyville, KY",
          "Creative Packaging<br>Vineland, NJ",
          "Creative Packaging<br>Unadilla, GA",
          "Creative Packaging<br>Chicago, IL",
          "Creative Packaging<br>Ft. Worth, TX"
         ],
         "type": "scattermapbox"
        },
        {
         "lat": [
          33.4483771
         ],
         "lon": [
          -112.0740373
         ],
         "marker": {
          "color": [
           "#665858"
          ],
          "size": 15
         },
         "mode": "markers",
         "name": "Custom Pack",
         "opacity": 0.7,
         "text": [
          "Custom Pack<br>Phoenix, AZ"
         ],
         "type": "scattermapbox"
        },
        {
         "lat": [
          41.5114731
         ],
         "lon": [
          -75.96954649999999
         ],
         "marker": {
          "color": [
           "#2A449F"
          ],
          "size": 15
         },
         "mode": "markers",
         "name": "Insulated Products Corp (IPC)",
         "opacity": 0.7,
         "text": [
          "Insulated Products Corp (IPC)<br>Eaton, PA"
         ],
         "type": "scattermapbox"
        },
        {
         "lat": [
          34.0549076
         ],
         "lon": [
          -118.242643
         ],
         "marker": {
          "color": [
           "#422976"
          ],
          "size": 15
         },
         "mode": "markers",
         "name": "Magna LoBoy",
         "opacity": 0.7,
         "text": [
          "Magna LoBoy<br>Los Angeles, CA"
         ],
         "type": "scattermapbox"
        },
        {
         "lat": [
          30.42007079999999
         ],
         "lon": [
          -86.6170308
         ],
         "marker": {
          "color": [
           "#5143D8"
          ],
          "size": 15
         },
         "mode": "markers",
         "name": "Speedling",
         "opacity": 0.7,
         "text": [
          "Speedling<br>Fort Walton, FL"
         ],
         "type": "scattermapbox"
        },
        {
         "lat": [
          27.678254,
          47.2528768,
          61.2175758,
          47.3830671,
          38.4454641,
          34.0122346,
          40.7607793,
          33.4483771,
          39.7294319,
          41.2286493,
          28.0394654
         ],
         "lon": [
          -82.4787384,
          -122.4442906,
          -149.8996785,
          -122.234771,
          -121.8232958,
          -117.688944,
          -111.8910474,
          -112.0740373,
          -104.8319195,
          -96.489212,
          -81.9498042
         ],
         "marker": {
          "color": [
           "#ED18A7",
           "#ED18A7",
           "#ED18A7",
           "#ED18A7",
           "#ED18A7",
           "#ED18A7",
           "#ED18A7",
           "#ED18A7",
           "#ED18A7",
           "#ED18A7",
           "#ED18A7"
          ],
          "size": 15
         },
         "mode": "markers",
         "name": "Insulfoam LLC",
         "opacity": 0.7,
         "text": [
          "Insulfoam LLC<br>Sun City, FL",
          "Insulfoam LLC<br>Tacoma, WA",
          "Insulfoam LLC<br>Anchorage, AK",
          "Insulfoam LLC<br>Kent, WA",
          "Insulfoam LLC<br>Dixon, CA",
          "Insulfoam LLC<br>Chino, CA",
          "Insulfoam LLC<br>Salt Lake City, UT",
          "Insulfoam LLC<br>Phoenix, AZ",
          "Insulfoam LLC<br>Aurora, CO",
          "Insulfoam LLC<br>Mead, NE",
          "Insulfoam LLC<br>Lakeland, FL"
         ],
         "type": "scattermapbox"
        },
        {
         "lat": [
          42.88644679999999
         ],
         "lon": [
          -78.8783689
         ],
         "marker": {
          "color": [
           "#1C30F8"
          ],
          "size": 15
         },
         "mode": "markers",
         "name": "Armstrong Brands",
         "opacity": 0.7,
         "text": [
          "Armstrong Brands<br>Buffalo, NY"
         ],
         "type": "scattermapbox"
        }
       ],
       "layout": {
        "height": 600,
        "mapbox": {
         "center": {
          "lat": 37.49112914070796,
          "lon": -94.3951734415929
         },
         "style": "open-street-map",
         "zoom": 3
        },
        "template": {
         "data": {
          "bar": [
           {
            "error_x": {
             "color": "#2a3f5f"
            },
            "error_y": {
             "color": "#2a3f5f"
            },
            "marker": {
             "line": {
              "color": "#E5ECF6",
              "width": 0.5
             },
             "pattern": {
              "fillmode": "overlay",
              "size": 10,
              "solidity": 0.2
             }
            },
            "type": "bar"
           }
          ],
          "barpolar": [
           {
            "marker": {
             "line": {
              "color": "#E5ECF6",
              "width": 0.5
             },
             "pattern": {
              "fillmode": "overlay",
              "size": 10,
              "solidity": 0.2
             }
            },
            "type": "barpolar"
           }
          ],
          "carpet": [
           {
            "aaxis": {
             "endlinecolor": "#2a3f5f",
             "gridcolor": "white",
             "linecolor": "white",
             "minorgridcolor": "white",
             "startlinecolor": "#2a3f5f"
            },
            "baxis": {
             "endlinecolor": "#2a3f5f",
             "gridcolor": "white",
             "linecolor": "white",
             "minorgridcolor": "white",
             "startlinecolor": "#2a3f5f"
            },
            "type": "carpet"
           }
          ],
          "choropleth": [
           {
            "colorbar": {
             "outlinewidth": 0,
             "ticks": ""
            },
            "type": "choropleth"
           }
          ],
          "contour": [
           {
            "colorbar": {
             "outlinewidth": 0,
             "ticks": ""
            },
            "colorscale": [
             [
              0,
              "#0d0887"
             ],
             [
              0.1111111111111111,
              "#46039f"
             ],
             [
              0.2222222222222222,
              "#7201a8"
             ],
             [
              0.3333333333333333,
              "#9c179e"
             ],
             [
              0.4444444444444444,
              "#bd3786"
             ],
             [
              0.5555555555555556,
              "#d8576b"
             ],
             [
              0.6666666666666666,
              "#ed7953"
             ],
             [
              0.7777777777777778,
              "#fb9f3a"
             ],
             [
              0.8888888888888888,
              "#fdca26"
             ],
             [
              1,
              "#f0f921"
             ]
            ],
            "type": "contour"
           }
          ],
          "contourcarpet": [
           {
            "colorbar": {
             "outlinewidth": 0,
             "ticks": ""
            },
            "type": "contourcarpet"
           }
          ],
          "heatmap": [
           {
            "colorbar": {
             "outlinewidth": 0,
             "ticks": ""
            },
            "colorscale": [
             [
              0,
              "#0d0887"
             ],
             [
              0.1111111111111111,
              "#46039f"
             ],
             [
              0.2222222222222222,
              "#7201a8"
             ],
             [
              0.3333333333333333,
              "#9c179e"
             ],
             [
              0.4444444444444444,
              "#bd3786"
             ],
             [
              0.5555555555555556,
              "#d8576b"
             ],
             [
              0.6666666666666666,
              "#ed7953"
             ],
             [
              0.7777777777777778,
              "#fb9f3a"
             ],
             [
              0.8888888888888888,
              "#fdca26"
             ],
             [
              1,
              "#f0f921"
             ]
            ],
            "type": "heatmap"
           }
          ],
          "heatmapgl": [
           {
            "colorbar": {
             "outlinewidth": 0,
             "ticks": ""
            },
            "colorscale": [
             [
              0,
              "#0d0887"
             ],
             [
              0.1111111111111111,
              "#46039f"
             ],
             [
              0.2222222222222222,
              "#7201a8"
             ],
             [
              0.3333333333333333,
              "#9c179e"
             ],
             [
              0.4444444444444444,
              "#bd3786"
             ],
             [
              0.5555555555555556,
              "#d8576b"
             ],
             [
              0.6666666666666666,
              "#ed7953"
             ],
             [
              0.7777777777777778,
              "#fb9f3a"
             ],
             [
              0.8888888888888888,
              "#fdca26"
             ],
             [
              1,
              "#f0f921"
             ]
            ],
            "type": "heatmapgl"
           }
          ],
          "histogram": [
           {
            "marker": {
             "pattern": {
              "fillmode": "overlay",
              "size": 10,
              "solidity": 0.2
             }
            },
            "type": "histogram"
           }
          ],
          "histogram2d": [
           {
            "colorbar": {
             "outlinewidth": 0,
             "ticks": ""
            },
            "colorscale": [
             [
              0,
              "#0d0887"
             ],
             [
              0.1111111111111111,
              "#46039f"
             ],
             [
              0.2222222222222222,
              "#7201a8"
             ],
             [
              0.3333333333333333,
              "#9c179e"
             ],
             [
              0.4444444444444444,
              "#bd3786"
             ],
             [
              0.5555555555555556,
              "#d8576b"
             ],
             [
              0.6666666666666666,
              "#ed7953"
             ],
             [
              0.7777777777777778,
              "#fb9f3a"
             ],
             [
              0.8888888888888888,
              "#fdca26"
             ],
             [
              1,
              "#f0f921"
             ]
            ],
            "type": "histogram2d"
           }
          ],
          "histogram2dcontour": [
           {
            "colorbar": {
             "outlinewidth": 0,
             "ticks": ""
            },
            "colorscale": [
             [
              0,
              "#0d0887"
             ],
             [
              0.1111111111111111,
              "#46039f"
             ],
             [
              0.2222222222222222,
              "#7201a8"
             ],
             [
              0.3333333333333333,
              "#9c179e"
             ],
             [
              0.4444444444444444,
              "#bd3786"
             ],
             [
              0.5555555555555556,
              "#d8576b"
             ],
             [
              0.6666666666666666,
              "#ed7953"
             ],
             [
              0.7777777777777778,
              "#fb9f3a"
             ],
             [
              0.8888888888888888,
              "#fdca26"
             ],
             [
              1,
              "#f0f921"
             ]
            ],
            "type": "histogram2dcontour"
           }
          ],
          "mesh3d": [
           {
            "colorbar": {
             "outlinewidth": 0,
             "ticks": ""
            },
            "type": "mesh3d"
           }
          ],
          "parcoords": [
           {
            "line": {
             "colorbar": {
              "outlinewidth": 0,
              "ticks": ""
             }
            },
            "type": "parcoords"
           }
          ],
          "pie": [
           {
            "automargin": true,
            "type": "pie"
           }
          ],
          "scatter": [
           {
            "fillpattern": {
             "fillmode": "overlay",
             "size": 10,
             "solidity": 0.2
            },
            "type": "scatter"
           }
          ],
          "scatter3d": [
           {
            "line": {
             "colorbar": {
              "outlinewidth": 0,
              "ticks": ""
             }
            },
            "marker": {
             "colorbar": {
              "outlinewidth": 0,
              "ticks": ""
             }
            },
            "type": "scatter3d"
           }
          ],
          "scattercarpet": [
           {
            "marker": {
             "colorbar": {
              "outlinewidth": 0,
              "ticks": ""
             }
            },
            "type": "scattercarpet"
           }
          ],
          "scattergeo": [
           {
            "marker": {
             "colorbar": {
              "outlinewidth": 0,
              "ticks": ""
             }
            },
            "type": "scattergeo"
           }
          ],
          "scattergl": [
           {
            "marker": {
             "colorbar": {
              "outlinewidth": 0,
              "ticks": ""
             }
            },
            "type": "scattergl"
           }
          ],
          "scattermapbox": [
           {
            "marker": {
             "colorbar": {
              "outlinewidth": 0,
              "ticks": ""
             }
            },
            "type": "scattermapbox"
           }
          ],
          "scatterpolar": [
           {
            "marker": {
             "colorbar": {
              "outlinewidth": 0,
              "ticks": ""
             }
            },
            "type": "scatterpolar"
           }
          ],
          "scatterpolargl": [
           {
            "marker": {
             "colorbar": {
              "outlinewidth": 0,
              "ticks": ""
             }
            },
            "type": "scatterpolargl"
           }
          ],
          "scatterternary": [
           {
            "marker": {
             "colorbar": {
              "outlinewidth": 0,
              "ticks": ""
             }
            },
            "type": "scatterternary"
           }
          ],
          "surface": [
           {
            "colorbar": {
             "outlinewidth": 0,
             "ticks": ""
            },
            "colorscale": [
             [
              0,
              "#0d0887"
             ],
             [
              0.1111111111111111,
              "#46039f"
             ],
             [
              0.2222222222222222,
              "#7201a8"
             ],
             [
              0.3333333333333333,
              "#9c179e"
             ],
             [
              0.4444444444444444,
              "#bd3786"
             ],
             [
              0.5555555555555556,
              "#d8576b"
             ],
             [
              0.6666666666666666,
              "#ed7953"
             ],
             [
              0.7777777777777778,
              "#fb9f3a"
             ],
             [
              0.8888888888888888,
              "#fdca26"
             ],
             [
              1,
              "#f0f921"
             ]
            ],
            "type": "surface"
           }
          ],
          "table": [
           {
            "cells": {
             "fill": {
              "color": "#EBF0F8"
             },
             "line": {
              "color": "white"
             }
            },
            "header": {
             "fill": {
              "color": "#C8D4E3"
             },
             "line": {
              "color": "white"
             }
            },
            "type": "table"
           }
          ]
         },
         "layout": {
          "annotationdefaults": {
           "arrowcolor": "#2a3f5f",
           "arrowhead": 0,
           "arrowwidth": 1
          },
          "autotypenumbers": "strict",
          "coloraxis": {
           "colorbar": {
            "outlinewidth": 0,
            "ticks": ""
           }
          },
          "colorscale": {
           "diverging": [
            [
             0,
             "#8e0152"
            ],
            [
             0.1,
             "#c51b7d"
            ],
            [
             0.2,
             "#de77ae"
            ],
            [
             0.3,
             "#f1b6da"
            ],
            [
             0.4,
             "#fde0ef"
            ],
            [
             0.5,
             "#f7f7f7"
            ],
            [
             0.6,
             "#e6f5d0"
            ],
            [
             0.7,
             "#b8e186"
            ],
            [
             0.8,
             "#7fbc41"
            ],
            [
             0.9,
             "#4d9221"
            ],
            [
             1,
             "#276419"
            ]
           ],
           "sequential": [
            [
             0,
             "#0d0887"
            ],
            [
             0.1111111111111111,
             "#46039f"
            ],
            [
             0.2222222222222222,
             "#7201a8"
            ],
            [
             0.3333333333333333,
             "#9c179e"
            ],
            [
             0.4444444444444444,
             "#bd3786"
            ],
            [
             0.5555555555555556,
             "#d8576b"
            ],
            [
             0.6666666666666666,
             "#ed7953"
            ],
            [
             0.7777777777777778,
             "#fb9f3a"
            ],
            [
             0.8888888888888888,
             "#fdca26"
            ],
            [
             1,
             "#f0f921"
            ]
           ],
           "sequentialminus": [
            [
             0,
             "#0d0887"
            ],
            [
             0.1111111111111111,
             "#46039f"
            ],
            [
             0.2222222222222222,
             "#7201a8"
            ],
            [
             0.3333333333333333,
             "#9c179e"
            ],
            [
             0.4444444444444444,
             "#bd3786"
            ],
            [
             0.5555555555555556,
             "#d8576b"
            ],
            [
             0.6666666666666666,
             "#ed7953"
            ],
            [
             0.7777777777777778,
             "#fb9f3a"
            ],
            [
             0.8888888888888888,
             "#fdca26"
            ],
            [
             1,
             "#f0f921"
            ]
           ]
          },
          "colorway": [
           "#636efa",
           "#EF553B",
           "#00cc96",
           "#ab63fa",
           "#FFA15A",
           "#19d3f3",
           "#FF6692",
           "#B6E880",
           "#FF97FF",
           "#FECB52"
          ],
          "font": {
           "color": "#2a3f5f"
          },
          "geo": {
           "bgcolor": "white",
           "lakecolor": "white",
           "landcolor": "#E5ECF6",
           "showlakes": true,
           "showland": true,
           "subunitcolor": "white"
          },
          "hoverlabel": {
           "align": "left"
          },
          "hovermode": "closest",
          "mapbox": {
           "style": "light"
          },
          "paper_bgcolor": "white",
          "plot_bgcolor": "#E5ECF6",
          "polar": {
           "angularaxis": {
            "gridcolor": "white",
            "linecolor": "white",
            "ticks": ""
           },
           "bgcolor": "#E5ECF6",
           "radialaxis": {
            "gridcolor": "white",
            "linecolor": "white",
            "ticks": ""
           }
          },
          "scene": {
           "xaxis": {
            "backgroundcolor": "#E5ECF6",
            "gridcolor": "white",
            "gridwidth": 2,
            "linecolor": "white",
            "showbackground": true,
            "ticks": "",
            "zerolinecolor": "white"
           },
           "yaxis": {
            "backgroundcolor": "#E5ECF6",
            "gridcolor": "white",
            "gridwidth": 2,
            "linecolor": "white",
            "showbackground": true,
            "ticks": "",
            "zerolinecolor": "white"
           },
           "zaxis": {
            "backgroundcolor": "#E5ECF6",
            "gridcolor": "white",
            "gridwidth": 2,
            "linecolor": "white",
            "showbackground": true,
            "ticks": "",
            "zerolinecolor": "white"
           }
          },
          "shapedefaults": {
           "line": {
            "color": "#2a3f5f"
           }
          },
          "ternary": {
           "aaxis": {
            "gridcolor": "white",
            "linecolor": "white",
            "ticks": ""
           },
           "baxis": {
            "gridcolor": "white",
            "linecolor": "white",
            "ticks": ""
           },
           "bgcolor": "#E5ECF6",
           "caxis": {
            "gridcolor": "white",
            "linecolor": "white",
            "ticks": ""
           }
          },
          "title": {
           "x": 0.05
          },
          "xaxis": {
           "automargin": true,
           "gridcolor": "white",
           "linecolor": "white",
           "ticks": "",
           "title": {
            "standoff": 15
           },
           "zerolinecolor": "white",
           "zerolinewidth": 2
          },
          "yaxis": {
           "automargin": true,
           "gridcolor": "white",
           "linecolor": "white",
           "ticks": "",
           "title": {
            "standoff": 15
           },
           "zerolinecolor": "white",
           "zerolinewidth": 2
          }
         }
        },
        "title": {
         "text": "Comparing Altor Locations with each Competitor<br>(Hover for info)"
        }
       }
      }
     },
     "metadata": {},
     "output_type": "display_data"
    }
   ],
   "source": [
    "import plotly.graph_objects as go\n",
    "import os\n",
    "from dotenv import load_dotenv\n",
    "\n",
    "import pandas as pd\n",
    "\n",
    "df = pd.read_csv(\"../datasets/companies_locations.csv\")\n",
    "df.query(f\"company != 'Altor Solutions'\")\n",
    "\n",
    "\n",
    "load_dotenv()\n",
    "\n",
    "secret_access_token = os.getenv(\"secret_access_token\")\n",
    "free_access_token = os.getenv(\"free_access_token\")\n",
    "\n",
    "\n",
    "fig = go.Figure()\n",
    "\n",
    "fig.add_trace(go.Scattermapbox(\n",
    "            mode=\"markers\", \n",
    "            lat=df.query(f\"company == 'Altor Solutions'\")[\"latitude\"],\n",
    "            lon=df.query(f\"company == 'Altor Solutions'\")[\"longitude\"], \n",
    "            text=df.query(f\"company == 'Altor Solutions'\")[\"text\"],\n",
    "            name=company,\n",
    "            opacity=0.7,\n",
    "            marker=dict(\n",
    "                # symbol=\"village\",\n",
    "                size=15,\n",
    "                color=\"black\"\n",
    "            )\n",
    "        )\n",
    ")\n",
    "\n",
    "for company in df.query(f\"company != 'Altor Solutions'\").company.unique():\n",
    "    fig.add_trace(go.Scattermapbox(\n",
    "            mode=\"markers\", \n",
    "            lat=df.query(f\"company == '{company}'\")[\"latitude\"],\n",
    "            lon=df.query(f\"company == '{company}'\")[\"longitude\"], \n",
    "            text=df.query(f\"company == '{company}'\")[\"text\"],\n",
    "            name=company,\n",
    "            opacity=0.7,\n",
    "            marker=dict(\n",
    "                # symbol=\"marker\",\n",
    "                size=15,\n",
    "                color=df.query(f\"company == '{company}'\")[\"color\"]\n",
    "            )\n",
    "        )\n",
    "    )\n",
    "\n",
    "fig.update_mapboxes(accesstoken=free_access_token) \n",
    "\n",
    "fig.update_layout(\n",
    "    title = 'Comparing Altor Locations with each Competitor<br>(Hover for info)',\n",
    "    height=600,\n",
    "    mapbox=dict(\n",
    "        style='open-street-map',\n",
    "        zoom=3,\n",
    "        center=dict(lon=df['longitude'].mean(), lat=df['latitude'].mean())\n",
    "    )\n",
    ") \n",
    "\n",
    "fig.show()\n"
   ]
  },
  {
   "cell_type": "markdown",
   "metadata": {},
   "source": []
  }
 ],
 "metadata": {
  "kernelspec": {
   "display_name": "base",
   "language": "python",
   "name": "python3"
  },
  "language_info": {
   "codemirror_mode": {
    "name": "ipython",
    "version": 3
   },
   "file_extension": ".py",
   "mimetype": "text/x-python",
   "name": "python",
   "nbconvert_exporter": "python",
   "pygments_lexer": "ipython3",
   "version": "3.12.7"
  }
 },
 "nbformat": 4,
 "nbformat_minor": 2
}
